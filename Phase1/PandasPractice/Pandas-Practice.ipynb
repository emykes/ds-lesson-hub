{
 "cells": [
  {
   "cell_type": "markdown",
   "metadata": {},
   "source": [
    "# All Pandas All The Time\n",
    "\n",
    "Pandas is a library we're going to be using pretty much every day in this course, so we're going to do a ton of practice so you can be on your way to becoming a _PANDAS MASTER_.\n",
    "\n",
    "![Kung fu panda excited](https://data.whicdn.com/images/201331793/original.gif)"
   ]
  },
  {
   "cell_type": "markdown",
   "metadata": {},
   "source": [
    "Let's continue with the data from the Austin Animal Shelter. \n",
    "\n",
    "Data source: [intakes data](https://data.austintexas.gov/Health-and-Community-Services/Austin-Animal-Center-Intakes/wter-evkm) and [outcomes data](https://data.austintexas.gov/Health-and-Community-Services/Austin-Animal-Center-Outcomes/9t4d-g238).\n",
    "\n",
    "Once again starting off with intake data, which is data describing the animals as they enter the shelter."
   ]
  },
  {
   "cell_type": "code",
   "execution_count": 1,
   "metadata": {},
   "outputs": [],
   "source": [
    "# Imports! Can't use pandas unless we bring it into our notebook\n",
    "import pandas as pd"
   ]
  },
  {
   "cell_type": "code",
   "execution_count": 2,
   "metadata": {},
   "outputs": [],
   "source": [
    "# Grab the data, naming the dataframe 'intakes' this time\n",
    "# Don't forget to read in DateTime as a datetime column\n",
    "intakes = pd.read_csv(\"data/Austin_Animal_Center_Intakes.csv\", \n",
    "                      parse_dates=['DateTime'])"
   ]
  },
  {
   "cell_type": "code",
   "execution_count": 3,
   "metadata": {},
   "outputs": [
    {
     "data": {
      "text/html": [
       "<div>\n",
       "<style scoped>\n",
       "    .dataframe tbody tr th:only-of-type {\n",
       "        vertical-align: middle;\n",
       "    }\n",
       "\n",
       "    .dataframe tbody tr th {\n",
       "        vertical-align: top;\n",
       "    }\n",
       "\n",
       "    .dataframe thead th {\n",
       "        text-align: right;\n",
       "    }\n",
       "</style>\n",
       "<table border=\"1\" class=\"dataframe\">\n",
       "  <thead>\n",
       "    <tr style=\"text-align: right;\">\n",
       "      <th></th>\n",
       "      <th>Animal ID</th>\n",
       "      <th>Name</th>\n",
       "      <th>DateTime</th>\n",
       "      <th>MonthYear</th>\n",
       "      <th>Found Location</th>\n",
       "      <th>Intake Type</th>\n",
       "      <th>Intake Condition</th>\n",
       "      <th>Animal Type</th>\n",
       "      <th>Sex upon Intake</th>\n",
       "      <th>Age upon Intake</th>\n",
       "      <th>Breed</th>\n",
       "      <th>Color</th>\n",
       "    </tr>\n",
       "  </thead>\n",
       "  <tbody>\n",
       "    <tr>\n",
       "      <th>0</th>\n",
       "      <td>A786884</td>\n",
       "      <td>*Brock</td>\n",
       "      <td>2019-01-03 16:19:00</td>\n",
       "      <td>01/03/2019 04:19:00 PM</td>\n",
       "      <td>2501 Magin Meadow Dr in Austin (TX)</td>\n",
       "      <td>Stray</td>\n",
       "      <td>Normal</td>\n",
       "      <td>Dog</td>\n",
       "      <td>Neutered Male</td>\n",
       "      <td>2 years</td>\n",
       "      <td>Beagle Mix</td>\n",
       "      <td>Tricolor</td>\n",
       "    </tr>\n",
       "    <tr>\n",
       "      <th>1</th>\n",
       "      <td>A706918</td>\n",
       "      <td>Belle</td>\n",
       "      <td>2015-07-05 12:59:00</td>\n",
       "      <td>07/05/2015 12:59:00 PM</td>\n",
       "      <td>9409 Bluegrass Dr in Austin (TX)</td>\n",
       "      <td>Stray</td>\n",
       "      <td>Normal</td>\n",
       "      <td>Dog</td>\n",
       "      <td>Spayed Female</td>\n",
       "      <td>8 years</td>\n",
       "      <td>English Springer Spaniel</td>\n",
       "      <td>White/Liver</td>\n",
       "    </tr>\n",
       "    <tr>\n",
       "      <th>2</th>\n",
       "      <td>A724273</td>\n",
       "      <td>Runster</td>\n",
       "      <td>2016-04-14 18:43:00</td>\n",
       "      <td>04/14/2016 06:43:00 PM</td>\n",
       "      <td>2818 Palomino Trail in Austin (TX)</td>\n",
       "      <td>Stray</td>\n",
       "      <td>Normal</td>\n",
       "      <td>Dog</td>\n",
       "      <td>Intact Male</td>\n",
       "      <td>11 months</td>\n",
       "      <td>Basenji Mix</td>\n",
       "      <td>Sable/White</td>\n",
       "    </tr>\n",
       "    <tr>\n",
       "      <th>3</th>\n",
       "      <td>A665644</td>\n",
       "      <td>NaN</td>\n",
       "      <td>2013-10-21 07:59:00</td>\n",
       "      <td>10/21/2013 07:59:00 AM</td>\n",
       "      <td>Austin (TX)</td>\n",
       "      <td>Stray</td>\n",
       "      <td>Sick</td>\n",
       "      <td>Cat</td>\n",
       "      <td>Intact Female</td>\n",
       "      <td>4 weeks</td>\n",
       "      <td>Domestic Shorthair Mix</td>\n",
       "      <td>Calico</td>\n",
       "    </tr>\n",
       "    <tr>\n",
       "      <th>4</th>\n",
       "      <td>A682524</td>\n",
       "      <td>Rio</td>\n",
       "      <td>2014-06-29 10:38:00</td>\n",
       "      <td>06/29/2014 10:38:00 AM</td>\n",
       "      <td>800 Grove Blvd in Austin (TX)</td>\n",
       "      <td>Stray</td>\n",
       "      <td>Normal</td>\n",
       "      <td>Dog</td>\n",
       "      <td>Neutered Male</td>\n",
       "      <td>4 years</td>\n",
       "      <td>Doberman Pinsch/Australian Cattle Dog</td>\n",
       "      <td>Tan/Gray</td>\n",
       "    </tr>\n",
       "  </tbody>\n",
       "</table>\n",
       "</div>"
      ],
      "text/plain": [
       "  Animal ID     Name            DateTime               MonthYear  \\\n",
       "0   A786884   *Brock 2019-01-03 16:19:00  01/03/2019 04:19:00 PM   \n",
       "1   A706918    Belle 2015-07-05 12:59:00  07/05/2015 12:59:00 PM   \n",
       "2   A724273  Runster 2016-04-14 18:43:00  04/14/2016 06:43:00 PM   \n",
       "3   A665644      NaN 2013-10-21 07:59:00  10/21/2013 07:59:00 AM   \n",
       "4   A682524      Rio 2014-06-29 10:38:00  06/29/2014 10:38:00 AM   \n",
       "\n",
       "                        Found Location Intake Type Intake Condition  \\\n",
       "0  2501 Magin Meadow Dr in Austin (TX)       Stray           Normal   \n",
       "1     9409 Bluegrass Dr in Austin (TX)       Stray           Normal   \n",
       "2   2818 Palomino Trail in Austin (TX)       Stray           Normal   \n",
       "3                          Austin (TX)       Stray             Sick   \n",
       "4        800 Grove Blvd in Austin (TX)       Stray           Normal   \n",
       "\n",
       "  Animal Type Sex upon Intake Age upon Intake  \\\n",
       "0         Dog   Neutered Male         2 years   \n",
       "1         Dog   Spayed Female         8 years   \n",
       "2         Dog     Intact Male       11 months   \n",
       "3         Cat   Intact Female         4 weeks   \n",
       "4         Dog   Neutered Male         4 years   \n",
       "\n",
       "                                   Breed        Color  \n",
       "0                             Beagle Mix     Tricolor  \n",
       "1               English Springer Spaniel  White/Liver  \n",
       "2                            Basenji Mix  Sable/White  \n",
       "3                 Domestic Shorthair Mix       Calico  \n",
       "4  Doberman Pinsch/Australian Cattle Dog     Tan/Gray  "
      ]
     },
     "execution_count": 3,
     "metadata": {},
     "output_type": "execute_result"
    }
   ],
   "source": [
    "# Check out the first few rows\n",
    "intakes.head()"
   ]
  },
  {
   "cell_type": "code",
   "execution_count": 4,
   "metadata": {
    "scrolled": true
   },
   "outputs": [
    {
     "name": "stdout",
     "output_type": "stream",
     "text": [
      "<class 'pandas.core.frame.DataFrame'>\n",
      "RangeIndex: 120403 entries, 0 to 120402\n",
      "Data columns (total 12 columns):\n",
      "Animal ID           120403 non-null object\n",
      "Name                82404 non-null object\n",
      "DateTime            120403 non-null datetime64[ns]\n",
      "MonthYear           120403 non-null object\n",
      "Found Location      120403 non-null object\n",
      "Intake Type         120403 non-null object\n",
      "Intake Condition    120403 non-null object\n",
      "Animal Type         120403 non-null object\n",
      "Sex upon Intake     120402 non-null object\n",
      "Age upon Intake     120403 non-null object\n",
      "Breed               120403 non-null object\n",
      "Color               120403 non-null object\n",
      "dtypes: datetime64[ns](1), object(11)\n",
      "memory usage: 11.0+ MB\n"
     ]
    }
   ],
   "source": [
    "# Check information on the dataframe\n",
    "intakes.info()"
   ]
  },
  {
   "cell_type": "markdown",
   "metadata": {},
   "source": [
    "Let's do some of the transformations we did yesterday: dropping the MonthYear column, and changing column names to be lowercase without spaces."
   ]
  },
  {
   "cell_type": "code",
   "execution_count": 5,
   "metadata": {},
   "outputs": [],
   "source": [
    "# Drop MonthYear\n",
    "intakes = intakes.drop(columns='MonthYear')"
   ]
  },
  {
   "cell_type": "code",
   "execution_count": 6,
   "metadata": {},
   "outputs": [],
   "source": [
    "# Rename columns\n",
    "intakes = intakes.rename(columns = lambda x: x.replace(\" \", \"_\").lower())"
   ]
  },
  {
   "cell_type": "code",
   "execution_count": 7,
   "metadata": {},
   "outputs": [
    {
     "data": {
      "text/html": [
       "<div>\n",
       "<style scoped>\n",
       "    .dataframe tbody tr th:only-of-type {\n",
       "        vertical-align: middle;\n",
       "    }\n",
       "\n",
       "    .dataframe tbody tr th {\n",
       "        vertical-align: top;\n",
       "    }\n",
       "\n",
       "    .dataframe thead th {\n",
       "        text-align: right;\n",
       "    }\n",
       "</style>\n",
       "<table border=\"1\" class=\"dataframe\">\n",
       "  <thead>\n",
       "    <tr style=\"text-align: right;\">\n",
       "      <th></th>\n",
       "      <th>animal_id</th>\n",
       "      <th>name</th>\n",
       "      <th>datetime</th>\n",
       "      <th>found_location</th>\n",
       "      <th>intake_type</th>\n",
       "      <th>intake_condition</th>\n",
       "      <th>animal_type</th>\n",
       "      <th>sex_upon_intake</th>\n",
       "      <th>age_upon_intake</th>\n",
       "      <th>breed</th>\n",
       "      <th>color</th>\n",
       "    </tr>\n",
       "  </thead>\n",
       "  <tbody>\n",
       "    <tr>\n",
       "      <th>0</th>\n",
       "      <td>A786884</td>\n",
       "      <td>*Brock</td>\n",
       "      <td>2019-01-03 16:19:00</td>\n",
       "      <td>2501 Magin Meadow Dr in Austin (TX)</td>\n",
       "      <td>Stray</td>\n",
       "      <td>Normal</td>\n",
       "      <td>Dog</td>\n",
       "      <td>Neutered Male</td>\n",
       "      <td>2 years</td>\n",
       "      <td>Beagle Mix</td>\n",
       "      <td>Tricolor</td>\n",
       "    </tr>\n",
       "    <tr>\n",
       "      <th>1</th>\n",
       "      <td>A706918</td>\n",
       "      <td>Belle</td>\n",
       "      <td>2015-07-05 12:59:00</td>\n",
       "      <td>9409 Bluegrass Dr in Austin (TX)</td>\n",
       "      <td>Stray</td>\n",
       "      <td>Normal</td>\n",
       "      <td>Dog</td>\n",
       "      <td>Spayed Female</td>\n",
       "      <td>8 years</td>\n",
       "      <td>English Springer Spaniel</td>\n",
       "      <td>White/Liver</td>\n",
       "    </tr>\n",
       "    <tr>\n",
       "      <th>2</th>\n",
       "      <td>A724273</td>\n",
       "      <td>Runster</td>\n",
       "      <td>2016-04-14 18:43:00</td>\n",
       "      <td>2818 Palomino Trail in Austin (TX)</td>\n",
       "      <td>Stray</td>\n",
       "      <td>Normal</td>\n",
       "      <td>Dog</td>\n",
       "      <td>Intact Male</td>\n",
       "      <td>11 months</td>\n",
       "      <td>Basenji Mix</td>\n",
       "      <td>Sable/White</td>\n",
       "    </tr>\n",
       "    <tr>\n",
       "      <th>3</th>\n",
       "      <td>A665644</td>\n",
       "      <td>NaN</td>\n",
       "      <td>2013-10-21 07:59:00</td>\n",
       "      <td>Austin (TX)</td>\n",
       "      <td>Stray</td>\n",
       "      <td>Sick</td>\n",
       "      <td>Cat</td>\n",
       "      <td>Intact Female</td>\n",
       "      <td>4 weeks</td>\n",
       "      <td>Domestic Shorthair Mix</td>\n",
       "      <td>Calico</td>\n",
       "    </tr>\n",
       "    <tr>\n",
       "      <th>4</th>\n",
       "      <td>A682524</td>\n",
       "      <td>Rio</td>\n",
       "      <td>2014-06-29 10:38:00</td>\n",
       "      <td>800 Grove Blvd in Austin (TX)</td>\n",
       "      <td>Stray</td>\n",
       "      <td>Normal</td>\n",
       "      <td>Dog</td>\n",
       "      <td>Neutered Male</td>\n",
       "      <td>4 years</td>\n",
       "      <td>Doberman Pinsch/Australian Cattle Dog</td>\n",
       "      <td>Tan/Gray</td>\n",
       "    </tr>\n",
       "  </tbody>\n",
       "</table>\n",
       "</div>"
      ],
      "text/plain": [
       "  animal_id     name            datetime                       found_location  \\\n",
       "0   A786884   *Brock 2019-01-03 16:19:00  2501 Magin Meadow Dr in Austin (TX)   \n",
       "1   A706918    Belle 2015-07-05 12:59:00     9409 Bluegrass Dr in Austin (TX)   \n",
       "2   A724273  Runster 2016-04-14 18:43:00   2818 Palomino Trail in Austin (TX)   \n",
       "3   A665644      NaN 2013-10-21 07:59:00                          Austin (TX)   \n",
       "4   A682524      Rio 2014-06-29 10:38:00        800 Grove Blvd in Austin (TX)   \n",
       "\n",
       "  intake_type intake_condition animal_type sex_upon_intake age_upon_intake  \\\n",
       "0       Stray           Normal         Dog   Neutered Male         2 years   \n",
       "1       Stray           Normal         Dog   Spayed Female         8 years   \n",
       "2       Stray           Normal         Dog     Intact Male       11 months   \n",
       "3       Stray             Sick         Cat   Intact Female         4 weeks   \n",
       "4       Stray           Normal         Dog   Neutered Male         4 years   \n",
       "\n",
       "                                   breed        color  \n",
       "0                             Beagle Mix     Tricolor  \n",
       "1               English Springer Spaniel  White/Liver  \n",
       "2                            Basenji Mix  Sable/White  \n",
       "3                 Domestic Shorthair Mix       Calico  \n",
       "4  Doberman Pinsch/Australian Cattle Dog     Tan/Gray  "
      ]
     },
     "execution_count": 7,
     "metadata": {},
     "output_type": "execute_result"
    }
   ],
   "source": [
    "# Sanity check\n",
    "intakes.head()"
   ]
  },
  {
   "cell_type": "markdown",
   "metadata": {},
   "source": [
    "## Dealing with Null Data\n",
    "\n",
    "It is a fact of the data science life - you will always be surrounded by 'dirty' data. What does it mean for data to be 'dirty'? What are some of the various ways that data can be 'dirty'?\n",
    "\n",
    "- missing values / blanks / NaNs / nulls\n",
    "- nonsense data - stuff that doesn't make sense in context (negatives, '9999', any other 'default' value that doesn't convey meaning)\n",
    "- repeated / duplicate values"
   ]
  },
  {
   "cell_type": "code",
   "execution_count": 8,
   "metadata": {},
   "outputs": [
    {
     "data": {
      "text/html": [
       "<div>\n",
       "<style scoped>\n",
       "    .dataframe tbody tr th:only-of-type {\n",
       "        vertical-align: middle;\n",
       "    }\n",
       "\n",
       "    .dataframe tbody tr th {\n",
       "        vertical-align: top;\n",
       "    }\n",
       "\n",
       "    .dataframe thead th {\n",
       "        text-align: right;\n",
       "    }\n",
       "</style>\n",
       "<table border=\"1\" class=\"dataframe\">\n",
       "  <thead>\n",
       "    <tr style=\"text-align: right;\">\n",
       "      <th></th>\n",
       "      <th>animal_id</th>\n",
       "      <th>name</th>\n",
       "      <th>datetime</th>\n",
       "      <th>found_location</th>\n",
       "      <th>intake_type</th>\n",
       "      <th>intake_condition</th>\n",
       "      <th>animal_type</th>\n",
       "      <th>sex_upon_intake</th>\n",
       "      <th>age_upon_intake</th>\n",
       "      <th>breed</th>\n",
       "      <th>color</th>\n",
       "    </tr>\n",
       "  </thead>\n",
       "  <tbody>\n",
       "    <tr>\n",
       "      <th>0</th>\n",
       "      <td>False</td>\n",
       "      <td>False</td>\n",
       "      <td>False</td>\n",
       "      <td>False</td>\n",
       "      <td>False</td>\n",
       "      <td>False</td>\n",
       "      <td>False</td>\n",
       "      <td>False</td>\n",
       "      <td>False</td>\n",
       "      <td>False</td>\n",
       "      <td>False</td>\n",
       "    </tr>\n",
       "    <tr>\n",
       "      <th>1</th>\n",
       "      <td>False</td>\n",
       "      <td>False</td>\n",
       "      <td>False</td>\n",
       "      <td>False</td>\n",
       "      <td>False</td>\n",
       "      <td>False</td>\n",
       "      <td>False</td>\n",
       "      <td>False</td>\n",
       "      <td>False</td>\n",
       "      <td>False</td>\n",
       "      <td>False</td>\n",
       "    </tr>\n",
       "    <tr>\n",
       "      <th>2</th>\n",
       "      <td>False</td>\n",
       "      <td>False</td>\n",
       "      <td>False</td>\n",
       "      <td>False</td>\n",
       "      <td>False</td>\n",
       "      <td>False</td>\n",
       "      <td>False</td>\n",
       "      <td>False</td>\n",
       "      <td>False</td>\n",
       "      <td>False</td>\n",
       "      <td>False</td>\n",
       "    </tr>\n",
       "    <tr>\n",
       "      <th>3</th>\n",
       "      <td>False</td>\n",
       "      <td>True</td>\n",
       "      <td>False</td>\n",
       "      <td>False</td>\n",
       "      <td>False</td>\n",
       "      <td>False</td>\n",
       "      <td>False</td>\n",
       "      <td>False</td>\n",
       "      <td>False</td>\n",
       "      <td>False</td>\n",
       "      <td>False</td>\n",
       "    </tr>\n",
       "    <tr>\n",
       "      <th>4</th>\n",
       "      <td>False</td>\n",
       "      <td>False</td>\n",
       "      <td>False</td>\n",
       "      <td>False</td>\n",
       "      <td>False</td>\n",
       "      <td>False</td>\n",
       "      <td>False</td>\n",
       "      <td>False</td>\n",
       "      <td>False</td>\n",
       "      <td>False</td>\n",
       "      <td>False</td>\n",
       "    </tr>\n",
       "    <tr>\n",
       "      <th>...</th>\n",
       "      <td>...</td>\n",
       "      <td>...</td>\n",
       "      <td>...</td>\n",
       "      <td>...</td>\n",
       "      <td>...</td>\n",
       "      <td>...</td>\n",
       "      <td>...</td>\n",
       "      <td>...</td>\n",
       "      <td>...</td>\n",
       "      <td>...</td>\n",
       "      <td>...</td>\n",
       "    </tr>\n",
       "    <tr>\n",
       "      <th>120398</th>\n",
       "      <td>False</td>\n",
       "      <td>False</td>\n",
       "      <td>False</td>\n",
       "      <td>False</td>\n",
       "      <td>False</td>\n",
       "      <td>False</td>\n",
       "      <td>False</td>\n",
       "      <td>False</td>\n",
       "      <td>False</td>\n",
       "      <td>False</td>\n",
       "      <td>False</td>\n",
       "    </tr>\n",
       "    <tr>\n",
       "      <th>120399</th>\n",
       "      <td>False</td>\n",
       "      <td>False</td>\n",
       "      <td>False</td>\n",
       "      <td>False</td>\n",
       "      <td>False</td>\n",
       "      <td>False</td>\n",
       "      <td>False</td>\n",
       "      <td>False</td>\n",
       "      <td>False</td>\n",
       "      <td>False</td>\n",
       "      <td>False</td>\n",
       "    </tr>\n",
       "    <tr>\n",
       "      <th>120400</th>\n",
       "      <td>False</td>\n",
       "      <td>False</td>\n",
       "      <td>False</td>\n",
       "      <td>False</td>\n",
       "      <td>False</td>\n",
       "      <td>False</td>\n",
       "      <td>False</td>\n",
       "      <td>False</td>\n",
       "      <td>False</td>\n",
       "      <td>False</td>\n",
       "      <td>False</td>\n",
       "    </tr>\n",
       "    <tr>\n",
       "      <th>120401</th>\n",
       "      <td>False</td>\n",
       "      <td>False</td>\n",
       "      <td>False</td>\n",
       "      <td>False</td>\n",
       "      <td>False</td>\n",
       "      <td>False</td>\n",
       "      <td>False</td>\n",
       "      <td>False</td>\n",
       "      <td>False</td>\n",
       "      <td>False</td>\n",
       "      <td>False</td>\n",
       "    </tr>\n",
       "    <tr>\n",
       "      <th>120402</th>\n",
       "      <td>False</td>\n",
       "      <td>True</td>\n",
       "      <td>False</td>\n",
       "      <td>False</td>\n",
       "      <td>False</td>\n",
       "      <td>False</td>\n",
       "      <td>False</td>\n",
       "      <td>False</td>\n",
       "      <td>False</td>\n",
       "      <td>False</td>\n",
       "      <td>False</td>\n",
       "    </tr>\n",
       "  </tbody>\n",
       "</table>\n",
       "<p>120403 rows × 11 columns</p>\n",
       "</div>"
      ],
      "text/plain": [
       "        animal_id   name  datetime  found_location  intake_type  \\\n",
       "0           False  False     False           False        False   \n",
       "1           False  False     False           False        False   \n",
       "2           False  False     False           False        False   \n",
       "3           False   True     False           False        False   \n",
       "4           False  False     False           False        False   \n",
       "...           ...    ...       ...             ...          ...   \n",
       "120398      False  False     False           False        False   \n",
       "120399      False  False     False           False        False   \n",
       "120400      False  False     False           False        False   \n",
       "120401      False  False     False           False        False   \n",
       "120402      False   True     False           False        False   \n",
       "\n",
       "        intake_condition  animal_type  sex_upon_intake  age_upon_intake  \\\n",
       "0                  False        False            False            False   \n",
       "1                  False        False            False            False   \n",
       "2                  False        False            False            False   \n",
       "3                  False        False            False            False   \n",
       "4                  False        False            False            False   \n",
       "...                  ...          ...              ...              ...   \n",
       "120398             False        False            False            False   \n",
       "120399             False        False            False            False   \n",
       "120400             False        False            False            False   \n",
       "120401             False        False            False            False   \n",
       "120402             False        False            False            False   \n",
       "\n",
       "        breed  color  \n",
       "0       False  False  \n",
       "1       False  False  \n",
       "2       False  False  \n",
       "3       False  False  \n",
       "4       False  False  \n",
       "...       ...    ...  \n",
       "120398  False  False  \n",
       "120399  False  False  \n",
       "120400  False  False  \n",
       "120401  False  False  \n",
       "120402  False  False  \n",
       "\n",
       "[120403 rows x 11 columns]"
      ]
     },
     "execution_count": 8,
     "metadata": {},
     "output_type": "execute_result"
    }
   ],
   "source": [
    "# Check for null values recognized by pandas as blank\n",
    "intakes.isna()"
   ]
  },
  {
   "cell_type": "code",
   "execution_count": 9,
   "metadata": {
    "scrolled": true
   },
   "outputs": [
    {
     "data": {
      "text/plain": [
       "animal_id               0\n",
       "name                37999\n",
       "datetime                0\n",
       "found_location          0\n",
       "intake_type             0\n",
       "intake_condition        0\n",
       "animal_type             0\n",
       "sex_upon_intake         1\n",
       "age_upon_intake         0\n",
       "breed                   0\n",
       "color                   0\n",
       "dtype: int64"
      ]
     },
     "execution_count": 9,
     "metadata": {},
     "output_type": "execute_result"
    }
   ],
   "source": [
    "# Code here for a more helpful null check\n",
    "intakes.isna().sum()"
   ]
  },
  {
   "cell_type": "markdown",
   "metadata": {},
   "source": [
    "There is no one way to deal with null values. What are some of the strategies we can use to deal with them?\n",
    "\n",
    "- change them to a measure of central tendency - mode, median, mean\n",
    "- change them to a nonsense number, so you can still see what was null\n",
    "- drop them\n"
   ]
  },
  {
   "cell_type": "markdown",
   "metadata": {},
   "source": [
    "How, in Pandas, can we fill null values recognized by Pandas as null? Let's practice by filling nulls for the Name column with some placeholder value, like 'No name'.\n",
    "\n",
    "Helpful link: https://pandas.pydata.org/pandas-docs/stable/reference/api/pandas.DataFrame.fillna.html"
   ]
  },
  {
   "cell_type": "code",
   "execution_count": 10,
   "metadata": {},
   "outputs": [],
   "source": [
    "# Code here to fill nulls in the Name column\n",
    "intakes['name'].fillna(value=\"No name\", inplace=True)"
   ]
  },
  {
   "cell_type": "markdown",
   "metadata": {},
   "source": [
    "Now let's check for nulls again..."
   ]
  },
  {
   "cell_type": "code",
   "execution_count": 11,
   "metadata": {},
   "outputs": [
    {
     "data": {
      "text/plain": [
       "animal_id           0\n",
       "name                0\n",
       "datetime            0\n",
       "found_location      0\n",
       "intake_type         0\n",
       "intake_condition    0\n",
       "animal_type         0\n",
       "sex_upon_intake     1\n",
       "age_upon_intake     0\n",
       "breed               0\n",
       "color               0\n",
       "dtype: int64"
      ]
     },
     "execution_count": 11,
     "metadata": {},
     "output_type": "execute_result"
    }
   ],
   "source": [
    "# Sanity check\n",
    "intakes.isna().sum()"
   ]
  },
  {
   "cell_type": "markdown",
   "metadata": {},
   "source": [
    "Let's try a different strategy for the one lonely null in the 'Sex upon Intake' column - let's just drop that row, since it's only one observation.\n",
    "\n",
    "Helpful link: https://pandas.pydata.org/pandas-docs/stable/reference/api/pandas.DataFrame.dropna.html"
   ]
  },
  {
   "cell_type": "code",
   "execution_count": 12,
   "metadata": {},
   "outputs": [],
   "source": [
    "# Code here to drop the whole row where Sex upon Intake is null\n",
    "intakes = intakes.dropna(subset=['sex_upon_intake'])"
   ]
  },
  {
   "cell_type": "code",
   "execution_count": 13,
   "metadata": {
    "scrolled": false
   },
   "outputs": [
    {
     "data": {
      "text/plain": [
       "animal_id           0\n",
       "name                0\n",
       "datetime            0\n",
       "found_location      0\n",
       "intake_type         0\n",
       "intake_condition    0\n",
       "animal_type         0\n",
       "sex_upon_intake     0\n",
       "age_upon_intake     0\n",
       "breed               0\n",
       "color               0\n",
       "dtype: int64"
      ]
     },
     "execution_count": 13,
     "metadata": {},
     "output_type": "execute_result"
    }
   ],
   "source": [
    "# Copy/paste code from above to re-check for nulls\n",
    "intakes.isna().sum()"
   ]
  },
  {
   "cell_type": "markdown",
   "metadata": {},
   "source": [
    "How do we find sneaky null values that aren't marked by Pandas as null?"
   ]
  },
  {
   "cell_type": "code",
   "execution_count": 14,
   "metadata": {},
   "outputs": [
    {
     "data": {
      "text/plain": [
       "1 year       21211\n",
       "2 years      18182\n",
       "1 month      11578\n",
       "3 years       7247\n",
       "2 months      6521\n",
       "4 years       4360\n",
       "4 weeks       4316\n",
       "5 years       3957\n",
       "3 weeks       3529\n",
       "3 months      3168\n",
       "4 months      3119\n",
       "5 months      2989\n",
       "6 years       2646\n",
       "2 weeks       2448\n",
       "6 months      2297\n",
       "7 years       2274\n",
       "8 years       2211\n",
       "7 months      1807\n",
       "9 months      1791\n",
       "10 years      1766\n",
       "8 months      1445\n",
       "9 years       1286\n",
       "1 week        1005\n",
       "10 months      964\n",
       "1 weeks        866\n",
       "12 years       854\n",
       "11 months      773\n",
       "0 years        748\n",
       "11 years       725\n",
       "1 day          622\n",
       "3 days         562\n",
       "13 years       552\n",
       "2 days         463\n",
       "14 years       374\n",
       "15 years       323\n",
       "4 days         322\n",
       "5 weeks        305\n",
       "6 days         299\n",
       "5 days         180\n",
       "16 years       135\n",
       "17 years        78\n",
       "18 years        47\n",
       "19 years        26\n",
       "20 years        17\n",
       "22 years         5\n",
       "-1 years         4\n",
       "21 years         1\n",
       "-3 years         1\n",
       "23 years         1\n",
       "25 years         1\n",
       "24 years         1\n",
       "Name: age_upon_intake, dtype: int64"
      ]
     },
     "execution_count": 14,
     "metadata": {},
     "output_type": "execute_result"
    }
   ],
   "source": [
    "# Run this cell without changes\n",
    "intakes['age_upon_intake'].value_counts()"
   ]
  },
  {
   "cell_type": "markdown",
   "metadata": {},
   "source": [
    "Analyze the values you're finding in the 'Age upon Intake' column. What doesn't quite fit here?\n",
    "\n",
    "**Note:** using `.value_counts()` is just one way to look at the values of a column. In this case, it works because we can see which values are the most common, and it's verbose enough to show even the less common values that might be problematic.\n",
    "\n",
    "So - how do we want to deal with the data in here that doesn't make sense?\n",
    "\n",
    "- Different options, but want people to recognize the negative values and want to change/fix those\n"
   ]
  },
  {
   "cell_type": "markdown",
   "metadata": {},
   "source": [
    "One strategy for dealing with data involves making it so that we can sort by age, and have a standard scale for age.\n",
    "\n",
    "First, let's see what that would look like if we try it as the column is now:"
   ]
  },
  {
   "cell_type": "code",
   "execution_count": 15,
   "metadata": {},
   "outputs": [
    {
     "data": {
      "text/plain": [
       "array(['-1 years', '-3 years', '0 years', '1 day', '1 month', '1 week',\n",
       "       '1 weeks', '1 year', '10 months', '10 years', '11 months',\n",
       "       '11 years', '12 years', '13 years', '14 years', '15 years',\n",
       "       '16 years', '17 years', '18 years', '19 years', '2 days',\n",
       "       '2 months', '2 weeks', '2 years', '20 years', '21 years',\n",
       "       '22 years', '23 years', '24 years', '25 years', '3 days',\n",
       "       '3 months', '3 weeks', '3 years', '4 days', '4 months', '4 weeks',\n",
       "       '4 years', '5 days', '5 months', '5 weeks', '5 years', '6 days',\n",
       "       '6 months', '6 years', '7 months', '7 years', '8 months',\n",
       "       '8 years', '9 months', '9 years'], dtype=object)"
      ]
     },
     "execution_count": 15,
     "metadata": {},
     "output_type": "execute_result"
    }
   ],
   "source": [
    "# Run this cell without changes\n",
    "intakes['age_upon_intake'].sort_values(ascending=True).unique()"
   ]
  },
  {
   "cell_type": "markdown",
   "metadata": {},
   "source": [
    "Let's unpack what is happening in that line of code - I take the column 'Age upon Intake' by itself (as a series), then sort the values from lowest to highest (`ascending=True`), then grab only unique results so we can see how it ordered the values without looking through all 115,088.\n",
    "\n",
    "Does that do what we want it to? Let's discuss how this worked - how did it sort?\n",
    "\n",
    "- Strings, so sorted the numbers and then the different units alphabetically\n"
   ]
  },
  {
   "cell_type": "markdown",
   "metadata": {},
   "source": [
    "To make our problem a bit easier, without dealing with the different ways that age is broken out, let's only look at animals where the age is given in years. How can we do that?"
   ]
  },
  {
   "cell_type": "code",
   "execution_count": 16,
   "metadata": {},
   "outputs": [],
   "source": [
    "# Code here to grab only the animals where age is given in years\n",
    "years_df = intakes.loc[intakes[\"age_upon_intake\"].str.contains(\"year\") == True]"
   ]
  },
  {
   "cell_type": "code",
   "execution_count": 17,
   "metadata": {},
   "outputs": [
    {
     "data": {
      "text/plain": [
       "(69033, 11)"
      ]
     },
     "execution_count": 17,
     "metadata": {},
     "output_type": "execute_result"
    }
   ],
   "source": [
    "# Check the shape of this subset dataframe\n",
    "years_df.shape"
   ]
  },
  {
   "cell_type": "code",
   "execution_count": 18,
   "metadata": {},
   "outputs": [
    {
     "data": {
      "text/plain": [
       "array(['2 years', '8 years', '4 years', '6 years', '14 years', '18 years',\n",
       "       '1 year', '3 years', '5 years', '15 years', '7 years', '12 years',\n",
       "       '10 years', '9 years', '11 years', '0 years', '13 years',\n",
       "       '17 years', '19 years', '16 years', '20 years', '-1 years',\n",
       "       '22 years', '21 years', '-3 years', '25 years', '24 years',\n",
       "       '23 years'], dtype=object)"
      ]
     },
     "execution_count": 18,
     "metadata": {},
     "output_type": "execute_result"
    }
   ],
   "source": [
    "# Sanity check\n",
    "years_df[\"age_upon_intake\"].unique()"
   ]
  },
  {
   "cell_type": "markdown",
   "metadata": {},
   "source": [
    "Can we grab only the number of years from this? Let's make a new column where we can put this data."
   ]
  },
  {
   "cell_type": "code",
   "execution_count": 19,
   "metadata": {
    "scrolled": false
   },
   "outputs": [
    {
     "name": "stderr",
     "output_type": "stream",
     "text": [
      "/opt/anaconda3/envs/learn-env/lib/python3.6/site-packages/ipykernel_launcher.py:2: SettingWithCopyWarning: \n",
      "A value is trying to be set on a copy of a slice from a DataFrame.\n",
      "Try using .loc[row_indexer,col_indexer] = value instead\n",
      "\n",
      "See the caveats in the documentation: http://pandas.pydata.org/pandas-docs/stable/user_guide/indexing.html#returning-a-view-versus-a-copy\n",
      "  \n"
     ]
    }
   ],
   "source": [
    "# Code here to make a new column, 'Age in Years'\n",
    "years_df[\"age_in_years\"] = years_df[\"age_upon_intake\"].str.split(\" \").str[0]\n",
    "\n",
    "# Did you get a 'SettingWithCopyWarning'? No worries - let's discuss"
   ]
  },
  {
   "cell_type": "code",
   "execution_count": 20,
   "metadata": {},
   "outputs": [
    {
     "data": {
      "text/plain": [
       "0         2\n",
       "1         8\n",
       "4         4\n",
       "5         2\n",
       "6         6\n",
       "         ..\n",
       "120397    1\n",
       "120399    2\n",
       "120400    3\n",
       "120401    3\n",
       "120402    2\n",
       "Name: age_in_years, Length: 69033, dtype: object"
      ]
     },
     "execution_count": 20,
     "metadata": {},
     "output_type": "execute_result"
    }
   ],
   "source": [
    "years_df[\"age_in_years\"]"
   ]
  },
  {
   "cell_type": "code",
   "execution_count": 21,
   "metadata": {
    "scrolled": false
   },
   "outputs": [
    {
     "name": "stderr",
     "output_type": "stream",
     "text": [
      "/opt/anaconda3/envs/learn-env/lib/python3.6/site-packages/ipykernel_launcher.py:2: SettingWithCopyWarning: \n",
      "A value is trying to be set on a copy of a slice from a DataFrame.\n",
      "Try using .loc[row_indexer,col_indexer] = value instead\n",
      "\n",
      "See the caveats in the documentation: http://pandas.pydata.org/pandas-docs/stable/user_guide/indexing.html#returning-a-view-versus-a-copy\n",
      "  \n"
     ]
    }
   ],
   "source": [
    "# Code here to transform that column to an integer\n",
    "years_df[\"age_in_years\"] = years_df[\"age_in_years\"].astype(\"int\")"
   ]
  },
  {
   "cell_type": "code",
   "execution_count": 22,
   "metadata": {},
   "outputs": [
    {
     "data": {
      "text/plain": [
       "0         2\n",
       "1         8\n",
       "4         4\n",
       "5         2\n",
       "6         6\n",
       "         ..\n",
       "120397    1\n",
       "120399    2\n",
       "120400    3\n",
       "120401    3\n",
       "120402    2\n",
       "Name: age_in_years, Length: 69033, dtype: int64"
      ]
     },
     "execution_count": 22,
     "metadata": {},
     "output_type": "execute_result"
    }
   ],
   "source": [
    "years_df[\"age_in_years\"]"
   ]
  },
  {
   "cell_type": "code",
   "execution_count": 23,
   "metadata": {},
   "outputs": [
    {
     "name": "stdout",
     "output_type": "stream",
     "text": [
      "<class 'pandas.core.frame.DataFrame'>\n",
      "Int64Index: 69033 entries, 0 to 120402\n",
      "Data columns (total 12 columns):\n",
      "animal_id           69033 non-null object\n",
      "name                69033 non-null object\n",
      "datetime            69033 non-null datetime64[ns]\n",
      "found_location      69033 non-null object\n",
      "intake_type         69033 non-null object\n",
      "intake_condition    69033 non-null object\n",
      "animal_type         69033 non-null object\n",
      "sex_upon_intake     69033 non-null object\n",
      "age_upon_intake     69033 non-null object\n",
      "breed               69033 non-null object\n",
      "color               69033 non-null object\n",
      "age_in_years        69033 non-null int64\n",
      "dtypes: datetime64[ns](1), int64(1), object(10)\n",
      "memory usage: 6.8+ MB\n"
     ]
    }
   ],
   "source": [
    "# Code here to check your work\n",
    "years_df.info()"
   ]
  },
  {
   "cell_type": "code",
   "execution_count": 24,
   "metadata": {},
   "outputs": [
    {
     "data": {
      "text/plain": [
       "count    69033.000000\n",
       "mean         3.420089\n",
       "std          3.167055\n",
       "min         -3.000000\n",
       "25%          1.000000\n",
       "50%          2.000000\n",
       "75%          5.000000\n",
       "max         25.000000\n",
       "Name: age_in_years, dtype: float64"
      ]
     },
     "execution_count": 24,
     "metadata": {},
     "output_type": "execute_result"
    }
   ],
   "source": [
    "# Code here to check some statistics on our now-numeric column\n",
    "years_df[\"age_in_years\"].describe()"
   ]
  },
  {
   "cell_type": "code",
   "execution_count": 25,
   "metadata": {},
   "outputs": [
    {
     "data": {
      "text/plain": [
       "array([-3, -1,  0,  1,  2,  3,  4,  5,  6,  7,  8,  9, 10, 11, 12, 13, 14,\n",
       "       15, 16, 17, 18, 19, 20, 21, 22, 23, 24, 25])"
      ]
     },
     "execution_count": 25,
     "metadata": {},
     "output_type": "execute_result"
    }
   ],
   "source": [
    "# Code here to check the unique values - in order!\n",
    "years_df[\"age_in_years\"].sort_values(ascending=True).unique()"
   ]
  },
  {
   "cell_type": "code",
   "execution_count": 26,
   "metadata": {},
   "outputs": [
    {
     "data": {
      "text/plain": [
       "3.4200889429693047"
      ]
     },
     "execution_count": 26,
     "metadata": {},
     "output_type": "execute_result"
    }
   ],
   "source": [
    "# Let's check the mean for our now-numeric column\n",
    "years_df[\"age_in_years\"].mean()"
   ]
  },
  {
   "cell_type": "code",
   "execution_count": 27,
   "metadata": {
    "scrolled": false
   },
   "outputs": [
    {
     "data": {
      "text/plain": [
       "2.0"
      ]
     },
     "execution_count": 27,
     "metadata": {},
     "output_type": "execute_result"
    }
   ],
   "source": [
    "# Now let's check the median\n",
    "years_df[\"age_in_years\"].median()"
   ]
  },
  {
   "cell_type": "markdown",
   "metadata": {},
   "source": [
    "Let's discuss this column - what does it mean that the mean and median are different? How will that change if we remove some of the nonsense numbers?\n",
    "\n",
    "- When mean =/= median, you know the data is skewed - not normally distributed\n",
    "- Removing some outliers may impact the distribution of the data\n",
    "- However, the outliers we see are below zero, and our mean is above our median - most of our data is below our mean value, so removing those outliers likely won't change that\n"
   ]
  },
  {
   "cell_type": "code",
   "execution_count": 28,
   "metadata": {},
   "outputs": [],
   "source": [
    "nonsense_years = [-3, -1, 0]\n",
    "# Note - since we haven't removed nonsense_years yet, median is affected by them\n",
    "year_median = years_df[\"age_in_years\"].median()"
   ]
  },
  {
   "cell_type": "code",
   "execution_count": 29,
   "metadata": {
    "scrolled": true
   },
   "outputs": [
    {
     "data": {
      "text/plain": [
       "753"
      ]
     },
     "execution_count": 29,
     "metadata": {},
     "output_type": "execute_result"
    }
   ],
   "source": [
    "years_df['age_in_years'].isin(nonsense_years).sum()"
   ]
  },
  {
   "cell_type": "code",
   "execution_count": 30,
   "metadata": {
    "scrolled": true
   },
   "outputs": [
    {
     "name": "stderr",
     "output_type": "stream",
     "text": [
      "/opt/anaconda3/envs/learn-env/lib/python3.6/site-packages/pandas/core/generic.py:6786: SettingWithCopyWarning: \n",
      "A value is trying to be set on a copy of a slice from a DataFrame\n",
      "\n",
      "See the caveats in the documentation: http://pandas.pydata.org/pandas-docs/stable/user_guide/indexing.html#returning-a-view-versus-a-copy\n",
      "  self._update_inplace(new_data)\n"
     ]
    }
   ],
   "source": [
    "# Code here to deal with those nonsense numbers\n",
    "years_df['age_in_years'].replace(nonsense_years, year_median, inplace=True)"
   ]
  },
  {
   "cell_type": "code",
   "execution_count": 31,
   "metadata": {
    "scrolled": true
   },
   "outputs": [
    {
     "data": {
      "text/plain": [
       "array([ 2,  8,  4,  6, 14, 18,  1,  3,  5, 15,  7, 12, 10,  9, 11, 13, 17,\n",
       "       19, 16, 20, 22, 21, 25, 24, 23])"
      ]
     },
     "execution_count": 31,
     "metadata": {},
     "output_type": "execute_result"
    }
   ],
   "source": [
    "# Sanity check\n",
    "years_df[\"age_in_years\"].unique()"
   ]
  },
  {
   "cell_type": "code",
   "execution_count": 33,
   "metadata": {},
   "outputs": [
    {
     "name": "stdout",
     "output_type": "stream",
     "text": [
      "3.4420059971318064\n",
      "2.0\n"
     ]
    }
   ],
   "source": [
    "# Code here to re-check your mean/median values\n",
    "print(years_df[\"age_in_years\"].mean()) # Went up!\n",
    "print(years_df[\"age_in_years\"].median()) # so, didn't change with removal"
   ]
  },
  {
   "cell_type": "markdown",
   "metadata": {},
   "source": [
    "## Group By\n",
    "\n",
    "We can use a `groupby` function to find out interesting patterns among groups in our data. Let's use one now to find the average age of each animal type in years."
   ]
  },
  {
   "cell_type": "code",
   "execution_count": 51,
   "metadata": {},
   "outputs": [
    {
     "data": {
      "text/plain": [
       "<pandas.core.groupby.generic.DataFrameGroupBy object at 0x7fe664116240>"
      ]
     },
     "execution_count": 51,
     "metadata": {},
     "output_type": "execute_result"
    }
   ],
   "source": [
    "# Run just a groupby on the animal_type column - what's the output?\n",
    "years_df.groupby(by='animal_type')"
   ]
  },
  {
   "cell_type": "code",
   "execution_count": 54,
   "metadata": {},
   "outputs": [
    {
     "data": {
      "text/html": [
       "<div>\n",
       "<style scoped>\n",
       "    .dataframe tbody tr th:only-of-type {\n",
       "        vertical-align: middle;\n",
       "    }\n",
       "\n",
       "    .dataframe tbody tr th {\n",
       "        vertical-align: top;\n",
       "    }\n",
       "\n",
       "    .dataframe thead th {\n",
       "        text-align: right;\n",
       "    }\n",
       "</style>\n",
       "<table border=\"1\" class=\"dataframe\">\n",
       "  <thead>\n",
       "    <tr style=\"text-align: right;\">\n",
       "      <th></th>\n",
       "      <th>age_in_years</th>\n",
       "    </tr>\n",
       "    <tr>\n",
       "      <th>animal_type</th>\n",
       "      <th></th>\n",
       "    </tr>\n",
       "  </thead>\n",
       "  <tbody>\n",
       "    <tr>\n",
       "      <th>Bird</th>\n",
       "      <td>1.725352</td>\n",
       "    </tr>\n",
       "    <tr>\n",
       "      <th>Cat</th>\n",
       "      <td>3.610673</td>\n",
       "    </tr>\n",
       "    <tr>\n",
       "      <th>Dog</th>\n",
       "      <td>3.591314</td>\n",
       "    </tr>\n",
       "    <tr>\n",
       "      <th>Livestock</th>\n",
       "      <td>1.571429</td>\n",
       "    </tr>\n",
       "    <tr>\n",
       "      <th>Other</th>\n",
       "      <td>1.583623</td>\n",
       "    </tr>\n",
       "  </tbody>\n",
       "</table>\n",
       "</div>"
      ],
      "text/plain": [
       "             age_in_years\n",
       "animal_type              \n",
       "Bird             1.725352\n",
       "Cat              3.610673\n",
       "Dog              3.591314\n",
       "Livestock        1.571429\n",
       "Other            1.583623"
      ]
     },
     "execution_count": 54,
     "metadata": {},
     "output_type": "execute_result"
    }
   ],
   "source": [
    "# Add an aggregation function\n",
    "years_df.groupby(by='animal_type').mean()"
   ]
  },
  {
   "cell_type": "markdown",
   "metadata": {},
   "source": [
    "## Dealing with Duplicates\n",
    "\n",
    "Let's go back to our full intakes dataframe"
   ]
  },
  {
   "cell_type": "code",
   "execution_count": 34,
   "metadata": {},
   "outputs": [
    {
     "data": {
      "text/html": [
       "<div>\n",
       "<style scoped>\n",
       "    .dataframe tbody tr th:only-of-type {\n",
       "        vertical-align: middle;\n",
       "    }\n",
       "\n",
       "    .dataframe tbody tr th {\n",
       "        vertical-align: top;\n",
       "    }\n",
       "\n",
       "    .dataframe thead th {\n",
       "        text-align: right;\n",
       "    }\n",
       "</style>\n",
       "<table border=\"1\" class=\"dataframe\">\n",
       "  <thead>\n",
       "    <tr style=\"text-align: right;\">\n",
       "      <th></th>\n",
       "      <th>animal_id</th>\n",
       "      <th>name</th>\n",
       "      <th>datetime</th>\n",
       "      <th>found_location</th>\n",
       "      <th>intake_type</th>\n",
       "      <th>intake_condition</th>\n",
       "      <th>animal_type</th>\n",
       "      <th>sex_upon_intake</th>\n",
       "      <th>age_upon_intake</th>\n",
       "      <th>breed</th>\n",
       "      <th>color</th>\n",
       "    </tr>\n",
       "  </thead>\n",
       "  <tbody>\n",
       "    <tr>\n",
       "      <th>0</th>\n",
       "      <td>A786884</td>\n",
       "      <td>*Brock</td>\n",
       "      <td>2019-01-03 16:19:00</td>\n",
       "      <td>2501 Magin Meadow Dr in Austin (TX)</td>\n",
       "      <td>Stray</td>\n",
       "      <td>Normal</td>\n",
       "      <td>Dog</td>\n",
       "      <td>Neutered Male</td>\n",
       "      <td>2 years</td>\n",
       "      <td>Beagle Mix</td>\n",
       "      <td>Tricolor</td>\n",
       "    </tr>\n",
       "    <tr>\n",
       "      <th>1</th>\n",
       "      <td>A706918</td>\n",
       "      <td>Belle</td>\n",
       "      <td>2015-07-05 12:59:00</td>\n",
       "      <td>9409 Bluegrass Dr in Austin (TX)</td>\n",
       "      <td>Stray</td>\n",
       "      <td>Normal</td>\n",
       "      <td>Dog</td>\n",
       "      <td>Spayed Female</td>\n",
       "      <td>8 years</td>\n",
       "      <td>English Springer Spaniel</td>\n",
       "      <td>White/Liver</td>\n",
       "    </tr>\n",
       "    <tr>\n",
       "      <th>2</th>\n",
       "      <td>A724273</td>\n",
       "      <td>Runster</td>\n",
       "      <td>2016-04-14 18:43:00</td>\n",
       "      <td>2818 Palomino Trail in Austin (TX)</td>\n",
       "      <td>Stray</td>\n",
       "      <td>Normal</td>\n",
       "      <td>Dog</td>\n",
       "      <td>Intact Male</td>\n",
       "      <td>11 months</td>\n",
       "      <td>Basenji Mix</td>\n",
       "      <td>Sable/White</td>\n",
       "    </tr>\n",
       "    <tr>\n",
       "      <th>3</th>\n",
       "      <td>A665644</td>\n",
       "      <td>No name</td>\n",
       "      <td>2013-10-21 07:59:00</td>\n",
       "      <td>Austin (TX)</td>\n",
       "      <td>Stray</td>\n",
       "      <td>Sick</td>\n",
       "      <td>Cat</td>\n",
       "      <td>Intact Female</td>\n",
       "      <td>4 weeks</td>\n",
       "      <td>Domestic Shorthair Mix</td>\n",
       "      <td>Calico</td>\n",
       "    </tr>\n",
       "    <tr>\n",
       "      <th>4</th>\n",
       "      <td>A682524</td>\n",
       "      <td>Rio</td>\n",
       "      <td>2014-06-29 10:38:00</td>\n",
       "      <td>800 Grove Blvd in Austin (TX)</td>\n",
       "      <td>Stray</td>\n",
       "      <td>Normal</td>\n",
       "      <td>Dog</td>\n",
       "      <td>Neutered Male</td>\n",
       "      <td>4 years</td>\n",
       "      <td>Doberman Pinsch/Australian Cattle Dog</td>\n",
       "      <td>Tan/Gray</td>\n",
       "    </tr>\n",
       "  </tbody>\n",
       "</table>\n",
       "</div>"
      ],
      "text/plain": [
       "  animal_id     name            datetime                       found_location  \\\n",
       "0   A786884   *Brock 2019-01-03 16:19:00  2501 Magin Meadow Dr in Austin (TX)   \n",
       "1   A706918    Belle 2015-07-05 12:59:00     9409 Bluegrass Dr in Austin (TX)   \n",
       "2   A724273  Runster 2016-04-14 18:43:00   2818 Palomino Trail in Austin (TX)   \n",
       "3   A665644  No name 2013-10-21 07:59:00                          Austin (TX)   \n",
       "4   A682524      Rio 2014-06-29 10:38:00        800 Grove Blvd in Austin (TX)   \n",
       "\n",
       "  intake_type intake_condition animal_type sex_upon_intake age_upon_intake  \\\n",
       "0       Stray           Normal         Dog   Neutered Male         2 years   \n",
       "1       Stray           Normal         Dog   Spayed Female         8 years   \n",
       "2       Stray           Normal         Dog     Intact Male       11 months   \n",
       "3       Stray             Sick         Cat   Intact Female         4 weeks   \n",
       "4       Stray           Normal         Dog   Neutered Male         4 years   \n",
       "\n",
       "                                   breed        color  \n",
       "0                             Beagle Mix     Tricolor  \n",
       "1               English Springer Spaniel  White/Liver  \n",
       "2                            Basenji Mix  Sable/White  \n",
       "3                 Domestic Shorthair Mix       Calico  \n",
       "4  Doberman Pinsch/Australian Cattle Dog     Tan/Gray  "
      ]
     },
     "execution_count": 34,
     "metadata": {},
     "output_type": "execute_result"
    }
   ],
   "source": [
    "intakes.head()"
   ]
  },
  {
   "cell_type": "code",
   "execution_count": 35,
   "metadata": {
    "scrolled": true
   },
   "outputs": [
    {
     "data": {
      "text/plain": [
       "18"
      ]
     },
     "execution_count": 35,
     "metadata": {},
     "output_type": "execute_result"
    }
   ],
   "source": [
    "# Check for duplicates\n",
    "intakes.duplicated().sum()"
   ]
  },
  {
   "cell_type": "code",
   "execution_count": 45,
   "metadata": {},
   "outputs": [
    {
     "data": {
      "text/plain": [
       "12756"
      ]
     },
     "execution_count": 45,
     "metadata": {},
     "output_type": "execute_result"
    }
   ],
   "source": [
    "# Now check specifically for Animal IDs that are duplicated\n",
    "intakes.duplicated(subset=['animal_id']).sum()\n",
    "# That's a lot!"
   ]
  },
  {
   "cell_type": "code",
   "execution_count": 46,
   "metadata": {},
   "outputs": [],
   "source": [
    "# Handle duplicates - only take the 1st intake for each animal\n",
    "# Save it as a new version, named clean_intakes\n",
    "clean_intakes = intakes.drop_duplicates(subset=['animal_id'])"
   ]
  },
  {
   "cell_type": "markdown",
   "metadata": {},
   "source": [
    "## Merging Dataframes\n",
    "\n",
    "We were given two data sources here - both an Intakes and an Outcomes CSV. Let's merge them!\n",
    "\n",
    "![Merge diagram from Data Science Made Simple](http://www.datasciencemadesimple.com/wp-content/uploads/2017/09/join-or-merge-in-python-pandas-1.png)\n",
    "\n",
    "[Image from Data Science Made Simple's post on Joining/Merging Pandas Data Frames](http://www.datasciencemadesimple.com/join-merge-data-frames-pandas-python/)"
   ]
  },
  {
   "cell_type": "code",
   "execution_count": 57,
   "metadata": {},
   "outputs": [],
   "source": [
    "# Read in our outcomes csv as a dataframe named outcomes\n",
    "outcomes = pd.read_csv('data/Austin_Animal_Center_Outcomes.csv')"
   ]
  },
  {
   "cell_type": "code",
   "execution_count": 59,
   "metadata": {
    "scrolled": true
   },
   "outputs": [
    {
     "data": {
      "text/html": [
       "<div>\n",
       "<style scoped>\n",
       "    .dataframe tbody tr th:only-of-type {\n",
       "        vertical-align: middle;\n",
       "    }\n",
       "\n",
       "    .dataframe tbody tr th {\n",
       "        vertical-align: top;\n",
       "    }\n",
       "\n",
       "    .dataframe thead th {\n",
       "        text-align: right;\n",
       "    }\n",
       "</style>\n",
       "<table border=\"1\" class=\"dataframe\">\n",
       "  <thead>\n",
       "    <tr style=\"text-align: right;\">\n",
       "      <th></th>\n",
       "      <th>Animal ID</th>\n",
       "      <th>Name</th>\n",
       "      <th>DateTime</th>\n",
       "      <th>MonthYear</th>\n",
       "      <th>Date of Birth</th>\n",
       "      <th>Outcome Type</th>\n",
       "      <th>Outcome Subtype</th>\n",
       "      <th>Animal Type</th>\n",
       "      <th>Sex upon Outcome</th>\n",
       "      <th>Age upon Outcome</th>\n",
       "      <th>Breed</th>\n",
       "      <th>Color</th>\n",
       "    </tr>\n",
       "  </thead>\n",
       "  <tbody>\n",
       "    <tr>\n",
       "      <th>0</th>\n",
       "      <td>A794011</td>\n",
       "      <td>Chunk</td>\n",
       "      <td>05/08/2019 06:20:00 PM</td>\n",
       "      <td>05/08/2019 06:20:00 PM</td>\n",
       "      <td>05/02/2017</td>\n",
       "      <td>Rto-Adopt</td>\n",
       "      <td>NaN</td>\n",
       "      <td>Cat</td>\n",
       "      <td>Neutered Male</td>\n",
       "      <td>2 years</td>\n",
       "      <td>Domestic Shorthair Mix</td>\n",
       "      <td>Brown Tabby/White</td>\n",
       "    </tr>\n",
       "    <tr>\n",
       "      <th>1</th>\n",
       "      <td>A776359</td>\n",
       "      <td>Gizmo</td>\n",
       "      <td>07/18/2018 04:02:00 PM</td>\n",
       "      <td>07/18/2018 04:02:00 PM</td>\n",
       "      <td>07/12/2017</td>\n",
       "      <td>Adoption</td>\n",
       "      <td>NaN</td>\n",
       "      <td>Dog</td>\n",
       "      <td>Neutered Male</td>\n",
       "      <td>1 year</td>\n",
       "      <td>Chihuahua Shorthair Mix</td>\n",
       "      <td>White/Brown</td>\n",
       "    </tr>\n",
       "    <tr>\n",
       "      <th>2</th>\n",
       "      <td>A720371</td>\n",
       "      <td>Moose</td>\n",
       "      <td>02/13/2016 05:59:00 PM</td>\n",
       "      <td>02/13/2016 05:59:00 PM</td>\n",
       "      <td>10/08/2015</td>\n",
       "      <td>Adoption</td>\n",
       "      <td>NaN</td>\n",
       "      <td>Dog</td>\n",
       "      <td>Neutered Male</td>\n",
       "      <td>4 months</td>\n",
       "      <td>Anatol Shepherd/Labrador Retriever</td>\n",
       "      <td>Buff</td>\n",
       "    </tr>\n",
       "    <tr>\n",
       "      <th>3</th>\n",
       "      <td>A674754</td>\n",
       "      <td>NaN</td>\n",
       "      <td>03/18/2014 11:47:00 AM</td>\n",
       "      <td>03/18/2014 11:47:00 AM</td>\n",
       "      <td>03/12/2014</td>\n",
       "      <td>Transfer</td>\n",
       "      <td>Partner</td>\n",
       "      <td>Cat</td>\n",
       "      <td>Intact Male</td>\n",
       "      <td>6 days</td>\n",
       "      <td>Domestic Shorthair Mix</td>\n",
       "      <td>Orange Tabby</td>\n",
       "    </tr>\n",
       "    <tr>\n",
       "      <th>4</th>\n",
       "      <td>A689724</td>\n",
       "      <td>*Donatello</td>\n",
       "      <td>10/18/2014 06:52:00 PM</td>\n",
       "      <td>10/18/2014 06:52:00 PM</td>\n",
       "      <td>08/01/2014</td>\n",
       "      <td>Adoption</td>\n",
       "      <td>NaN</td>\n",
       "      <td>Cat</td>\n",
       "      <td>Neutered Male</td>\n",
       "      <td>2 months</td>\n",
       "      <td>Domestic Shorthair Mix</td>\n",
       "      <td>Black</td>\n",
       "    </tr>\n",
       "  </tbody>\n",
       "</table>\n",
       "</div>"
      ],
      "text/plain": [
       "  Animal ID        Name                DateTime               MonthYear  \\\n",
       "0   A794011       Chunk  05/08/2019 06:20:00 PM  05/08/2019 06:20:00 PM   \n",
       "1   A776359       Gizmo  07/18/2018 04:02:00 PM  07/18/2018 04:02:00 PM   \n",
       "2   A720371       Moose  02/13/2016 05:59:00 PM  02/13/2016 05:59:00 PM   \n",
       "3   A674754         NaN  03/18/2014 11:47:00 AM  03/18/2014 11:47:00 AM   \n",
       "4   A689724  *Donatello  10/18/2014 06:52:00 PM  10/18/2014 06:52:00 PM   \n",
       "\n",
       "  Date of Birth Outcome Type Outcome Subtype Animal Type Sex upon Outcome  \\\n",
       "0    05/02/2017    Rto-Adopt             NaN         Cat    Neutered Male   \n",
       "1    07/12/2017     Adoption             NaN         Dog    Neutered Male   \n",
       "2    10/08/2015     Adoption             NaN         Dog    Neutered Male   \n",
       "3    03/12/2014     Transfer         Partner         Cat      Intact Male   \n",
       "4    08/01/2014     Adoption             NaN         Cat    Neutered Male   \n",
       "\n",
       "  Age upon Outcome                               Breed              Color  \n",
       "0          2 years              Domestic Shorthair Mix  Brown Tabby/White  \n",
       "1           1 year             Chihuahua Shorthair Mix        White/Brown  \n",
       "2         4 months  Anatol Shepherd/Labrador Retriever               Buff  \n",
       "3           6 days              Domestic Shorthair Mix       Orange Tabby  \n",
       "4         2 months              Domestic Shorthair Mix              Black  "
      ]
     },
     "execution_count": 59,
     "metadata": {},
     "output_type": "execute_result"
    }
   ],
   "source": [
    "# Check out our outcomes data\n",
    "outcomes.head()"
   ]
  },
  {
   "cell_type": "markdown",
   "metadata": {},
   "source": [
    "What column should we use to merge these DataFrames?\n",
    "\n",
    "- \n"
   ]
  },
  {
   "cell_type": "markdown",
   "metadata": {},
   "source": [
    "Let's do some quick cleaning on our outcomes dataframe..."
   ]
  },
  {
   "cell_type": "code",
   "execution_count": 61,
   "metadata": {},
   "outputs": [],
   "source": [
    "# Change the 'DateTime' column here to be recognized as datetime objects\n",
    "outcomes['DateTime'] = pd.to_datetime(outcomes['DateTime'])"
   ]
  },
  {
   "cell_type": "code",
   "execution_count": 64,
   "metadata": {},
   "outputs": [],
   "source": [
    "# Change column names to be lower case and remove spaces\n",
    "outcomes = outcomes.rename(columns= lambda x: x.replace(\" \", \"_\").lower())"
   ]
  },
  {
   "cell_type": "code",
   "execution_count": 65,
   "metadata": {},
   "outputs": [],
   "source": [
    "# Drop duplicate animal IDs, keeping only the 1st\n",
    "# Save this as clean_outcomes\n",
    "clean_outcomes = outcomes.drop_duplicates(subset=['animal_id'])"
   ]
  },
  {
   "cell_type": "code",
   "execution_count": 66,
   "metadata": {},
   "outputs": [
    {
     "data": {
      "text/html": [
       "<div>\n",
       "<style scoped>\n",
       "    .dataframe tbody tr th:only-of-type {\n",
       "        vertical-align: middle;\n",
       "    }\n",
       "\n",
       "    .dataframe tbody tr th {\n",
       "        vertical-align: top;\n",
       "    }\n",
       "\n",
       "    .dataframe thead th {\n",
       "        text-align: right;\n",
       "    }\n",
       "</style>\n",
       "<table border=\"1\" class=\"dataframe\">\n",
       "  <thead>\n",
       "    <tr style=\"text-align: right;\">\n",
       "      <th></th>\n",
       "      <th>animal_id</th>\n",
       "      <th>name</th>\n",
       "      <th>datetime</th>\n",
       "      <th>monthyear</th>\n",
       "      <th>date_of_birth</th>\n",
       "      <th>outcome_type</th>\n",
       "      <th>outcome_subtype</th>\n",
       "      <th>animal_type</th>\n",
       "      <th>sex_upon_outcome</th>\n",
       "      <th>age_upon_outcome</th>\n",
       "      <th>breed</th>\n",
       "      <th>color</th>\n",
       "    </tr>\n",
       "  </thead>\n",
       "  <tbody>\n",
       "    <tr>\n",
       "      <th>0</th>\n",
       "      <td>A794011</td>\n",
       "      <td>Chunk</td>\n",
       "      <td>2019-05-08 18:20:00</td>\n",
       "      <td>05/08/2019 06:20:00 PM</td>\n",
       "      <td>05/02/2017</td>\n",
       "      <td>Rto-Adopt</td>\n",
       "      <td>NaN</td>\n",
       "      <td>Cat</td>\n",
       "      <td>Neutered Male</td>\n",
       "      <td>2 years</td>\n",
       "      <td>Domestic Shorthair Mix</td>\n",
       "      <td>Brown Tabby/White</td>\n",
       "    </tr>\n",
       "    <tr>\n",
       "      <th>1</th>\n",
       "      <td>A776359</td>\n",
       "      <td>Gizmo</td>\n",
       "      <td>2018-07-18 16:02:00</td>\n",
       "      <td>07/18/2018 04:02:00 PM</td>\n",
       "      <td>07/12/2017</td>\n",
       "      <td>Adoption</td>\n",
       "      <td>NaN</td>\n",
       "      <td>Dog</td>\n",
       "      <td>Neutered Male</td>\n",
       "      <td>1 year</td>\n",
       "      <td>Chihuahua Shorthair Mix</td>\n",
       "      <td>White/Brown</td>\n",
       "    </tr>\n",
       "    <tr>\n",
       "      <th>2</th>\n",
       "      <td>A720371</td>\n",
       "      <td>Moose</td>\n",
       "      <td>2016-02-13 17:59:00</td>\n",
       "      <td>02/13/2016 05:59:00 PM</td>\n",
       "      <td>10/08/2015</td>\n",
       "      <td>Adoption</td>\n",
       "      <td>NaN</td>\n",
       "      <td>Dog</td>\n",
       "      <td>Neutered Male</td>\n",
       "      <td>4 months</td>\n",
       "      <td>Anatol Shepherd/Labrador Retriever</td>\n",
       "      <td>Buff</td>\n",
       "    </tr>\n",
       "    <tr>\n",
       "      <th>3</th>\n",
       "      <td>A674754</td>\n",
       "      <td>NaN</td>\n",
       "      <td>2014-03-18 11:47:00</td>\n",
       "      <td>03/18/2014 11:47:00 AM</td>\n",
       "      <td>03/12/2014</td>\n",
       "      <td>Transfer</td>\n",
       "      <td>Partner</td>\n",
       "      <td>Cat</td>\n",
       "      <td>Intact Male</td>\n",
       "      <td>6 days</td>\n",
       "      <td>Domestic Shorthair Mix</td>\n",
       "      <td>Orange Tabby</td>\n",
       "    </tr>\n",
       "    <tr>\n",
       "      <th>4</th>\n",
       "      <td>A689724</td>\n",
       "      <td>*Donatello</td>\n",
       "      <td>2014-10-18 18:52:00</td>\n",
       "      <td>10/18/2014 06:52:00 PM</td>\n",
       "      <td>08/01/2014</td>\n",
       "      <td>Adoption</td>\n",
       "      <td>NaN</td>\n",
       "      <td>Cat</td>\n",
       "      <td>Neutered Male</td>\n",
       "      <td>2 months</td>\n",
       "      <td>Domestic Shorthair Mix</td>\n",
       "      <td>Black</td>\n",
       "    </tr>\n",
       "  </tbody>\n",
       "</table>\n",
       "</div>"
      ],
      "text/plain": [
       "  animal_id        name            datetime               monthyear  \\\n",
       "0   A794011       Chunk 2019-05-08 18:20:00  05/08/2019 06:20:00 PM   \n",
       "1   A776359       Gizmo 2018-07-18 16:02:00  07/18/2018 04:02:00 PM   \n",
       "2   A720371       Moose 2016-02-13 17:59:00  02/13/2016 05:59:00 PM   \n",
       "3   A674754         NaN 2014-03-18 11:47:00  03/18/2014 11:47:00 AM   \n",
       "4   A689724  *Donatello 2014-10-18 18:52:00  10/18/2014 06:52:00 PM   \n",
       "\n",
       "  date_of_birth outcome_type outcome_subtype animal_type sex_upon_outcome  \\\n",
       "0    05/02/2017    Rto-Adopt             NaN         Cat    Neutered Male   \n",
       "1    07/12/2017     Adoption             NaN         Dog    Neutered Male   \n",
       "2    10/08/2015     Adoption             NaN         Dog    Neutered Male   \n",
       "3    03/12/2014     Transfer         Partner         Cat      Intact Male   \n",
       "4    08/01/2014     Adoption             NaN         Cat    Neutered Male   \n",
       "\n",
       "  age_upon_outcome                               breed              color  \n",
       "0          2 years              Domestic Shorthair Mix  Brown Tabby/White  \n",
       "1           1 year             Chihuahua Shorthair Mix        White/Brown  \n",
       "2         4 months  Anatol Shepherd/Labrador Retriever               Buff  \n",
       "3           6 days              Domestic Shorthair Mix       Orange Tabby  \n",
       "4         2 months              Domestic Shorthair Mix              Black  "
      ]
     },
     "execution_count": 66,
     "metadata": {},
     "output_type": "execute_result"
    }
   ],
   "source": [
    "# Sanity check\n",
    "clean_outcomes.head()"
   ]
  },
  {
   "cell_type": "markdown",
   "metadata": {},
   "source": [
    "Now... let's merge!"
   ]
  },
  {
   "cell_type": "code",
   "execution_count": 73,
   "metadata": {},
   "outputs": [],
   "source": [
    "# Code here to merge dataframes\n",
    "combined_df = clean_intakes.merge(clean_outcomes, on='animal_id',\n",
    "                                  suffixes = ['_intake', '_outcome'])"
   ]
  },
  {
   "cell_type": "code",
   "execution_count": 74,
   "metadata": {
    "scrolled": true
   },
   "outputs": [
    {
     "data": {
      "text/html": [
       "<div>\n",
       "<style scoped>\n",
       "    .dataframe tbody tr th:only-of-type {\n",
       "        vertical-align: middle;\n",
       "    }\n",
       "\n",
       "    .dataframe tbody tr th {\n",
       "        vertical-align: top;\n",
       "    }\n",
       "\n",
       "    .dataframe thead th {\n",
       "        text-align: right;\n",
       "    }\n",
       "</style>\n",
       "<table border=\"1\" class=\"dataframe\">\n",
       "  <thead>\n",
       "    <tr style=\"text-align: right;\">\n",
       "      <th></th>\n",
       "      <th>animal_id</th>\n",
       "      <th>name_intake</th>\n",
       "      <th>datetime_intake</th>\n",
       "      <th>found_location</th>\n",
       "      <th>intake_type</th>\n",
       "      <th>intake_condition</th>\n",
       "      <th>animal_type_intake</th>\n",
       "      <th>sex_upon_intake</th>\n",
       "      <th>age_upon_intake</th>\n",
       "      <th>breed_intake</th>\n",
       "      <th>...</th>\n",
       "      <th>datetime_outcome</th>\n",
       "      <th>monthyear</th>\n",
       "      <th>date_of_birth</th>\n",
       "      <th>outcome_type</th>\n",
       "      <th>outcome_subtype</th>\n",
       "      <th>animal_type_outcome</th>\n",
       "      <th>sex_upon_outcome</th>\n",
       "      <th>age_upon_outcome</th>\n",
       "      <th>breed_outcome</th>\n",
       "      <th>color_outcome</th>\n",
       "    </tr>\n",
       "  </thead>\n",
       "  <tbody>\n",
       "    <tr>\n",
       "      <th>0</th>\n",
       "      <td>A786884</td>\n",
       "      <td>*Brock</td>\n",
       "      <td>2019-01-03 16:19:00</td>\n",
       "      <td>2501 Magin Meadow Dr in Austin (TX)</td>\n",
       "      <td>Stray</td>\n",
       "      <td>Normal</td>\n",
       "      <td>Dog</td>\n",
       "      <td>Neutered Male</td>\n",
       "      <td>2 years</td>\n",
       "      <td>Beagle Mix</td>\n",
       "      <td>...</td>\n",
       "      <td>2019-01-08 15:11:00</td>\n",
       "      <td>01/08/2019 03:11:00 PM</td>\n",
       "      <td>01/03/2017</td>\n",
       "      <td>Transfer</td>\n",
       "      <td>Partner</td>\n",
       "      <td>Dog</td>\n",
       "      <td>Neutered Male</td>\n",
       "      <td>2 years</td>\n",
       "      <td>Beagle Mix</td>\n",
       "      <td>Tricolor</td>\n",
       "    </tr>\n",
       "    <tr>\n",
       "      <th>1</th>\n",
       "      <td>A706918</td>\n",
       "      <td>Belle</td>\n",
       "      <td>2015-07-05 12:59:00</td>\n",
       "      <td>9409 Bluegrass Dr in Austin (TX)</td>\n",
       "      <td>Stray</td>\n",
       "      <td>Normal</td>\n",
       "      <td>Dog</td>\n",
       "      <td>Spayed Female</td>\n",
       "      <td>8 years</td>\n",
       "      <td>English Springer Spaniel</td>\n",
       "      <td>...</td>\n",
       "      <td>2015-07-05 15:13:00</td>\n",
       "      <td>07/05/2015 03:13:00 PM</td>\n",
       "      <td>07/05/2007</td>\n",
       "      <td>Return to Owner</td>\n",
       "      <td>NaN</td>\n",
       "      <td>Dog</td>\n",
       "      <td>Spayed Female</td>\n",
       "      <td>8 years</td>\n",
       "      <td>English Springer Spaniel</td>\n",
       "      <td>White/Liver</td>\n",
       "    </tr>\n",
       "    <tr>\n",
       "      <th>2</th>\n",
       "      <td>A724273</td>\n",
       "      <td>Runster</td>\n",
       "      <td>2016-04-14 18:43:00</td>\n",
       "      <td>2818 Palomino Trail in Austin (TX)</td>\n",
       "      <td>Stray</td>\n",
       "      <td>Normal</td>\n",
       "      <td>Dog</td>\n",
       "      <td>Intact Male</td>\n",
       "      <td>11 months</td>\n",
       "      <td>Basenji Mix</td>\n",
       "      <td>...</td>\n",
       "      <td>2016-04-21 17:17:00</td>\n",
       "      <td>04/21/2016 05:17:00 PM</td>\n",
       "      <td>04/17/2015</td>\n",
       "      <td>Return to Owner</td>\n",
       "      <td>NaN</td>\n",
       "      <td>Dog</td>\n",
       "      <td>Neutered Male</td>\n",
       "      <td>1 year</td>\n",
       "      <td>Basenji Mix</td>\n",
       "      <td>Sable/White</td>\n",
       "    </tr>\n",
       "    <tr>\n",
       "      <th>3</th>\n",
       "      <td>A665644</td>\n",
       "      <td>No name</td>\n",
       "      <td>2013-10-21 07:59:00</td>\n",
       "      <td>Austin (TX)</td>\n",
       "      <td>Stray</td>\n",
       "      <td>Sick</td>\n",
       "      <td>Cat</td>\n",
       "      <td>Intact Female</td>\n",
       "      <td>4 weeks</td>\n",
       "      <td>Domestic Shorthair Mix</td>\n",
       "      <td>...</td>\n",
       "      <td>2013-10-21 11:39:00</td>\n",
       "      <td>10/21/2013 11:39:00 AM</td>\n",
       "      <td>09/21/2013</td>\n",
       "      <td>Transfer</td>\n",
       "      <td>Partner</td>\n",
       "      <td>Cat</td>\n",
       "      <td>Intact Female</td>\n",
       "      <td>4 weeks</td>\n",
       "      <td>Domestic Shorthair Mix</td>\n",
       "      <td>Calico</td>\n",
       "    </tr>\n",
       "    <tr>\n",
       "      <th>4</th>\n",
       "      <td>A682524</td>\n",
       "      <td>Rio</td>\n",
       "      <td>2014-06-29 10:38:00</td>\n",
       "      <td>800 Grove Blvd in Austin (TX)</td>\n",
       "      <td>Stray</td>\n",
       "      <td>Normal</td>\n",
       "      <td>Dog</td>\n",
       "      <td>Neutered Male</td>\n",
       "      <td>4 years</td>\n",
       "      <td>Doberman Pinsch/Australian Cattle Dog</td>\n",
       "      <td>...</td>\n",
       "      <td>2014-07-02 14:16:00</td>\n",
       "      <td>07/02/2014 02:16:00 PM</td>\n",
       "      <td>06/29/2010</td>\n",
       "      <td>Return to Owner</td>\n",
       "      <td>NaN</td>\n",
       "      <td>Dog</td>\n",
       "      <td>Neutered Male</td>\n",
       "      <td>4 years</td>\n",
       "      <td>Doberman Pinsch/Australian Cattle Dog</td>\n",
       "      <td>Tan/Gray</td>\n",
       "    </tr>\n",
       "  </tbody>\n",
       "</table>\n",
       "<p>5 rows × 22 columns</p>\n",
       "</div>"
      ],
      "text/plain": [
       "  animal_id name_intake     datetime_intake  \\\n",
       "0   A786884      *Brock 2019-01-03 16:19:00   \n",
       "1   A706918       Belle 2015-07-05 12:59:00   \n",
       "2   A724273     Runster 2016-04-14 18:43:00   \n",
       "3   A665644     No name 2013-10-21 07:59:00   \n",
       "4   A682524         Rio 2014-06-29 10:38:00   \n",
       "\n",
       "                        found_location intake_type intake_condition  \\\n",
       "0  2501 Magin Meadow Dr in Austin (TX)       Stray           Normal   \n",
       "1     9409 Bluegrass Dr in Austin (TX)       Stray           Normal   \n",
       "2   2818 Palomino Trail in Austin (TX)       Stray           Normal   \n",
       "3                          Austin (TX)       Stray             Sick   \n",
       "4        800 Grove Blvd in Austin (TX)       Stray           Normal   \n",
       "\n",
       "  animal_type_intake sex_upon_intake age_upon_intake  \\\n",
       "0                Dog   Neutered Male         2 years   \n",
       "1                Dog   Spayed Female         8 years   \n",
       "2                Dog     Intact Male       11 months   \n",
       "3                Cat   Intact Female         4 weeks   \n",
       "4                Dog   Neutered Male         4 years   \n",
       "\n",
       "                            breed_intake  ...    datetime_outcome  \\\n",
       "0                             Beagle Mix  ... 2019-01-08 15:11:00   \n",
       "1               English Springer Spaniel  ... 2015-07-05 15:13:00   \n",
       "2                            Basenji Mix  ... 2016-04-21 17:17:00   \n",
       "3                 Domestic Shorthair Mix  ... 2013-10-21 11:39:00   \n",
       "4  Doberman Pinsch/Australian Cattle Dog  ... 2014-07-02 14:16:00   \n",
       "\n",
       "                monthyear date_of_birth     outcome_type outcome_subtype  \\\n",
       "0  01/08/2019 03:11:00 PM    01/03/2017         Transfer         Partner   \n",
       "1  07/05/2015 03:13:00 PM    07/05/2007  Return to Owner             NaN   \n",
       "2  04/21/2016 05:17:00 PM    04/17/2015  Return to Owner             NaN   \n",
       "3  10/21/2013 11:39:00 AM    09/21/2013         Transfer         Partner   \n",
       "4  07/02/2014 02:16:00 PM    06/29/2010  Return to Owner             NaN   \n",
       "\n",
       "  animal_type_outcome sex_upon_outcome age_upon_outcome  \\\n",
       "0                 Dog    Neutered Male          2 years   \n",
       "1                 Dog    Spayed Female          8 years   \n",
       "2                 Dog    Neutered Male           1 year   \n",
       "3                 Cat    Intact Female          4 weeks   \n",
       "4                 Dog    Neutered Male          4 years   \n",
       "\n",
       "                           breed_outcome color_outcome  \n",
       "0                             Beagle Mix      Tricolor  \n",
       "1               English Springer Spaniel   White/Liver  \n",
       "2                            Basenji Mix   Sable/White  \n",
       "3                 Domestic Shorthair Mix        Calico  \n",
       "4  Doberman Pinsch/Australian Cattle Dog      Tan/Gray  \n",
       "\n",
       "[5 rows x 22 columns]"
      ]
     },
     "execution_count": 74,
     "metadata": {},
     "output_type": "execute_result"
    }
   ],
   "source": [
    "# Code here to check out the details of our new dataframe\n",
    "combined_df.head()"
   ]
  },
  {
   "cell_type": "code",
   "execution_count": 75,
   "metadata": {},
   "outputs": [
    {
     "name": "stdout",
     "output_type": "stream",
     "text": [
      "<class 'pandas.core.frame.DataFrame'>\n",
      "Int64Index: 106902 entries, 0 to 106901\n",
      "Data columns (total 22 columns):\n",
      "animal_id              106902 non-null object\n",
      "name_intake            106902 non-null object\n",
      "datetime_intake        106902 non-null datetime64[ns]\n",
      "found_location         106902 non-null object\n",
      "intake_type            106902 non-null object\n",
      "intake_condition       106902 non-null object\n",
      "animal_type_intake     106902 non-null object\n",
      "sex_upon_intake        106902 non-null object\n",
      "age_upon_intake        106902 non-null object\n",
      "breed_intake           106902 non-null object\n",
      "color_intake           106902 non-null object\n",
      "name_outcome           69502 non-null object\n",
      "datetime_outcome       106902 non-null datetime64[ns]\n",
      "monthyear              106902 non-null object\n",
      "date_of_birth          106902 non-null object\n",
      "outcome_type           106894 non-null object\n",
      "outcome_subtype        52224 non-null object\n",
      "animal_type_outcome    106902 non-null object\n",
      "sex_upon_outcome       106902 non-null object\n",
      "age_upon_outcome       106899 non-null object\n",
      "breed_outcome          106902 non-null object\n",
      "color_outcome          106902 non-null object\n",
      "dtypes: datetime64[ns](2), object(20)\n",
      "memory usage: 18.8+ MB\n"
     ]
    }
   ],
   "source": [
    "combined_df.info()"
   ]
  },
  {
   "cell_type": "markdown",
   "metadata": {},
   "source": [
    "Let's discuss - can anyone guess why I had us remove duplicates before this merge? What would happen if I didn't? How could we make our combined_df better?\n",
    "\n",
    "- T=the combined df might be huge if we left duplicates - would make many possible merges, would need to find a better cleaner solution to merge the two and actually pair up each intake to its subsequent outcome (could make an 'instance' column showing whether this was the first/second/etc time that animal came in the shelter)\n",
    "    - Can show this by merging intakes/outcomes instead of clean_intakes/clean_outcomes and comparing lengths of the subsequent dfs\n",
    "- could merge on more columns if there are things that should be the same for each animal every time (color, breed, etc)\n"
   ]
  },
  {
   "cell_type": "markdown",
   "metadata": {},
   "source": [
    "## Level Up!\n",
    "\n",
    "1. Find the **age in days** for all animals, not just the ones whose age is provided in years. Be sure to do this on the original dataframe, not just on subsets of the dataframe.\n",
    "\n",
    "   - (Assume a year is 365 days, and a month is 30 days)\n",
    "\n",
    "        \n",
    "2. Ask a few questions of the combined dataframe that you couldn't figure out by just looking at the intakes or outcomes dataframes by themselves.\n",
    "\n",
    "   - Example: Can you find out how long each animal in the combined dataframe has been in the shelter? \n",
    "        \n",
    "       - Hint: Check out Date Time objects - a new data type that isn't a string or an integer, but which Pandas can recognize as time! https://pandas.pydata.org/pandas-docs/stable/user_guide/timeseries.html"
   ]
  },
  {
   "cell_type": "code",
   "execution_count": 40,
   "metadata": {},
   "outputs": [],
   "source": [
    "# Code here to work on level up #1\n"
   ]
  },
  {
   "cell_type": "code",
   "execution_count": null,
   "metadata": {},
   "outputs": [],
   "source": []
  },
  {
   "cell_type": "code",
   "execution_count": null,
   "metadata": {},
   "outputs": [],
   "source": []
  },
  {
   "cell_type": "code",
   "execution_count": 41,
   "metadata": {},
   "outputs": [],
   "source": [
    "# Code here to work on level up #2\n"
   ]
  },
  {
   "cell_type": "code",
   "execution_count": null,
   "metadata": {},
   "outputs": [],
   "source": []
  },
  {
   "cell_type": "code",
   "execution_count": null,
   "metadata": {},
   "outputs": [],
   "source": []
  }
 ],
 "metadata": {
  "kernelspec": {
   "display_name": "Python 3",
   "language": "python",
   "name": "python3"
  },
  "language_info": {
   "codemirror_mode": {
    "name": "ipython",
    "version": 3
   },
   "file_extension": ".py",
   "mimetype": "text/x-python",
   "name": "python",
   "nbconvert_exporter": "python",
   "pygments_lexer": "ipython3",
   "version": "3.8.5"
  }
 },
 "nbformat": 4,
 "nbformat_minor": 2
}
