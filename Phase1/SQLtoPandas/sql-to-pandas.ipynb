{
 "cells": [
  {
   "cell_type": "markdown",
   "metadata": {
    "slideshow": {
     "slide_type": "slide"
    }
   },
   "source": [
    "![sql](images/sql-logo.jpg)\n",
    "\n",
    "# Databases, SQL, and Connecting them to `pandas`"
   ]
  },
  {
   "cell_type": "markdown",
   "metadata": {
    "slideshow": {
     "slide_type": "slide"
    }
   },
   "source": [
    "Long before we can do any kind of machine learning, we need access to data - most often stored in databases.\n",
    "\n",
    "![hierarchy](images/ai-hierachy.png)\n",
    "\n",
    "[Image Source](https://hackernoon.com/the-ai-hierarchy-of-needs-18f111fcc007)\n",
    "\n",
    "> ^ If you haven't yet read about the AI Hierarchy of Needs, I can't recommend Monica Rogati’s fantastic blog post enough! Click the image source link to give it a read.\n",
    "\n",
    "The task of accessing data - **Extracting, Transforming and Loading** data, often shortened to **ETL** - often falls to Data Engineers, and so today we'll be wearing the hat of a Data Engineer in order to see what it means to access data where it actually is stored."
   ]
  },
  {
   "cell_type": "markdown",
   "metadata": {},
   "source": [
    "## What does it mean to **Engineer Data**?\n",
    "\n",
    "Let's start with a basic scenario: You have *no* current database. How would you set it up?\n",
    "\n",
    "Data-needs considerations:\n",
    "\n",
    "- What you want to store\n",
    "- What \"views\" you anticipate wanting in the future\n",
    "\n",
    "Structure considerations:\n",
    "\n",
    "- Speed of retrieval\n",
    "- How much data you are accessing\n",
    "- How much you are storing"
   ]
  },
  {
   "cell_type": "markdown",
   "metadata": {
    "slideshow": {
     "slide_type": "slide"
    }
   },
   "source": [
    "### What is a Relational Database? \n",
    "\n",
    "> \"Most databases today are relational databases, named such because they deal with tables of data related by a common field.\"\n",
    "> - [MariaDB's Introduction to Relational Databases tutorial](https://mariadb.com/kb/en/introduction-to-relational-databases/)\n",
    "\n",
    "From that description, we know a few things - databases are made up of tables, which contain data that is related between tables.\n",
    "\n",
    "Let's look at an example and unpack:\n",
    "\n",
    "![example database schema](images/example-database-schema.png)\n",
    "\n",
    "[Image Source](http://www.cs.montana.edu/~halla/csci440/n7/n7.html)"
   ]
  },
  {
   "cell_type": "markdown",
   "metadata": {},
   "source": [
    "Lots of symbols we can examine here! These **Entity-Relationship Diagrams** (ERDs) will tell you a lot about how tables relate to each other.\n",
    "\n",
    "First lets look at the symbols along the sides of each line in there - each line is the name of a column, followed by the allowed datatype in all caps. The symbols?\n",
    "\n",
    "- Small Key indicates a primary key\n",
    "- Blue Diamond indicates a field/attribute\n",
    "- Red Diamond indicates a foreign key\n",
    "\n",
    "As for the symbols along the lines - relationship between keys! This type of notation is called Crow's Feet notation.\n",
    "\n",
    "<img alt=\"database schema connectors explained\" src=\"images/databaseschemasymbols.png\" width=400>\n",
    "\n",
    "[Image Source](https://www.lucidchart.com/pages/ER-diagram-symbols-and-meaning)\n",
    "\n",
    "Of course - this is but one way of visualizing these relationships (there are others)"
   ]
  },
  {
   "cell_type": "markdown",
   "metadata": {},
   "source": [
    "## Enter SQL\n",
    "\n",
    "SQL - **Structured Query Language** - is a standard language for connecting to, changing and retrieving data stored in relational databases.\n",
    "\n",
    "SQL is a language - [but there are dialects.](https://training-nyc.com/learn/sql/the-many-flavors-of-sql-a-guide-to-relational-databases) Some are proprietary, some are open source, and all have their quirks. At their core, however, they're mostly the same and use many of the same keywords. If you're proficient in one flavor of SQL, you can easily transition to one of the others."
   ]
  },
  {
   "cell_type": "markdown",
   "metadata": {
    "slideshow": {
     "slide_type": "slide"
    }
   },
   "source": [
    "### SQLite\n",
    "\n",
    "<img src=\"images/SQLite-Python.jpg\" width=400>\n",
    "\n",
    "One of many flavors of SQL! And the one we'll be using!\n",
    "\n",
    "- C library (fast)\n",
    "- lightweight disk-based database\n",
    "- that doesn’t require a separate server process\n",
    "- nonstandard variant of the SQL query language\n",
    "- applications can use SQLite for internal data storage\n",
    "- use case: prototype an application using SQLite and then port the code to a larger database such as PostgreSQL or Oracle\n",
    "\n",
    "#### Using it in Python:\n",
    "\n",
    "[sqlite3 documentation](https://docs.python.org/2/library/sqlite3.html)"
   ]
  },
  {
   "cell_type": "markdown",
   "metadata": {
    "slideshow": {
     "slide_type": "slide"
    }
   },
   "source": [
    "### Other flavors/database types?\n",
    "\n",
    "To connect to other database types (thus other flavors of SQL) there are many different Python libraries:\n",
    "\n",
    "- Oracle: [cx_Oracle](https://oracle.github.io/python-cx_Oracle/)\n",
    "- MySQL: [MySQL-python](https://github.com/farcepest/MySQLdb1)\n",
    "- PostgreSQL: [Psycopg2](http://initd.org/psycopg/docs/)\n",
    "- Microsoft SQL Server: [pymssql](http://www.pymssql.org/en/stable/)"
   ]
  },
  {
   "cell_type": "markdown",
   "metadata": {
    "slideshow": {
     "slide_type": "slide"
    }
   },
   "source": [
    "## Let's Explore a Database!"
   ]
  },
  {
   "cell_type": "code",
   "execution_count": 66,
   "metadata": {
    "slideshow": {
     "slide_type": "fragment"
    }
   },
   "outputs": [],
   "source": [
    "# of course, need an import\n",
    "import sqlite3"
   ]
  },
  {
   "cell_type": "markdown",
   "metadata": {
    "slideshow": {
     "slide_type": "slide"
    }
   },
   "source": [
    "#### Load a database object with `connect` and `cursor`"
   ]
  },
  {
   "cell_type": "code",
   "execution_count": 67,
   "metadata": {
    "slideshow": {
     "slide_type": "fragment"
    }
   },
   "outputs": [],
   "source": [
    "con = sqlite3.connect('data/flights.db')\n",
    "cursor = con.cursor()"
   ]
  },
  {
   "cell_type": "markdown",
   "metadata": {},
   "source": [
    "Our cursor is what we'll use to execute queries on a database."
   ]
  },
  {
   "cell_type": "markdown",
   "metadata": {
    "slideshow": {
     "slide_type": "slide"
    }
   },
   "source": [
    "#### Using `Pragma`\n",
    "\n",
    "[`Pragma`](https://www.sqlite.org/pragma.html) - note that PRAGMA is a query statement specific to SQLite\n",
    "\n",
    "**output:**\n",
    "\n",
    "`(column id, column name, data type, whether or not the column can be NULL, the default value for the column, and whether the column is a foreign key)`"
   ]
  },
  {
   "cell_type": "code",
   "execution_count": 68,
   "metadata": {
    "slideshow": {
     "slide_type": "slide"
    }
   },
   "outputs": [
    {
     "name": "stdout",
     "output_type": "stream",
     "text": [
      "(0, 'index', 'INTEGER', 0, None, 0)\n",
      "(1, 'id', 'TEXT', 0, None, 0)\n",
      "(2, 'name', 'TEXT', 0, None, 0)\n",
      "(3, 'city', 'TEXT', 0, None, 0)\n",
      "(4, 'country', 'TEXT', 0, None, 0)\n",
      "(5, 'code', 'TEXT', 0, None, 0)\n",
      "(6, 'icao', 'TEXT', 0, None, 0)\n",
      "(7, 'latitude', 'TEXT', 0, None, 0)\n",
      "(8, 'longitude', 'TEXT', 0, None, 0)\n",
      "(9, 'altitude', 'TEXT', 0, None, 0)\n",
      "(10, 'offset', 'TEXT', 0, None, 0)\n",
      "(11, 'dst', 'TEXT', 0, None, 0)\n",
      "(12, 'timezone', 'TEXT', 0, None, 0)\n"
     ]
    }
   ],
   "source": [
    "cursor.execute(\"PRAGMA table_info(airports)\")\n",
    "info = cursor.fetchall()\n",
    "print(*info, sep = \"\\n\")  #cool new way of using python's print"
   ]
  },
  {
   "cell_type": "markdown",
   "metadata": {
    "slideshow": {
     "slide_type": "slide"
    }
   },
   "source": [
    "#### Making fetch happen\n",
    "\n",
    "`.fetchall()` is how you get the query results out of the object.\n",
    "\n",
    "You can also `.fetchone()` or `.fetchmany()`"
   ]
  },
  {
   "cell_type": "markdown",
   "metadata": {
    "slideshow": {
     "slide_type": "slide"
    }
   },
   "source": [
    "**Task:** Get the descriptive data for the other two tables, `airlines` and `routes`"
   ]
  },
  {
   "cell_type": "code",
   "execution_count": 19,
   "metadata": {},
   "outputs": [
    {
     "name": "stdout",
     "output_type": "stream",
     "text": [
      "(0, 'index', 'INTEGER', 0, None, 0)\n",
      "(1, 'id', 'TEXT', 0, None, 0)\n",
      "(2, 'name', 'TEXT', 0, None, 0)\n",
      "(3, 'alias', 'TEXT', 0, None, 0)\n",
      "(4, 'iata', 'TEXT', 0, None, 0)\n",
      "(5, 'icao', 'TEXT', 0, None, 0)\n",
      "(6, 'callsign', 'TEXT', 0, None, 0)\n",
      "(7, 'country', 'TEXT', 0, None, 0)\n",
      "(8, 'active', 'TEXT', 0, None, 0)\n"
     ]
    }
   ],
   "source": [
    "cursor.execute(\"PRAGMA table_info(airlines)\")\n",
    "info = cursor.fetchall()\n",
    "print(*info, sep = \"\\n\")"
   ]
  },
  {
   "cell_type": "code",
   "execution_count": 20,
   "metadata": {},
   "outputs": [
    {
     "name": "stdout",
     "output_type": "stream",
     "text": [
      "(0, 'index', 'INTEGER', 0, None, 0)\n",
      "(1, 'airline', 'TEXT', 0, None, 0)\n",
      "(2, 'airline_id', 'TEXT', 0, None, 0)\n",
      "(3, 'source', 'TEXT', 0, None, 0)\n",
      "(4, 'source_id', 'TEXT', 0, None, 0)\n",
      "(5, 'dest', 'TEXT', 0, None, 0)\n",
      "(6, 'dest_id', 'TEXT', 0, None, 0)\n",
      "(7, 'codeshare', 'TEXT', 0, None, 0)\n",
      "(8, 'stops', 'TEXT', 0, None, 0)\n",
      "(9, 'equipment', 'TEXT', 0, None, 0)\n"
     ]
    }
   ],
   "source": [
    "cursor.execute(\"PRAGMA table_info(routes)\")\n",
    "info = cursor.fetchall()\n",
    "print(*info, sep = \"\\n\")"
   ]
  },
  {
   "cell_type": "markdown",
   "metadata": {
    "slideshow": {
     "slide_type": "slide"
    }
   },
   "source": [
    "***\n",
    "## Basic SQL commands "
   ]
  },
  {
   "cell_type": "markdown",
   "metadata": {
    "slideshow": {
     "slide_type": "slide"
    }
   },
   "source": [
    "### The Structure of a SQL Query"
   ]
  },
  {
   "cell_type": "markdown",
   "metadata": {
    "slideshow": {
     "slide_type": "slide"
    }
   },
   "source": [
    "<img src='images/sql_statement.jpg'/>"
   ]
  },
  {
   "cell_type": "markdown",
   "metadata": {
    "slideshow": {
     "slide_type": "slide"
    }
   },
   "source": [
    "### Constructing SQL queries"
   ]
  },
  {
   "cell_type": "markdown",
   "metadata": {
    "slideshow": {
     "slide_type": "fragment"
    }
   },
   "source": [
    "**`SELECT`**:  The columns you want\n",
    "\n",
    "options: \n",
    " - `DISTINCT`\n",
    " - using `AS` to rename columns, called *aliasing*\n",
    " - single number aggregates"
   ]
  },
  {
   "cell_type": "markdown",
   "metadata": {
    "slideshow": {
     "slide_type": "fragment"
    }
   },
   "source": [
    "**`FROM`:** the source tables\n",
    "\n",
    "options: \n",
    "- also can alias with `AS`\n",
    "     - here is also where we can join other tables too, with `[LEFT|INNER|RIGHT|FULL] JOIN ___ [ON|USING]`"
   ]
  },
  {
   "cell_type": "markdown",
   "metadata": {
    "slideshow": {
     "slide_type": "fragment"
    }
   },
   "source": [
    "**`WHERE`**: your filters\n",
    "\n",
    "options: \n",
    "- comparators like `=` & `>=`\n",
    "- `BETWEEN`, `IN`, `LIKE` (with wildcards `%`)\n",
    "- booleans like `AND`, `OR`, `NOT`"
   ]
  },
  {
   "cell_type": "markdown",
   "metadata": {
    "slideshow": {
     "slide_type": "fragment"
    }
   },
   "source": [
    "**`ORDER BY`**: sorting\n",
    "\n",
    "options: \n",
    " - `ASC` (default) and `DESC`"
   ]
  },
  {
   "cell_type": "markdown",
   "metadata": {
    "slideshow": {
     "slide_type": "fragment"
    }
   },
   "source": [
    "**`LIMIT`**:  # of rows to return (pair with `OFFSET`)"
   ]
  },
  {
   "cell_type": "markdown",
   "metadata": {},
   "source": [
    "There are more! But those are most of the pieces of an SQL query that we'll use for now.\n",
    "\n",
    "**NOTE:** SQL doesn't care about spacing, and doesn't care about capslock for statement options. But, it's convention - plus it makes your queries easier to read, for yourself and others."
   ]
  },
  {
   "cell_type": "markdown",
   "metadata": {
    "slideshow": {
     "slide_type": "slide"
    }
   },
   "source": [
    "#### Use `sqlite_master` to find all the tables in the schema\n",
    "\n",
    "Remember, we've defined a `cursor` that can execute queries - time to use it!"
   ]
  },
  {
   "cell_type": "code",
   "execution_count": 72,
   "metadata": {},
   "outputs": [
    {
     "data": {
      "text/plain": [
       "[('airports',), ('airlines',), ('routes',)]"
      ]
     },
     "execution_count": 72,
     "metadata": {},
     "output_type": "execute_result"
    }
   ],
   "source": [
    "cursor.execute(\"\"\"\n",
    "    SELECT name \n",
    "    FROM sqlite_master \n",
    "    WHERE type='table';\n",
    "    \"\"\").fetchall()"
   ]
  },
  {
   "cell_type": "markdown",
   "metadata": {
    "slideshow": {
     "slide_type": "slide"
    }
   },
   "source": [
    "**Task**: \n",
    "\n",
    "- Select only **active** airlines in the **United Kingdom** from the `airlines` table\n"
   ]
  },
  {
   "cell_type": "code",
   "execution_count": 73,
   "metadata": {
    "scrolled": true
   },
   "outputs": [
    {
     "name": "stdout",
     "output_type": "stream",
     "text": [
      "(0, 'index', 'INTEGER', 0, None, 0)\n",
      "(1, 'id', 'TEXT', 0, None, 0)\n",
      "(2, 'name', 'TEXT', 0, None, 0)\n",
      "(3, 'alias', 'TEXT', 0, None, 0)\n",
      "(4, 'iata', 'TEXT', 0, None, 0)\n",
      "(5, 'icao', 'TEXT', 0, None, 0)\n",
      "(6, 'callsign', 'TEXT', 0, None, 0)\n",
      "(7, 'country', 'TEXT', 0, None, 0)\n",
      "(8, 'active', 'TEXT', 0, None, 0)\n"
     ]
    }
   ],
   "source": [
    "cursor.execute(\"PRAGMA table_info(airlines)\")\n",
    "info = cursor.fetchall()\n",
    "print(*info, sep = \"\\n\")"
   ]
  },
  {
   "cell_type": "code",
   "execution_count": 74,
   "metadata": {},
   "outputs": [
    {
     "data": {
      "text/plain": [
       "[(0, '1', 'Private flight', '\\\\N', '-', None, None, None, 'Y'),\n",
       " (1, '2', '135 Airways', '\\\\N', None, 'GNL', 'GENERAL', 'United States', 'N'),\n",
       " (2, '3', '1Time Airline', '\\\\N', '1T', 'RNX', 'NEXTIME', 'South Africa', 'Y'),\n",
       " (3,\n",
       "  '4',\n",
       "  '2 Sqn No 1 Elementary Flying Training School',\n",
       "  '\\\\N',\n",
       "  None,\n",
       "  'WYT',\n",
       "  None,\n",
       "  'United Kingdom',\n",
       "  'N'),\n",
       " (4, '5', '213 Flight Unit', '\\\\N', None, 'TFU', None, 'Russia', 'N')]"
      ]
     },
     "execution_count": 74,
     "metadata": {},
     "output_type": "execute_result"
    }
   ],
   "source": [
    "cursor.execute(\"\"\"\n",
    "    SELECT * \n",
    "    FROM airlines \n",
    "    LIMIT 5\n",
    "\"\"\").fetchall()"
   ]
  },
  {
   "cell_type": "code",
   "execution_count": 80,
   "metadata": {},
   "outputs": [
    {
     "data": {
      "text/plain": [
       "(('index', None, None, None, None, None, None),\n",
       " ('id', None, None, None, None, None, None),\n",
       " ('name', None, None, None, None, None, None),\n",
       " ('alias', None, None, None, None, None, None),\n",
       " ('iata', None, None, None, None, None, None),\n",
       " ('icao', None, None, None, None, None, None),\n",
       " ('callsign', None, None, None, None, None, None),\n",
       " ('country', None, None, None, None, None, None),\n",
       " ('active', None, None, None, None, None, None))"
      ]
     },
     "execution_count": 80,
     "metadata": {},
     "output_type": "execute_result"
    }
   ],
   "source": [
    "# can also check the description for details once a query has run\n",
    "cursor.description\n",
    "# [desc[0] for desc in cursor.description]"
   ]
  },
  {
   "cell_type": "code",
   "execution_count": 81,
   "metadata": {
    "scrolled": false
   },
   "outputs": [
    {
     "name": "stdout",
     "output_type": "stream",
     "text": [
      "('Astraeus', 'United Kingdom', 'Y')\n",
      "('Air Southwest', 'United Kingdom', 'Y')\n",
      "('Aurigny Air Services', 'United Kingdom', 'Y')\n",
      "('Air Wales', 'United Kingdom', 'Y')\n",
      "('AD Aviation', 'United Kingdom', 'Y')\n",
      "('Air Foyle', 'United Kingdom', 'Y')\n",
      "('British Airways', 'United Kingdom', 'Y')\n",
      "('British International Helicopters', 'United Kingdom', 'Y')\n",
      "('bmi', 'United Kingdom', 'Y')\n",
      "('bmibaby', 'United Kingdom', 'Y')\n",
      "('British Midland Regional', 'United Kingdom', 'Y')\n",
      "('British Mediterranean Airways', 'United Kingdom', 'Y')\n",
      "('BA CityFlyer', 'United Kingdom', 'Y')\n",
      "('Crest Aviation', 'United Kingdom', 'Y')\n",
      "('Eastern Airways', 'United Kingdom', 'Y')\n",
      "('Excel Airways', 'United Kingdom', 'Y')\n",
      "('Excel Charter', 'United Kingdom', 'Y')\n",
      "('easyJet', 'United Kingdom', 'Y')\n",
      "('First Choice Airways', 'United Kingdom', 'Y')\n",
      "('Flightline', 'United Kingdom', 'Y')\n",
      "('Flybe', 'United Kingdom', 'Y')\n",
      "('Flyglobespan', 'United Kingdom', 'Y')\n",
      "('GB Airways', 'United Kingdom', 'Y')\n",
      "('Highland Airways', 'United Kingdom', 'Y')\n",
      "('Jet2.com', 'United Kingdom', 'Y')\n",
      "('Monarch Airlines', 'United Kingdom', 'Y')\n",
      "('MyTravel Airways', 'United Kingdom', 'Y')\n",
      "('Norfolk County Flight College', 'United Kingdom', 'Y')\n",
      "('Kinloss Flying Training Unit', 'United Kingdom', 'Y')\n",
      "('ScotAirways', 'United Kingdom', 'Y')\n",
      "('Thomas Cook Airlines', 'United Kingdom', 'Y')\n",
      "('Thomsonfly', 'United Kingdom', 'Y')\n",
      "('Virgin Atlantic Airways', 'United Kingdom', 'Y')\n",
      "('Jc royal.britannica', 'United Kingdom', 'Y')\n",
      "('Royal European Airlines', 'United Kingdom', 'Y')\n",
      "('CB Airways UK ( Interliging Flights )', 'United Kingdom', 'Y')\n",
      "('Air Cudlua', 'United Kingdom', 'Y')\n",
      "('BBN-Airways', 'United Kingdom', 'Y')\n",
      "('Rainbow Air Euro', 'United Kingdom', 'Y')\n",
      "('All Europe', 'United Kingdom', 'Y')\n"
     ]
    }
   ],
   "source": [
    "res = cursor.execute(\"\"\"\n",
    "    SELECT name, country, active \n",
    "    FROM airlines \n",
    "    WHERE active = 'Y' AND country = 'United Kingdom';\n",
    "\"\"\").fetchall()\n",
    "\n",
    "print(*res, sep='\\n') # again, fancy addition to our print statement"
   ]
  },
  {
   "cell_type": "markdown",
   "metadata": {},
   "source": [
    "**Task**: \n",
    "- Select the **unique** list of **countries** with airports"
   ]
  },
  {
   "cell_type": "code",
   "execution_count": 41,
   "metadata": {},
   "outputs": [
    {
     "name": "stdout",
     "output_type": "stream",
     "text": [
      "(0, 'index', 'INTEGER', 0, None, 0)\n",
      "(1, 'id', 'TEXT', 0, None, 0)\n",
      "(2, 'name', 'TEXT', 0, None, 0)\n",
      "(3, 'city', 'TEXT', 0, None, 0)\n",
      "(4, 'country', 'TEXT', 0, None, 0)\n",
      "(5, 'code', 'TEXT', 0, None, 0)\n",
      "(6, 'icao', 'TEXT', 0, None, 0)\n",
      "(7, 'latitude', 'TEXT', 0, None, 0)\n",
      "(8, 'longitude', 'TEXT', 0, None, 0)\n",
      "(9, 'altitude', 'TEXT', 0, None, 0)\n",
      "(10, 'offset', 'TEXT', 0, None, 0)\n",
      "(11, 'dst', 'TEXT', 0, None, 0)\n",
      "(12, 'timezone', 'TEXT', 0, None, 0)\n"
     ]
    }
   ],
   "source": [
    "res = cursor.execute(\"PRAGMA table_info(airports)\").fetchall()\n",
    "print(*res, sep = \"\\n\")"
   ]
  },
  {
   "cell_type": "code",
   "execution_count": 82,
   "metadata": {
    "scrolled": false
   },
   "outputs": [
    {
     "name": "stdout",
     "output_type": "stream",
     "text": [
      "[('Afghanistan',), ('Albania',), ('Algeria',), ('American Samoa',), ('Angola',), ('Anguilla',), ('Antarctica',), ('Antigua and Barbuda',), ('Argentina',), ('Armenia',), ('Aruba',), ('Australia',), ('Austria',), ('Azerbaijan',), ('Bahamas',), ('Bahrain',), ('Bangladesh',), ('Barbados',), ('Belarus',), ('Belgium',), ('Belize',), ('Benin',), ('Bermuda',), ('Bhutan',), ('Bolivia',), ('Bosnia and Herzegovina',), ('Botswana',), ('Brazil',), ('British Indian Ocean Territory',), ('British Virgin Islands',), ('Brunei',), ('Bulgaria',), ('Burkina Faso',), ('Burma',), ('Burundi',), ('Cambodia',), ('Cameroon',), ('Canada',), ('Cape Verde',), ('Cayman Islands',), ('Central African Republic',), ('Chad',), ('Chile',), ('China',), ('Christmas Island',), ('Cocos (Keeling) Islands',), ('Colombia',), ('Comoros',), ('Congo (Brazzaville)',), ('Congo (Kinshasa)',), ('Cook Islands',), ('Costa Rica',), (\"Cote d'Ivoire\",), ('Croatia',), ('Cuba',), ('Cyprus',), ('Czech Republic',), ('Denmark',), ('Djibouti',), ('Dominica',), ('Dominican Republic',), ('East Timor',), ('Ecuador',), ('Egypt',), ('El Salvador',), ('Equatorial Guinea',), ('Eritrea',), ('Estonia',), ('Ethiopia',), ('Falkland Islands',), ('Faroe Islands',), ('Fiji',), ('Finland',), ('France',), ('French Guiana',), ('French Polynesia',), ('Gabon',), ('Gambia',), ('Georgia',), ('Germany',), ('Ghana',), ('Gibraltar',), ('Greece',), ('Greenland',), ('Grenada',), ('Guadeloupe',), ('Guam',), ('Guatemala',), ('Guernsey',), ('Guinea',), ('Guinea-Bissau',), ('Guyana',), ('Haiti',), ('Honduras',), ('Hong Kong',), ('Hungary',), ('Iceland',), ('India',), ('Indonesia',), ('Iran',), ('Iraq',), ('Ireland',), ('Isle of Man',), ('Israel',), ('Italy',), ('Jamaica',), ('Japan',), ('Jersey',), ('Johnston Atoll',), ('Jordan',), ('Kazakhstan',), ('Kenya',), ('Kiribati',), ('Korea',), ('Kuwait',), ('Kyrgyzstan',), ('Laos',), ('Latvia',), ('Lebanon',), ('Lesotho',), ('Liberia',), ('Libya',), ('Lithuania',), ('Luxembourg',), ('Macau',), ('Macedonia',), ('Madagascar',), ('Malawi',), ('Malaysia',), ('Maldives',), ('Mali',), ('Malta',), ('Marshall Islands',), ('Martinique',), ('Mauritania',), ('Mauritius',), ('Mayotte',), ('Mexico',), ('Micronesia',), ('Midway Islands',), ('Moldova',), ('Monaco',), ('Mongolia',), ('Montenegro',), ('Montserrat',), ('Morocco',), ('Mozambique',), ('Myanmar',), ('Namibia',), ('Nauru',), ('Nepal',), ('Netherlands',), ('Netherlands Antilles',), ('New Caledonia',), ('New Zealand',), ('Nicaragua',), ('Niger',), ('Nigeria',), ('Niue',), ('Norfolk Island',), ('North Korea',), ('Northern Mariana Islands',), ('Norway',), ('Oman',), ('Pakistan',), ('Palau',), ('Palestine',), ('Panama',), ('Papua New Guinea',), ('Paraguay',), ('Peru',), ('Philippines',), ('Poland',), ('Portugal',), ('Puerto Rico',), ('Qatar',), ('Reunion',), ('Romania',), ('Russia',), ('Rwanda',), ('Saint Helena',), ('Saint Kitts and Nevis',), ('Saint Lucia',), ('Saint Pierre and Miquelon',), ('Saint Vincent and the Grenadines',), ('Samoa',), ('Sao Tome and Principe',), ('Saudi Arabia',), ('Senegal',), ('Serbia',), ('Seychelles',), ('Sierra Leone',), ('Singapore',), ('Slovakia',), ('Slovenia',), ('Solomon Islands',), ('Somalia',), ('South Africa',), ('South Georgia and the Islands',), ('South Korea',), ('South Sudan',), ('Spain',), ('Sri Lanka',), ('Sudan',), ('Suriname',), ('Svalbard',), ('Swaziland',), ('Sweden',), ('Switzerland',), ('Syria',), ('Taiwan',), ('Tajikistan',), ('Tanzania',), ('Thailand',), ('Togo',), ('Tonga',), ('Trinidad and Tobago',), ('Tunisia',), ('Turkey',), ('Turkmenistan',), ('Turks and Caicos Islands',), ('Tuvalu',), ('Uganda',), ('Ukraine',), ('United Arab Emirates',), ('United Kingdom',), ('United States',), ('Uruguay',), ('Uzbekistan',), ('Vanuatu',), ('Venezuela',), ('Vietnam',), ('Virgin Islands',), ('Wake Island',), ('Wallis and Futuna',), ('West Bank',), ('Western Sahara',), ('Yemen',), ('Zambia',), ('Zimbabwe',)]\n"
     ]
    }
   ],
   "source": [
    "res = cursor.execute(\"\"\"\n",
    "    SELECT DISTINCT country \n",
    "    FROM airports\n",
    "    ORDER BY country ASC;\n",
    "\"\"\").fetchall()\n",
    "print(res)"
   ]
  },
  {
   "cell_type": "code",
   "execution_count": 83,
   "metadata": {},
   "outputs": [
    {
     "data": {
      "text/plain": [
       "240"
      ]
     },
     "execution_count": 83,
     "metadata": {},
     "output_type": "execute_result"
    }
   ],
   "source": [
    "len(res)"
   ]
  },
  {
   "cell_type": "code",
   "execution_count": 84,
   "metadata": {},
   "outputs": [
    {
     "name": "stdout",
     "output_type": "stream",
     "text": [
      "[(240,)]\n"
     ]
    }
   ],
   "source": [
    "# what if I just wanted a count of how many?\n",
    "res = cursor.execute(\"\"\"\n",
    "    SELECT COUNT(DISTINCT country) \n",
    "    FROM airports;\n",
    "\"\"\").fetchall()\n",
    "print(res)"
   ]
  },
  {
   "cell_type": "markdown",
   "metadata": {
    "slideshow": {
     "slide_type": "slide"
    }
   },
   "source": [
    "### SQL Joins"
   ]
  },
  {
   "cell_type": "markdown",
   "metadata": {
    "slideshow": {
     "slide_type": "fragment"
    }
   },
   "source": [
    "SQL joins can be used to both **add** data to a table and **remove** data from a table. "
   ]
  },
  {
   "cell_type": "markdown",
   "metadata": {
    "slideshow": {
     "slide_type": "fragment"
    }
   },
   "source": [
    "<img src=\"images/venn.png\" width=550>"
   ]
  },
  {
   "cell_type": "markdown",
   "metadata": {
    "slideshow": {
     "slide_type": "slide"
    }
   },
   "source": [
    "**Task** \n",
    "\n",
    "- Write a query that will join the **latitude** and **longitude** data from the `airports` table to the information on the `routes` table"
   ]
  },
  {
   "cell_type": "code",
   "execution_count": 89,
   "metadata": {
    "slideshow": {
     "slide_type": "skip"
    }
   },
   "outputs": [
    {
     "name": "stdout",
     "output_type": "stream",
     "text": [
      "('index', None, None, None, None, None, None)\n",
      "('airline', None, None, None, None, None, None)\n",
      "('airline_id', None, None, None, None, None, None)\n",
      "('source', None, None, None, None, None, None)\n",
      "('source_id', None, None, None, None, None, None)\n",
      "('dest', None, None, None, None, None, None)\n",
      "('dest_id', None, None, None, None, None, None)\n",
      "('codeshare', None, None, None, None, None, None)\n",
      "('stops', None, None, None, None, None, None)\n",
      "('equipment', None, None, None, None, None, None)\n"
     ]
    }
   ],
   "source": [
    "# what does the routes table look like?\n",
    "cursor.execute(\"\"\"\n",
    "    SELECT *\n",
    "    FROM routes\n",
    "    LIMIT 5;\n",
    "\"\"\").fetchall()\n",
    "print(*cursor.description, sep='\\n')"
   ]
  },
  {
   "cell_type": "code",
   "execution_count": 60,
   "metadata": {},
   "outputs": [
    {
     "name": "stdout",
     "output_type": "stream",
     "text": [
      "(0, 'index', 'INTEGER', 0, None, 0)\n",
      "(1, 'id', 'TEXT', 0, None, 0)\n",
      "(2, 'name', 'TEXT', 0, None, 0)\n",
      "(3, 'city', 'TEXT', 0, None, 0)\n",
      "(4, 'country', 'TEXT', 0, None, 0)\n",
      "(5, 'code', 'TEXT', 0, None, 0)\n",
      "(6, 'icao', 'TEXT', 0, None, 0)\n",
      "(7, 'latitude', 'TEXT', 0, None, 0)\n",
      "(8, 'longitude', 'TEXT', 0, None, 0)\n",
      "(9, 'altitude', 'TEXT', 0, None, 0)\n",
      "(10, 'offset', 'TEXT', 0, None, 0)\n",
      "(11, 'dst', 'TEXT', 0, None, 0)\n",
      "(12, 'timezone', 'TEXT', 0, None, 0)\n"
     ]
    }
   ],
   "source": [
    "# what does the airports table look like?\n",
    "res = cursor.execute(\"PRAGMA table_info(airports)\").fetchall()\n",
    "print(*res, sep = \"\\n\")"
   ]
  },
  {
   "cell_type": "code",
   "execution_count": 65,
   "metadata": {},
   "outputs": [
    {
     "name": "stdout",
     "output_type": "stream",
     "text": [
      "(0, '2B', '410', 'AER', '2965', 'KZN', '2990', None, '0', 'CR2', '43.449928', '39.956589', '55.606186', '49.278728')\n",
      "(1, '2B', '410', 'ASF', '2966', 'KZN', '2990', None, '0', 'CR2', '46.283333', '48.006278', '55.606186', '49.278728')\n",
      "(2, '2B', '410', 'ASF', '2966', 'MRV', '2962', None, '0', 'CR2', '46.283333', '48.006278', '44.225072', '43.081889')\n",
      "(3, '2B', '410', 'CEK', '2968', 'KZN', '2990', None, '0', 'CR2', '55.305836', '61.503333', '55.606186', '49.278728')\n",
      "(4, '2B', '410', 'CEK', '2968', 'OVB', '4078', None, '0', 'CR2', '55.305836', '61.503333', '55.012622', '82.650656')\n",
      "(5, '2B', '410', 'DME', '4029', 'KZN', '2990', None, '0', 'CR2', '55.408611', '37.906111', '55.606186', '49.278728')\n",
      "(6, '2B', '410', 'DME', '4029', 'NBC', '6969', None, '0', 'CR2', '55.408611', '37.906111', '55.34', '52.06')\n",
      "(8, '2B', '410', 'DME', '4029', 'UUA', '6160', None, '0', 'CR2', '55.408611', '37.906111', '54.64', '52.8017')\n",
      "(9, '2B', '410', 'EGO', '6156', 'KGD', '2952', None, '0', 'CR2', '50.6438', '36.5901', '54.89005', '20.592633')\n",
      "(10, '2B', '410', 'EGO', '6156', 'KZN', '2990', None, '0', 'CR2', '50.6438', '36.5901', '55.606186', '49.278728')\n"
     ]
    }
   ],
   "source": [
    "# need 2 joins! have a source and a destination\n",
    "res = cursor.execute(\"\"\"\n",
    "    SELECT r.*, \n",
    "        source.latitude AS source_lat, \n",
    "        source.longitude AS source_long,\n",
    "        dest.latitude AS dest_lat,\n",
    "        dest.longitude AS dest_long\n",
    "    FROM routes AS r\n",
    "    JOIN airports AS source ON r.source_id = source.id\n",
    "    JOIN airports AS dest ON r.dest_id = dest.id\n",
    "    LIMIT 10;\n",
    "\"\"\").fetchall()\n",
    "\n",
    "print(*res, sep='\\n')"
   ]
  },
  {
   "cell_type": "markdown",
   "metadata": {
    "slideshow": {
     "slide_type": "slide"
    }
   },
   "source": [
    "### Grouping statements\n",
    "\n",
    "Combines `select` and `group by` when you want aggregates by values"
   ]
  },
  {
   "cell_type": "markdown",
   "metadata": {
    "slideshow": {
     "slide_type": "fragment"
    }
   },
   "source": [
    "`SELECT` `min(x)` ... `max()`, `sum()`, etc\n",
    "\n",
    "`GROUP BY x`"
   ]
  },
  {
   "cell_type": "markdown",
   "metadata": {
    "slideshow": {
     "slide_type": "slide"
    }
   },
   "source": [
    "**Task**\n",
    "\n",
    "- Which countries have the most active airlines?"
   ]
  },
  {
   "cell_type": "code",
   "execution_count": 99,
   "metadata": {},
   "outputs": [
    {
     "name": "stdout",
     "output_type": "stream",
     "text": [
      "['index', 'id', 'name', 'alias', 'iata', 'icao', 'callsign', 'country', 'active']\n"
     ]
    }
   ],
   "source": [
    "cursor.execute(\"\"\"\n",
    "    SELECT *\n",
    "    FROM airlines\n",
    "    LIMIT 5;\n",
    "    \"\"\").fetchall()\n",
    "print([desc[0] for desc in cursor.description])"
   ]
  },
  {
   "cell_type": "code",
   "execution_count": 97,
   "metadata": {
    "scrolled": true,
    "slideshow": {
     "slide_type": "skip"
    }
   },
   "outputs": [
    {
     "name": "stdout",
     "output_type": "stream",
     "text": [
      "('United States', 141)\n",
      "('Russia', 72)\n",
      "('United Kingdom', 40)\n",
      "('Germany', 37)\n",
      "('Canada', 34)\n"
     ]
    }
   ],
   "source": [
    "# Which countries have the most active airlines?\n",
    "cursor.execute(\"\"\"\n",
    "    SELECT country, COUNT(*) as active_airline_count\n",
    "    FROM airlines\n",
    "    WHERE active = 'Y'\n",
    "    GROUP BY country\n",
    "    ORDER BY active_airline_count DESC\n",
    "    LIMIT 5\n",
    "    \"\"\")\n",
    "print(*cursor.fetchall(), sep='\\n')"
   ]
  },
  {
   "cell_type": "markdown",
   "metadata": {},
   "source": [
    "**Task**\n",
    "\n",
    "- What about inactive airlines?"
   ]
  },
  {
   "cell_type": "code",
   "execution_count": 98,
   "metadata": {
    "slideshow": {
     "slide_type": "skip"
    }
   },
   "outputs": [
    {
     "name": "stdout",
     "output_type": "stream",
     "text": [
      "('United States', 939)\n",
      "('Mexico', 427)\n",
      "('United Kingdom', 367)\n",
      "('Canada', 284)\n",
      "('Russia', 158)\n"
     ]
    }
   ],
   "source": [
    "# Which countries have the most inactive airlines?\n",
    "cursor.execute(\"\"\"\n",
    "    SELECT country, COUNT(*) as inactive_airline_count\n",
    "    FROM airlines\n",
    "    WHERE active = 'N'\n",
    "    GROUP BY country\n",
    "    ORDER BY inactive_airline_count DESC\n",
    "    LIMIT 5\n",
    "    \"\"\")\n",
    "print(*cursor.fetchall(), sep='\\n')"
   ]
  },
  {
   "cell_type": "markdown",
   "metadata": {},
   "source": [
    "**Task**\n",
    "\n",
    "- How many airports are there in each timezone?"
   ]
  },
  {
   "cell_type": "code",
   "execution_count": 101,
   "metadata": {},
   "outputs": [
    {
     "data": {
      "text/plain": [
       "[(0, 'index', 'INTEGER', 0, None, 0),\n",
       " (1, 'id', 'TEXT', 0, None, 0),\n",
       " (2, 'name', 'TEXT', 0, None, 0),\n",
       " (3, 'city', 'TEXT', 0, None, 0),\n",
       " (4, 'country', 'TEXT', 0, None, 0),\n",
       " (5, 'code', 'TEXT', 0, None, 0),\n",
       " (6, 'icao', 'TEXT', 0, None, 0),\n",
       " (7, 'latitude', 'TEXT', 0, None, 0),\n",
       " (8, 'longitude', 'TEXT', 0, None, 0),\n",
       " (9, 'altitude', 'TEXT', 0, None, 0),\n",
       " (10, 'offset', 'TEXT', 0, None, 0),\n",
       " (11, 'dst', 'TEXT', 0, None, 0),\n",
       " (12, 'timezone', 'TEXT', 0, None, 0)]"
      ]
     },
     "execution_count": 101,
     "metadata": {},
     "output_type": "execute_result"
    }
   ],
   "source": [
    "cursor.execute('PRAGMA table_info(airports)').fetchall()"
   ]
  },
  {
   "cell_type": "code",
   "execution_count": 103,
   "metadata": {
    "slideshow": {
     "slide_type": "skip"
    }
   },
   "outputs": [
    {
     "name": "stdout",
     "output_type": "stream",
     "text": [
      "('America/New_York', 628)\n",
      "('America/Chicago', 373)\n",
      "('Europe/Berlin', 319)\n",
      "('America/Anchorage', 258)\n",
      "('Europe/Paris', 232)\n"
     ]
    }
   ],
   "source": [
    "# What about airports by timezones?\n",
    "cursor.execute(\"\"\"\n",
    "    SELECT timezone, COUNT(id) as airport_count\n",
    "    FROM airports\n",
    "    GROUP BY timezone\n",
    "    ORDER BY airport_count DESC\n",
    "    LIMIT 5\n",
    "    \"\"\")\n",
    "print(*cursor.fetchall(), sep='\\n')"
   ]
  },
  {
   "cell_type": "code",
   "execution_count": 104,
   "metadata": {},
   "outputs": [],
   "source": [
    "# It's always a good idea to close our connections when we're done\n",
    "cursor.close()\n",
    "con.close()"
   ]
  },
  {
   "cell_type": "markdown",
   "metadata": {
    "slideshow": {
     "slide_type": "slide"
    }
   },
   "source": [
    "## Moving from SQLite3 to pandas"
   ]
  },
  {
   "cell_type": "code",
   "execution_count": 106,
   "metadata": {},
   "outputs": [],
   "source": [
    "# need to import pandas!\n",
    "import pandas as pd"
   ]
  },
  {
   "cell_type": "code",
   "execution_count": 108,
   "metadata": {
    "slideshow": {
     "slide_type": "fragment"
    }
   },
   "outputs": [
    {
     "data": {
      "text/html": [
       "<div>\n",
       "<style scoped>\n",
       "    .dataframe tbody tr th:only-of-type {\n",
       "        vertical-align: middle;\n",
       "    }\n",
       "\n",
       "    .dataframe tbody tr th {\n",
       "        vertical-align: top;\n",
       "    }\n",
       "\n",
       "    .dataframe thead th {\n",
       "        text-align: right;\n",
       "    }\n",
       "</style>\n",
       "<table border=\"1\" class=\"dataframe\">\n",
       "  <thead>\n",
       "    <tr style=\"text-align: right;\">\n",
       "      <th></th>\n",
       "      <th>index</th>\n",
       "      <th>id</th>\n",
       "      <th>name</th>\n",
       "      <th>city</th>\n",
       "      <th>country</th>\n",
       "      <th>code</th>\n",
       "      <th>icao</th>\n",
       "      <th>latitude</th>\n",
       "      <th>longitude</th>\n",
       "      <th>altitude</th>\n",
       "      <th>offset</th>\n",
       "      <th>dst</th>\n",
       "      <th>timezone</th>\n",
       "    </tr>\n",
       "  </thead>\n",
       "  <tbody>\n",
       "    <tr>\n",
       "      <th>0</th>\n",
       "      <td>0</td>\n",
       "      <td>1</td>\n",
       "      <td>Goroka</td>\n",
       "      <td>Goroka</td>\n",
       "      <td>Papua New Guinea</td>\n",
       "      <td>GKA</td>\n",
       "      <td>AYGA</td>\n",
       "      <td>-6.081689</td>\n",
       "      <td>145.391881</td>\n",
       "      <td>5282</td>\n",
       "      <td>10</td>\n",
       "      <td>U</td>\n",
       "      <td>Pacific/Port_Moresby</td>\n",
       "    </tr>\n",
       "    <tr>\n",
       "      <th>1</th>\n",
       "      <td>1</td>\n",
       "      <td>2</td>\n",
       "      <td>Madang</td>\n",
       "      <td>Madang</td>\n",
       "      <td>Papua New Guinea</td>\n",
       "      <td>MAG</td>\n",
       "      <td>AYMD</td>\n",
       "      <td>-5.207083</td>\n",
       "      <td>145.7887</td>\n",
       "      <td>20</td>\n",
       "      <td>10</td>\n",
       "      <td>U</td>\n",
       "      <td>Pacific/Port_Moresby</td>\n",
       "    </tr>\n",
       "    <tr>\n",
       "      <th>2</th>\n",
       "      <td>2</td>\n",
       "      <td>3</td>\n",
       "      <td>Mount Hagen</td>\n",
       "      <td>Mount Hagen</td>\n",
       "      <td>Papua New Guinea</td>\n",
       "      <td>HGU</td>\n",
       "      <td>AYMH</td>\n",
       "      <td>-5.826789</td>\n",
       "      <td>144.295861</td>\n",
       "      <td>5388</td>\n",
       "      <td>10</td>\n",
       "      <td>U</td>\n",
       "      <td>Pacific/Port_Moresby</td>\n",
       "    </tr>\n",
       "    <tr>\n",
       "      <th>3</th>\n",
       "      <td>3</td>\n",
       "      <td>4</td>\n",
       "      <td>Nadzab</td>\n",
       "      <td>Nadzab</td>\n",
       "      <td>Papua New Guinea</td>\n",
       "      <td>LAE</td>\n",
       "      <td>AYNZ</td>\n",
       "      <td>-6.569828</td>\n",
       "      <td>146.726242</td>\n",
       "      <td>239</td>\n",
       "      <td>10</td>\n",
       "      <td>U</td>\n",
       "      <td>Pacific/Port_Moresby</td>\n",
       "    </tr>\n",
       "    <tr>\n",
       "      <th>4</th>\n",
       "      <td>4</td>\n",
       "      <td>5</td>\n",
       "      <td>Port Moresby Jacksons Intl</td>\n",
       "      <td>Port Moresby</td>\n",
       "      <td>Papua New Guinea</td>\n",
       "      <td>POM</td>\n",
       "      <td>AYPY</td>\n",
       "      <td>-9.443383</td>\n",
       "      <td>147.22005</td>\n",
       "      <td>146</td>\n",
       "      <td>10</td>\n",
       "      <td>U</td>\n",
       "      <td>Pacific/Port_Moresby</td>\n",
       "    </tr>\n",
       "  </tbody>\n",
       "</table>\n",
       "</div>"
      ],
      "text/plain": [
       "   index id                        name          city           country code  \\\n",
       "0      0  1                      Goroka        Goroka  Papua New Guinea  GKA   \n",
       "1      1  2                      Madang        Madang  Papua New Guinea  MAG   \n",
       "2      2  3                 Mount Hagen   Mount Hagen  Papua New Guinea  HGU   \n",
       "3      3  4                      Nadzab        Nadzab  Papua New Guinea  LAE   \n",
       "4      4  5  Port Moresby Jacksons Intl  Port Moresby  Papua New Guinea  POM   \n",
       "\n",
       "   icao   latitude   longitude altitude offset dst              timezone  \n",
       "0  AYGA  -6.081689  145.391881     5282     10   U  Pacific/Port_Moresby  \n",
       "1  AYMD  -5.207083    145.7887       20     10   U  Pacific/Port_Moresby  \n",
       "2  AYMH  -5.826789  144.295861     5388     10   U  Pacific/Port_Moresby  \n",
       "3  AYNZ  -6.569828  146.726242      239     10   U  Pacific/Port_Moresby  \n",
       "4  AYPY  -9.443383   147.22005      146     10   U  Pacific/Port_Moresby  "
      ]
     },
     "execution_count": 108,
     "metadata": {},
     "output_type": "execute_result"
    }
   ],
   "source": [
    "pd_con = sqlite3.connect(\"data/flights.db\")\n",
    "df = pd.read_sql_query(\"SELECT * FROM airports LIMIT 5;\", pd_con)\n",
    "df"
   ]
  },
  {
   "cell_type": "markdown",
   "metadata": {
    "slideshow": {
     "slide_type": "slide"
    }
   },
   "source": [
    "**Task**: \n",
    "Convert one of the earlier queries in the lesson to a pandas data frame"
   ]
  },
  {
   "cell_type": "code",
   "execution_count": 109,
   "metadata": {
    "scrolled": false
   },
   "outputs": [
    {
     "data": {
      "text/html": [
       "<div>\n",
       "<style scoped>\n",
       "    .dataframe tbody tr th:only-of-type {\n",
       "        vertical-align: middle;\n",
       "    }\n",
       "\n",
       "    .dataframe tbody tr th {\n",
       "        vertical-align: top;\n",
       "    }\n",
       "\n",
       "    .dataframe thead th {\n",
       "        text-align: right;\n",
       "    }\n",
       "</style>\n",
       "<table border=\"1\" class=\"dataframe\">\n",
       "  <thead>\n",
       "    <tr style=\"text-align: right;\">\n",
       "      <th></th>\n",
       "      <th>country</th>\n",
       "      <th>active_airline_count</th>\n",
       "    </tr>\n",
       "  </thead>\n",
       "  <tbody>\n",
       "    <tr>\n",
       "      <th>0</th>\n",
       "      <td>United States</td>\n",
       "      <td>141</td>\n",
       "    </tr>\n",
       "    <tr>\n",
       "      <th>1</th>\n",
       "      <td>Russia</td>\n",
       "      <td>72</td>\n",
       "    </tr>\n",
       "    <tr>\n",
       "      <th>2</th>\n",
       "      <td>United Kingdom</td>\n",
       "      <td>40</td>\n",
       "    </tr>\n",
       "    <tr>\n",
       "      <th>3</th>\n",
       "      <td>Germany</td>\n",
       "      <td>37</td>\n",
       "    </tr>\n",
       "    <tr>\n",
       "      <th>4</th>\n",
       "      <td>Canada</td>\n",
       "      <td>34</td>\n",
       "    </tr>\n",
       "    <tr>\n",
       "      <th>...</th>\n",
       "      <td>...</td>\n",
       "      <td>...</td>\n",
       "    </tr>\n",
       "    <tr>\n",
       "      <th>190</th>\n",
       "      <td>Antigua and Barbuda</td>\n",
       "      <td>1</td>\n",
       "    </tr>\n",
       "    <tr>\n",
       "      <th>191</th>\n",
       "      <td>American Samoa</td>\n",
       "      <td>1</td>\n",
       "    </tr>\n",
       "    <tr>\n",
       "      <th>192</th>\n",
       "      <td>AVIANCA</td>\n",
       "      <td>1</td>\n",
       "    </tr>\n",
       "    <tr>\n",
       "      <th>193</th>\n",
       "      <td>ALASKA</td>\n",
       "      <td>1</td>\n",
       "    </tr>\n",
       "    <tr>\n",
       "      <th>194</th>\n",
       "      <td>S.A.</td>\n",
       "      <td>1</td>\n",
       "    </tr>\n",
       "  </tbody>\n",
       "</table>\n",
       "<p>195 rows × 2 columns</p>\n",
       "</div>"
      ],
      "text/plain": [
       "                 country  active_airline_count\n",
       "0          United States                   141\n",
       "1                 Russia                    72\n",
       "2         United Kingdom                    40\n",
       "3                Germany                    37\n",
       "4                 Canada                    34\n",
       "..                   ...                   ...\n",
       "190  Antigua and Barbuda                     1\n",
       "191       American Samoa                     1\n",
       "192              AVIANCA                     1\n",
       "193               ALASKA                     1\n",
       "194                 S.A.                     1\n",
       "\n",
       "[195 rows x 2 columns]"
      ]
     },
     "execution_count": 109,
     "metadata": {},
     "output_type": "execute_result"
    }
   ],
   "source": [
    "# Which countries have the most active airports?\n",
    "sql = '''\n",
    "    SELECT country, COUNT(*) as active_airline_count\n",
    "    FROM airlines\n",
    "    WHERE active = 'Y'\n",
    "    GROUP BY country\n",
    "    ORDER BY active_airline_count DESC;\n",
    "    '''\n",
    "pd.read_sql_query(sql, pd_con)"
   ]
  },
  {
   "cell_type": "code",
   "execution_count": 110,
   "metadata": {},
   "outputs": [],
   "source": [
    "pd_con.close()"
   ]
  },
  {
   "cell_type": "markdown",
   "metadata": {},
   "source": [
    "Another way to move results into a pandas dataframe:"
   ]
  },
  {
   "cell_type": "code",
   "execution_count": 111,
   "metadata": {},
   "outputs": [],
   "source": [
    "# closed our connections before, need to open them back up\n",
    "con = sqlite3.connect('data/flights.db')\n",
    "cursor = con.cursor()"
   ]
  },
  {
   "cell_type": "code",
   "execution_count": 115,
   "metadata": {},
   "outputs": [],
   "source": [
    "res = cursor.execute(\"\"\"\n",
    "    SELECT country, COUNT(*) as active_airline_count\n",
    "    FROM airlines\n",
    "    WHERE active = 'Y'\n",
    "    GROUP BY country\n",
    "    ORDER BY active_airline_count DESC;\n",
    "    \"\"\").fetchall()"
   ]
  },
  {
   "cell_type": "code",
   "execution_count": 119,
   "metadata": {},
   "outputs": [],
   "source": [
    "df = pd.DataFrame(res)\n",
    "df.columns = [desc[0] for desc in cursor.description]"
   ]
  },
  {
   "cell_type": "code",
   "execution_count": 120,
   "metadata": {},
   "outputs": [
    {
     "data": {
      "text/html": [
       "<div>\n",
       "<style scoped>\n",
       "    .dataframe tbody tr th:only-of-type {\n",
       "        vertical-align: middle;\n",
       "    }\n",
       "\n",
       "    .dataframe tbody tr th {\n",
       "        vertical-align: top;\n",
       "    }\n",
       "\n",
       "    .dataframe thead th {\n",
       "        text-align: right;\n",
       "    }\n",
       "</style>\n",
       "<table border=\"1\" class=\"dataframe\">\n",
       "  <thead>\n",
       "    <tr style=\"text-align: right;\">\n",
       "      <th></th>\n",
       "      <th>country</th>\n",
       "      <th>active_airline_count</th>\n",
       "    </tr>\n",
       "  </thead>\n",
       "  <tbody>\n",
       "    <tr>\n",
       "      <th>0</th>\n",
       "      <td>United States</td>\n",
       "      <td>141</td>\n",
       "    </tr>\n",
       "    <tr>\n",
       "      <th>1</th>\n",
       "      <td>Russia</td>\n",
       "      <td>72</td>\n",
       "    </tr>\n",
       "    <tr>\n",
       "      <th>2</th>\n",
       "      <td>United Kingdom</td>\n",
       "      <td>40</td>\n",
       "    </tr>\n",
       "    <tr>\n",
       "      <th>3</th>\n",
       "      <td>Germany</td>\n",
       "      <td>37</td>\n",
       "    </tr>\n",
       "    <tr>\n",
       "      <th>4</th>\n",
       "      <td>Canada</td>\n",
       "      <td>34</td>\n",
       "    </tr>\n",
       "  </tbody>\n",
       "</table>\n",
       "</div>"
      ],
      "text/plain": [
       "          country  active_airline_count\n",
       "0   United States                   141\n",
       "1          Russia                    72\n",
       "2  United Kingdom                    40\n",
       "3         Germany                    37\n",
       "4          Canada                    34"
      ]
     },
     "execution_count": 120,
     "metadata": {},
     "output_type": "execute_result"
    }
   ],
   "source": [
    "df.head()"
   ]
  },
  {
   "cell_type": "code",
   "execution_count": 126,
   "metadata": {},
   "outputs": [],
   "source": [
    "cursor.close()\n",
    "con.close()"
   ]
  },
  {
   "cell_type": "markdown",
   "metadata": {},
   "source": [
    "## Additional Resources\n",
    "\n",
    "Reading Resources:\n",
    "\n",
    "- [MariaDB's list of relational database terms, which also helps explain table relationships](https://mariadb.com/kb/en/relational-databases-basic-terms/)\n",
    "- [History of SQL Article](https://www.businessnewsdaily.com/5804-what-is-sql.html)\n",
    "- [The original SQL paper from the 1970s](https://www.seas.upenn.edu/~zives/03f/cis550/codd.pdf)\n",
    "\n",
    "Free SQL Courses: \n",
    "\n",
    "- [Kaggle's Courses](https://www.kaggle.com/learn/overview) on Intro to SQL and Advanced SQL - will include connecting to a Google Biq Query database\n",
    "- [Khan Academy's SQL Course](https://www.khanacademy.org/computing/computer-programming/sql), which includes using more complicated query commands like CASE\n",
    "- [Coursera Course on Modern Big Data Analysis with SQL](https://www.coursera.org/specializations/cloudera-big-data-analysis-sql) which was just recommended to me via the data science subreddit - covers SQL queries with specific considerations for very very large datasets stored in clusters in the cloud (specifically covers Hive and Impala, I'll likely be taking this course for fun over the next few weeks if anyone wants to join me!)"
   ]
  }
 ],
 "metadata": {
  "kernelspec": {
   "display_name": "Python 3",
   "language": "python",
   "name": "python3"
  },
  "language_info": {
   "codemirror_mode": {
    "name": "ipython",
    "version": 3
   },
   "file_extension": ".py",
   "mimetype": "text/x-python",
   "name": "python",
   "nbconvert_exporter": "python",
   "pygments_lexer": "ipython3",
   "version": "3.6.9"
  }
 },
 "nbformat": 4,
 "nbformat_minor": 4
}
