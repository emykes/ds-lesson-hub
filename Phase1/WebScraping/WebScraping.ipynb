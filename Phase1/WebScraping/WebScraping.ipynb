{
 "cells": [
  {
   "cell_type": "markdown",
   "metadata": {},
   "source": [
    "# Web-Scraping"
   ]
  },
  {
   "cell_type": "markdown",
   "metadata": {},
   "source": [
    "Hopefully, you can get all the data you need easily and accessibly, and don't need to scour the web to find a source that will let you do your analysis. \n",
    "\n",
    "We'd all prefer one of these:\n",
    "\n",
    "<img src=\"images/other_options.png\" alt=\"image showcasing a downloadable csv, database connection, or API, but we're not always so lucky. not sure of image source, took from materials provided by another instructor\" width=650>\n",
    "\n",
    "But we're not always so lucky! Sometimes we need data that's less accessible."
   ]
  },
  {
   "cell_type": "markdown",
   "metadata": {},
   "source": [
    "Enter...\n",
    "\n",
    "<img alt=\"beautiful soup logo\" src=\"images/bs.png\" width=500>\n",
    "\n",
    "> \"You didn't write that awful page. You're just trying to get some data out of it. Beautiful Soup is here to help. Since 2004, it's been saving programmers hours or days of work on quick-turnaround screen scraping projects.\"\n",
    "\n",
    "- From the Beautiful Soup [documentation](https://www.crummy.com/software/BeautifulSoup/bs4/doc/#)"
   ]
  },
  {
   "cell_type": "markdown",
   "metadata": {},
   "source": [
    "## Grabbing Movie Data\n",
    "\n",
    "We might think about grabbing more movie data, as we gear up towards our Phase 1 project which uses movie data. \n",
    "\n",
    "If we go to [IMDB](https://www.imdb.com/), their only API content seems expensive, and their advanced search results in tabular data that seems _extremely_ scrapable.\n",
    "\n",
    "**BUT** \n",
    "\n",
    "Enter - [conditions of use pages](https://www.imdb.com/conditions) ... and ethics!\n",
    "\n",
    "> \"**Robots and Screen Scraping:** You may not use data mining, robots, screen scraping, or similar data gathering and extraction tools on this site, except with our express written consent as noted below.\"\n",
    "\n",
    "**Let's Discuss**\n",
    "\n",
    "- Do people scrape sites they shouldn't? Sure, all the time. But am I going to tell you to ignore conditions/terms of use? Absolutely not. Make good choices.\n"
   ]
  },
  {
   "cell_type": "markdown",
   "metadata": {},
   "source": [
    "Instead, let's scrape Wikipedia for movie data - Wikipedia has a very accessible Creative Commons license for use!\n",
    "\n",
    "Let's explore a few [years in film](https://en.wikipedia.org/wiki/Table_of_years_in_film).\n",
    "\n",
    "## Task: Grab the top 10 highest-grossing films for each year, 2000-2019"
   ]
  },
  {
   "cell_type": "markdown",
   "metadata": {},
   "source": [
    "### Imports\n",
    "\n",
    "Our goal is to collect data into a Pandas dataframe. Plus we're still working with websites, so we'll still need the requests library."
   ]
  },
  {
   "cell_type": "code",
   "execution_count": 1,
   "metadata": {},
   "outputs": [],
   "source": [
    "import pandas as pd\n",
    "import requests\n",
    "from bs4 import BeautifulSoup # note this odd import statement structure\n",
    "import lxml"
   ]
  },
  {
   "cell_type": "code",
   "execution_count": 2,
   "metadata": {},
   "outputs": [],
   "source": [
    "# you may also need lxml - https://lxml.de/index.html\n",
    "# helps process html or xml in python\n",
    "# !pip install lxml"
   ]
  },
  {
   "cell_type": "markdown",
   "metadata": {},
   "source": [
    "Test case - [the year 2000](https://en.wikipedia.org/wiki/2000_in_film)."
   ]
  },
  {
   "cell_type": "code",
   "execution_count": 3,
   "metadata": {},
   "outputs": [],
   "source": [
    "# Get the response from the website, using requests\n",
    "resp = requests.get(\"https://en.wikipedia.org/wiki/2000_in_film\")"
   ]
  },
  {
   "cell_type": "code",
   "execution_count": null,
   "metadata": {
    "scrolled": true
   },
   "outputs": [],
   "source": [
    "# Let's check out the text attribute of that response...\n",
    "resp.text\n",
    "# (ew)"
   ]
  },
  {
   "cell_type": "code",
   "execution_count": 5,
   "metadata": {},
   "outputs": [],
   "source": [
    "# And now... beautiful soup! Let's soup-ify that text attribute\n",
    "soup = BeautifulSoup(resp.text)"
   ]
  },
  {
   "cell_type": "code",
   "execution_count": null,
   "metadata": {},
   "outputs": [],
   "source": [
    "# Can use a prettify function to pretty print\n",
    "print(soup.prettify())"
   ]
  },
  {
   "cell_type": "code",
   "execution_count": 7,
   "metadata": {},
   "outputs": [],
   "source": [
    "# Now we need to find the table we want in the soup - use .find()\n",
    "# Can pass a dictionary in the attributes argument\n",
    "table = soup.find('table', {'class':\"wikitable sortable\"})"
   ]
  },
  {
   "cell_type": "code",
   "execution_count": 8,
   "metadata": {},
   "outputs": [
    {
     "data": {
      "text/plain": [
       "['\\n1', 'Mission: Impossible 2', 'Paramount', '$546,388,105\\n']"
      ]
     },
     "execution_count": 8,
     "metadata": {},
     "output_type": "execute_result"
    }
   ],
   "source": [
    "# Explore that result\n",
    "len(table.find_all('tr'))"
   ]
  },
  {
   "cell_type": "code",
   "execution_count": 9,
   "metadata": {},
   "outputs": [
    {
     "data": {
      "text/plain": [
       "11"
      ]
     },
     "execution_count": 9,
     "metadata": {},
     "output_type": "execute_result"
    }
   ],
   "source": [
    "# Check out the first real row in the table\n",
    "table.find_all('tr')[1].get_text().split('\\n\\n')"
   ]
  },
  {
   "cell_type": "code",
   "execution_count": 10,
   "metadata": {},
   "outputs": [
    {
     "data": {
      "text/plain": [
       "'\\n10\\n\\nWhat Lies Beneath\\n\\n$291,420,351\\n'"
      ]
     },
     "execution_count": 10,
     "metadata": {},
     "output_type": "execute_result"
    }
   ],
   "source": [
    "# Check out the last row... what's missing?\n",
    "table.find_all('tr')[10].get_text()"
   ]
  },
  {
   "cell_type": "markdown",
   "metadata": {},
   "source": [
    "**But wait...** there's a shortcut (thanks pandas)"
   ]
  },
  {
   "cell_type": "code",
   "execution_count": 16,
   "metadata": {
    "scrolled": true
   },
   "outputs": [],
   "source": [
    "# Note - pandas likes the prettify objects better\n",
    "df = pd.read_html(table.prettify())"
   ]
  },
  {
   "cell_type": "code",
   "execution_count": 23,
   "metadata": {},
   "outputs": [],
   "source": [
    "films_2000 = df[0]"
   ]
  },
  {
   "cell_type": "code",
   "execution_count": 25,
   "metadata": {},
   "outputs": [],
   "source": [
    "films_2000['Year'] = 2000"
   ]
  },
  {
   "cell_type": "code",
   "execution_count": 26,
   "metadata": {},
   "outputs": [
    {
     "data": {
      "text/html": [
       "<div>\n",
       "<style scoped>\n",
       "    .dataframe tbody tr th:only-of-type {\n",
       "        vertical-align: middle;\n",
       "    }\n",
       "\n",
       "    .dataframe tbody tr th {\n",
       "        vertical-align: top;\n",
       "    }\n",
       "\n",
       "    .dataframe thead th {\n",
       "        text-align: right;\n",
       "    }\n",
       "</style>\n",
       "<table border=\"1\" class=\"dataframe\">\n",
       "  <thead>\n",
       "    <tr style=\"text-align: right;\">\n",
       "      <th></th>\n",
       "      <th>Rank</th>\n",
       "      <th>Title</th>\n",
       "      <th>Distributor</th>\n",
       "      <th>Worldwide gross</th>\n",
       "      <th>Year</th>\n",
       "    </tr>\n",
       "  </thead>\n",
       "  <tbody>\n",
       "    <tr>\n",
       "      <th>0</th>\n",
       "      <td>1</td>\n",
       "      <td>Mission: Impossible 2</td>\n",
       "      <td>Paramount</td>\n",
       "      <td>$546,388,105</td>\n",
       "      <td>2000</td>\n",
       "    </tr>\n",
       "    <tr>\n",
       "      <th>1</th>\n",
       "      <td>2</td>\n",
       "      <td>Gladiator</td>\n",
       "      <td>Universal</td>\n",
       "      <td>$460,583,960</td>\n",
       "      <td>2000</td>\n",
       "    </tr>\n",
       "    <tr>\n",
       "      <th>2</th>\n",
       "      <td>3</td>\n",
       "      <td>Cast Away</td>\n",
       "      <td>20th Century Fox</td>\n",
       "      <td>$429,632,142</td>\n",
       "      <td>2000</td>\n",
       "    </tr>\n",
       "    <tr>\n",
       "      <th>3</th>\n",
       "      <td>4</td>\n",
       "      <td>What Women Want</td>\n",
       "      <td>Paramount</td>\n",
       "      <td>$374,111,707</td>\n",
       "      <td>2000</td>\n",
       "    </tr>\n",
       "    <tr>\n",
       "      <th>4</th>\n",
       "      <td>5</td>\n",
       "      <td>Dinosaur</td>\n",
       "      <td>Disney</td>\n",
       "      <td>$349,822,765</td>\n",
       "      <td>2000</td>\n",
       "    </tr>\n",
       "    <tr>\n",
       "      <th>5</th>\n",
       "      <td>6</td>\n",
       "      <td>How the Grinch Stole Christmas</td>\n",
       "      <td>Universal</td>\n",
       "      <td>$345,141,403</td>\n",
       "      <td>2000</td>\n",
       "    </tr>\n",
       "    <tr>\n",
       "      <th>6</th>\n",
       "      <td>7</td>\n",
       "      <td>Meet the Parents</td>\n",
       "      <td>Universal</td>\n",
       "      <td>$330,444,045</td>\n",
       "      <td>2000</td>\n",
       "    </tr>\n",
       "    <tr>\n",
       "      <th>7</th>\n",
       "      <td>8</td>\n",
       "      <td>The Perfect Storm</td>\n",
       "      <td>Warner Bros.</td>\n",
       "      <td>$328,718,434</td>\n",
       "      <td>2000</td>\n",
       "    </tr>\n",
       "    <tr>\n",
       "      <th>8</th>\n",
       "      <td>9</td>\n",
       "      <td>X-Men</td>\n",
       "      <td>20th Century Fox</td>\n",
       "      <td>$296,339,527</td>\n",
       "      <td>2000</td>\n",
       "    </tr>\n",
       "    <tr>\n",
       "      <th>9</th>\n",
       "      <td>10</td>\n",
       "      <td>What Lies Beneath</td>\n",
       "      <td>20th Century Fox</td>\n",
       "      <td>$291,420,351</td>\n",
       "      <td>2000</td>\n",
       "    </tr>\n",
       "  </tbody>\n",
       "</table>\n",
       "</div>"
      ],
      "text/plain": [
       "   Rank                           Title       Distributor Worldwide gross  \\\n",
       "0     1           Mission: Impossible 2         Paramount    $546,388,105   \n",
       "1     2                       Gladiator         Universal    $460,583,960   \n",
       "2     3                       Cast Away  20th Century Fox    $429,632,142   \n",
       "3     4                 What Women Want         Paramount    $374,111,707   \n",
       "4     5                        Dinosaur            Disney    $349,822,765   \n",
       "5     6  How the Grinch Stole Christmas         Universal    $345,141,403   \n",
       "6     7                Meet the Parents         Universal    $330,444,045   \n",
       "7     8               The Perfect Storm      Warner Bros.    $328,718,434   \n",
       "8     9                           X-Men  20th Century Fox    $296,339,527   \n",
       "9    10               What Lies Beneath  20th Century Fox    $291,420,351   \n",
       "\n",
       "   Year  \n",
       "0  2000  \n",
       "1  2000  \n",
       "2  2000  \n",
       "3  2000  \n",
       "4  2000  \n",
       "5  2000  \n",
       "6  2000  \n",
       "7  2000  \n",
       "8  2000  \n",
       "9  2000  "
      ]
     },
     "execution_count": 26,
     "metadata": {},
     "output_type": "execute_result"
    }
   ],
   "source": [
    "films_2000"
   ]
  },
  {
   "cell_type": "markdown",
   "metadata": {},
   "source": [
    "### Now Loop It!"
   ]
  },
  {
   "cell_type": "code",
   "execution_count": 30,
   "metadata": {},
   "outputs": [],
   "source": [
    "# My preference - create a list of dataframes, then concat afterwards\n",
    "# Are there other ways to create one big df from this? OF COURSE!\n",
    "\n",
    "list_of_dfs = []\n",
    "\n",
    "for year in range(2000, 2021):\n",
    "    url = f\"https://en.wikipedia.org/wiki/{year}_in_film\"\n",
    "    resp = requests.get(url).text\n",
    "    soup = BeautifulSoup(resp)\n",
    "    table = soup.find('table', {'class':\"wikitable sortable\"})\n",
    "    df = pd.read_html(table.prettify())[0]\n",
    "    df['Year'] = year\n",
    "    list_of_dfs.append(df)\n",
    "    # Only 20 things... not going to worry about using time to pause requests"
   ]
  },
  {
   "cell_type": "code",
   "execution_count": 34,
   "metadata": {},
   "outputs": [
    {
     "data": {
      "text/html": [
       "<div>\n",
       "<style scoped>\n",
       "    .dataframe tbody tr th:only-of-type {\n",
       "        vertical-align: middle;\n",
       "    }\n",
       "\n",
       "    .dataframe tbody tr th {\n",
       "        vertical-align: top;\n",
       "    }\n",
       "\n",
       "    .dataframe thead th {\n",
       "        text-align: right;\n",
       "    }\n",
       "</style>\n",
       "<table border=\"1\" class=\"dataframe\">\n",
       "  <thead>\n",
       "    <tr style=\"text-align: right;\">\n",
       "      <th></th>\n",
       "      <th>Rank</th>\n",
       "      <th>Title</th>\n",
       "      <th>Distributor</th>\n",
       "      <th>Worldwide gross</th>\n",
       "      <th>Year</th>\n",
       "    </tr>\n",
       "  </thead>\n",
       "  <tbody>\n",
       "    <tr>\n",
       "      <th>0</th>\n",
       "      <td>1</td>\n",
       "      <td>The Eight Hundred</td>\n",
       "      <td>CMC Pictures Holdings</td>\n",
       "      <td>$464,760,324</td>\n",
       "      <td>2020</td>\n",
       "    </tr>\n",
       "    <tr>\n",
       "      <th>1</th>\n",
       "      <td>2</td>\n",
       "      <td>Bad Boys for Life</td>\n",
       "      <td>Sony</td>\n",
       "      <td>$424,505,244</td>\n",
       "      <td>2020</td>\n",
       "    </tr>\n",
       "    <tr>\n",
       "      <th>2</th>\n",
       "      <td>3</td>\n",
       "      <td>My People, My Homeland</td>\n",
       "      <td>China Lion Film Distribution</td>\n",
       "      <td>$394,780,000</td>\n",
       "      <td>2020</td>\n",
       "    </tr>\n",
       "    <tr>\n",
       "      <th>3</th>\n",
       "      <td>4</td>\n",
       "      <td>Tenet</td>\n",
       "      <td>Warner Bros.</td>\n",
       "      <td>$341,600,000</td>\n",
       "      <td>2020</td>\n",
       "    </tr>\n",
       "    <tr>\n",
       "      <th>4</th>\n",
       "      <td>5</td>\n",
       "      <td>Sonic the Hedgehog</td>\n",
       "      <td>Paramount</td>\n",
       "      <td>$308,434,533</td>\n",
       "      <td>2020</td>\n",
       "    </tr>\n",
       "    <tr>\n",
       "      <th>5</th>\n",
       "      <td>6</td>\n",
       "      <td>Dolittle</td>\n",
       "      <td>Universal</td>\n",
       "      <td>$250,482,863</td>\n",
       "      <td>2020</td>\n",
       "    </tr>\n",
       "    <tr>\n",
       "      <th>6</th>\n",
       "      <td>7</td>\n",
       "      <td>Jiang Ziya</td>\n",
       "      <td>Beijing Enlight Pictures</td>\n",
       "      <td>$234,023,520</td>\n",
       "      <td>2020</td>\n",
       "    </tr>\n",
       "    <tr>\n",
       "      <th>7</th>\n",
       "      <td>8</td>\n",
       "      <td>Birds of Prey</td>\n",
       "      <td>Warner Bros.</td>\n",
       "      <td>$201,858,461</td>\n",
       "      <td>2020</td>\n",
       "    </tr>\n",
       "    <tr>\n",
       "      <th>8</th>\n",
       "      <td>9</td>\n",
       "      <td>Demon Slayer: Infinity Train</td>\n",
       "      <td>Toho  /  Aniplex</td>\n",
       "      <td>$150,000,000</td>\n",
       "      <td>2020</td>\n",
       "    </tr>\n",
       "    <tr>\n",
       "      <th>9</th>\n",
       "      <td>10</td>\n",
       "      <td>Onward</td>\n",
       "      <td>Disney</td>\n",
       "      <td>$144,983,422</td>\n",
       "      <td>2020</td>\n",
       "    </tr>\n",
       "  </tbody>\n",
       "</table>\n",
       "</div>"
      ],
      "text/plain": [
       "   Rank                         Title                   Distributor  \\\n",
       "0     1             The Eight Hundred         CMC Pictures Holdings   \n",
       "1     2             Bad Boys for Life                          Sony   \n",
       "2     3        My People, My Homeland  China Lion Film Distribution   \n",
       "3     4                         Tenet                  Warner Bros.   \n",
       "4     5            Sonic the Hedgehog                     Paramount   \n",
       "5     6                      Dolittle                     Universal   \n",
       "6     7                    Jiang Ziya      Beijing Enlight Pictures   \n",
       "7     8                 Birds of Prey                  Warner Bros.   \n",
       "8     9  Demon Slayer: Infinity Train              Toho  /  Aniplex   \n",
       "9    10                        Onward                        Disney   \n",
       "\n",
       "  Worldwide gross  Year  \n",
       "0    $464,760,324  2020  \n",
       "1    $424,505,244  2020  \n",
       "2    $394,780,000  2020  \n",
       "3    $341,600,000  2020  \n",
       "4    $308,434,533  2020  \n",
       "5    $250,482,863  2020  \n",
       "6    $234,023,520  2020  \n",
       "7    $201,858,461  2020  \n",
       "8    $150,000,000  2020  \n",
       "9    $144,983,422  2020  "
      ]
     },
     "execution_count": 34,
     "metadata": {},
     "output_type": "execute_result"
    }
   ],
   "source": [
    "list_of_dfs[20]"
   ]
  },
  {
   "cell_type": "code",
   "execution_count": 39,
   "metadata": {},
   "outputs": [],
   "source": [
    "# Now to concat...\n",
    "full_df = pd.concat([df for df in list_of_dfs], ignore_index=True)"
   ]
  },
  {
   "cell_type": "markdown",
   "metadata": {},
   "source": [
    "Let's practice some data cleaning on the Worldwide Gross column:"
   ]
  },
  {
   "cell_type": "code",
   "execution_count": 75,
   "metadata": {},
   "outputs": [
    {
     "data": {
      "text/plain": [
       "0    546388105\n",
       "1    460583960\n",
       "2    429632142\n",
       "3    374111707\n",
       "4    349822765\n",
       "Name: Worldwide gross, dtype: int64"
      ]
     },
     "execution_count": 75,
     "metadata": {},
     "output_type": "execute_result"
    }
   ],
   "source": [
    "full_df['Worldwide gross'].head()"
   ]
  },
  {
   "cell_type": "code",
   "execution_count": 66,
   "metadata": {},
   "outputs": [
    {
     "data": {
      "text/html": [
       "<div>\n",
       "<style scoped>\n",
       "    .dataframe tbody tr th:only-of-type {\n",
       "        vertical-align: middle;\n",
       "    }\n",
       "\n",
       "    .dataframe tbody tr th {\n",
       "        vertical-align: top;\n",
       "    }\n",
       "\n",
       "    .dataframe thead th {\n",
       "        text-align: right;\n",
       "    }\n",
       "</style>\n",
       "<table border=\"1\" class=\"dataframe\">\n",
       "  <thead>\n",
       "    <tr style=\"text-align: right;\">\n",
       "      <th></th>\n",
       "      <th>Rank</th>\n",
       "      <th>Title</th>\n",
       "      <th>Distributor</th>\n",
       "      <th>Worldwide gross</th>\n",
       "      <th>Year</th>\n",
       "    </tr>\n",
       "  </thead>\n",
       "  <tbody>\n",
       "    <tr>\n",
       "      <th>31</th>\n",
       "      <td>2</td>\n",
       "      <td>Finding Nemo</td>\n",
       "      <td>Disney</td>\n",
       "      <td>$871,014,978  [2]</td>\n",
       "      <td>2003</td>\n",
       "    </tr>\n",
       "  </tbody>\n",
       "</table>\n",
       "</div>"
      ],
      "text/plain": [
       "    Rank         Title Distributor    Worldwide gross  Year\n",
       "31     2  Finding Nemo      Disney  $871,014,978  [2]  2003"
      ]
     },
     "execution_count": 66,
     "metadata": {},
     "output_type": "execute_result"
    }
   ],
   "source": [
    "full_df.loc[full_df['Worldwide gross'] == '$871,014,978  [2]']"
   ]
  },
  {
   "cell_type": "code",
   "execution_count": 68,
   "metadata": {},
   "outputs": [
    {
     "data": {
      "text/plain": [
       "'$871,014,978'"
      ]
     },
     "execution_count": 68,
     "metadata": {},
     "output_type": "execute_result"
    }
   ],
   "source": [
    "full_df['Worldwide gross'][31].split()[0]"
   ]
  },
  {
   "cell_type": "code",
   "execution_count": 71,
   "metadata": {},
   "outputs": [],
   "source": [
    "full_df['Worldwide gross'] = full_df['Worldwide gross'].map(lambda x: x.split()[0]).unique()"
   ]
  },
  {
   "cell_type": "code",
   "execution_count": 73,
   "metadata": {
    "scrolled": true
   },
   "outputs": [],
   "source": [
    "full_df['Worldwide gross'] = full_df['Worldwide gross'].str.replace(\",\",\"\").str.replace(\"$\",\"\").astype(int)"
   ]
  },
  {
   "cell_type": "code",
   "execution_count": 77,
   "metadata": {},
   "outputs": [
    {
     "data": {
      "text/html": [
       "<div>\n",
       "<style scoped>\n",
       "    .dataframe tbody tr th:only-of-type {\n",
       "        vertical-align: middle;\n",
       "    }\n",
       "\n",
       "    .dataframe tbody tr th {\n",
       "        vertical-align: top;\n",
       "    }\n",
       "\n",
       "    .dataframe thead th {\n",
       "        text-align: right;\n",
       "    }\n",
       "</style>\n",
       "<table border=\"1\" class=\"dataframe\">\n",
       "  <thead>\n",
       "    <tr style=\"text-align: right;\">\n",
       "      <th></th>\n",
       "      <th>Rank</th>\n",
       "      <th>Title</th>\n",
       "      <th>Distributor</th>\n",
       "      <th>Worldwide gross</th>\n",
       "      <th>Year</th>\n",
       "    </tr>\n",
       "  </thead>\n",
       "  <tbody>\n",
       "    <tr>\n",
       "      <th>0</th>\n",
       "      <td>1</td>\n",
       "      <td>Mission: Impossible 2</td>\n",
       "      <td>Paramount</td>\n",
       "      <td>546388105</td>\n",
       "      <td>2000</td>\n",
       "    </tr>\n",
       "    <tr>\n",
       "      <th>1</th>\n",
       "      <td>2</td>\n",
       "      <td>Gladiator</td>\n",
       "      <td>Universal</td>\n",
       "      <td>460583960</td>\n",
       "      <td>2000</td>\n",
       "    </tr>\n",
       "    <tr>\n",
       "      <th>2</th>\n",
       "      <td>3</td>\n",
       "      <td>Cast Away</td>\n",
       "      <td>20th Century Fox</td>\n",
       "      <td>429632142</td>\n",
       "      <td>2000</td>\n",
       "    </tr>\n",
       "    <tr>\n",
       "      <th>3</th>\n",
       "      <td>4</td>\n",
       "      <td>What Women Want</td>\n",
       "      <td>Paramount</td>\n",
       "      <td>374111707</td>\n",
       "      <td>2000</td>\n",
       "    </tr>\n",
       "    <tr>\n",
       "      <th>4</th>\n",
       "      <td>5</td>\n",
       "      <td>Dinosaur</td>\n",
       "      <td>Disney</td>\n",
       "      <td>349822765</td>\n",
       "      <td>2000</td>\n",
       "    </tr>\n",
       "  </tbody>\n",
       "</table>\n",
       "</div>"
      ],
      "text/plain": [
       "   Rank                  Title       Distributor  Worldwide gross  Year\n",
       "0     1  Mission: Impossible 2         Paramount        546388105  2000\n",
       "1     2              Gladiator         Universal        460583960  2000\n",
       "2     3              Cast Away  20th Century Fox        429632142  2000\n",
       "3     4        What Women Want         Paramount        374111707  2000\n",
       "4     5               Dinosaur            Disney        349822765  2000"
      ]
     },
     "execution_count": 77,
     "metadata": {},
     "output_type": "execute_result"
    }
   ],
   "source": [
    "full_df.head()"
   ]
  },
  {
   "cell_type": "markdown",
   "metadata": {},
   "source": [
    "## Discussion Time!\n",
    "\n",
    "What else could we do with webscraping? Any project ideas pop into mind? Any useful things on that page we could also use to grab more data? Let's discuss!\n",
    "\n",
    "- Had URLs in these results - could grab even more data on each movie using those\n",
    "- Can loop through any kind of repeatable URL, provided you figure out the pattern!\n",
    "- The possibilities are endless... (but don't forget to check the terms of use, don't get in trouble!)\n"
   ]
  }
 ],
 "metadata": {
  "kernelspec": {
   "display_name": "learn-env",
   "language": "python",
   "name": "learn-env"
  },
  "language_info": {
   "codemirror_mode": {
    "name": "ipython",
    "version": 3
   },
   "file_extension": ".py",
   "mimetype": "text/x-python",
   "name": "python",
   "nbconvert_exporter": "python",
   "pygments_lexer": "ipython3",
   "version": "3.8.5"
  }
 },
 "nbformat": 4,
 "nbformat_minor": 4
}
