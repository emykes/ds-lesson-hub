{
 "cells": [
  {
   "cell_type": "markdown",
   "metadata": {},
   "source": [
    "# Regularization\n",
    "\n",
    "## Why Regularize?\n",
    "\n",
    "In an attempt to fit a good model to data, we often tend to overfit. Regularization discourages overly complex models by penalizing the loss function.\n",
    "\n",
    "### The Bias-Variance Tradeoff\n",
    "\n",
    "When we did Linear Regression, we briefly talked about the Bias-Variance Tradeoff.\n",
    "\n",
    "![](http://scott.fortmann-roe.com/docs/docs/BiasVariance/biasvariance.png)\n",
    "\n",
    "![](https://miro.medium.com/max/544/1*Y-yJiR0FzMgchPA-Fm5c1Q.jpeg)"
   ]
  },
  {
   "cell_type": "markdown",
   "metadata": {},
   "source": [
    "**High bias** \n",
    "\n",
    " - Systematic error in predictions (i.e. the average)\n",
    " - Bias is about the strength of assumptions the model makes\n",
    " - Underfit models tend to have high bias\n",
    "\n",
    "\n",
    "**High variance**\n",
    "\n",
    " - The model is highly sensitive to changes in the data\n",
    " - Overfit models tend to have low bias and high variance\n",
    "    \n",
    "    \n",
    "![](https://gblobscdn.gitbook.com/assets%2F-LvBP1svpACTB1R1x_U4%2F-LvNWUoWieQqaGmU_gl9%2F-LvNoby-llz4QzAK15nL%2Fimage.png?alt=media&token=41720ce9-bb66-4419-9bd8-640abf1fc415)\n",
    "\n",
    " - Underfit Models fail to capture all of the information in the data\n",
    " - Overfit models fit to the noise in the data and fail to generalize\n",
    "\n",
    "\n",
    "**How would we know if our model is over or underfit?**\n",
    " - Train test split & look at the testing error\n",
    " - As model complexity increases so does the possibility for overfitting"
   ]
  },
  {
   "cell_type": "markdown",
   "metadata": {},
   "source": [
    "## Ridge and Lasso\n",
    "\n",
    "Ridge and Lasso regression are two examples of penalized estimation. Penalized estimation makes some or all of the coefficients smaller in magnitude (closer to zero). Some of the penalties have the property of performing both variable selection (setting some coefficients exactly equal to zero) and shrinking the other coefficients. \n",
    "\n",
    "In Ridge regression, the cost function is changed by adding a penalty term to the square of the magnitude of the coefficients. \n",
    "\n",
    "$$ \\text{cost_function_ridge}= \\sum_{i=1}^n(y_i - \\hat{y})^2 = \\sum_{i=1}^n(y_i - \\sum_{j=1}^k(m_jx_{ij})-b)^2 + \\lambda \\sum_{j=1}^p m_j^2$$\n",
    "\n",
    "Lasso regression (Least Absolute Shrinkage and Selection Operator) is very similar to Ridge regression, except that the magnitude of the coefficients are not squared in the penalty term.\n",
    "\n",
    "$$ \\text{cost_function_lasso}= \\sum_{i=1}^n(y_i - \\hat{y})^2 = \\sum_{i=1}^n(y_i - \\sum_{j=1}^k(m_jx_{ij})-b)^2 + \\lambda \\sum_{j=1}^p \\mid m_j \\mid$$\n",
    "\n",
    "So we're penalizing large coefficients -- what are the effects/implications of that?\n",
    "\n",
    "### Standardization before Regularization\n",
    "\n",
    "An important step before using either Lasso or Ridge regularization is to first standardize your data such that it is all on the same scale. Regularization is based on the concept of penalizing larger coefficients, so **if you have features that are on different scales, some will get unfairly penalized**. A downside of standardization is that the value of the coefficients become less interpretable and must be transformed back to their original scale if you want to interpret how a one unit change in a feature impacts the target variable.\n",
    "\n",
    "**Scaler documentation:**\n",
    "\n",
    "* https://scikit-learn.org/stable/modules/generated/sklearn.preprocessing.MinMaxScaler.html\n",
    "* https://scikit-learn.org/stable/modules/generated/sklearn.preprocessing.StandardScaler.html"
   ]
  },
  {
   "cell_type": "markdown",
   "metadata": {},
   "source": [
    "## Let's Code! \n",
    "\n",
    "Start with a regular Linear Regression."
   ]
  },
  {
   "cell_type": "code",
   "execution_count": 1,
   "metadata": {},
   "outputs": [],
   "source": [
    "import pandas as pd\n",
    "import numpy as np\n",
    "\n",
    "import matplotlib.pyplot as plt\n",
    "\n",
    "from sklearn.model_selection import train_test_split\n",
    "from sklearn.metrics import mean_squared_error, r2_score\n",
    "from sklearn.linear_model import LinearRegression\n",
    "from sklearn.impute import SimpleImputer\n",
    "from sklearn.preprocessing import StandardScaler, MinMaxScaler\n",
    "from sklearn.preprocessing import OneHotEncoder\n",
    "\n",
    "# import warnings\n",
    "# warnings.filterwarnings('ignore')"
   ]
  },
  {
   "cell_type": "code",
   "execution_count": 2,
   "metadata": {},
   "outputs": [],
   "source": [
    "df = pd.read_csv('data/ames_train.csv') # Ames housing data\n",
    "\n",
    "# Drop sale detail columns \n",
    "df = df.drop(columns = ['Id', 'MoSold', 'YrSold', 'SaleType', 'SaleCondition'])\n",
    "\n",
    "# Create X and y\n",
    "y = df['SalePrice']\n",
    "X = df.drop(columns=['SalePrice'], axis=1)\n",
    "\n",
    "# Split data into training and test sets\n",
    "X_train, X_test, y_train, y_test = train_test_split(X, y, random_state=42)"
   ]
  },
  {
   "cell_type": "markdown",
   "metadata": {},
   "source": [
    "### Time to Clean/Process"
   ]
  },
  {
   "cell_type": "code",
   "execution_count": 3,
   "metadata": {
    "scrolled": false
   },
   "outputs": [
    {
     "name": "stdout",
     "output_type": "stream",
     "text": [
      "<class 'pandas.core.frame.DataFrame'>\n",
      "Int64Index: 1095 entries, 1023 to 1126\n",
      "Data columns (total 75 columns):\n",
      " #   Column         Non-Null Count  Dtype  \n",
      "---  ------         --------------  -----  \n",
      " 0   MSSubClass     1095 non-null   int64  \n",
      " 1   MSZoning       1095 non-null   object \n",
      " 2   LotFrontage    895 non-null    float64\n",
      " 3   LotArea        1095 non-null   int64  \n",
      " 4   Street         1095 non-null   object \n",
      " 5   Alley          70 non-null     object \n",
      " 6   LotShape       1095 non-null   object \n",
      " 7   LandContour    1095 non-null   object \n",
      " 8   Utilities      1095 non-null   object \n",
      " 9   LotConfig      1095 non-null   object \n",
      " 10  LandSlope      1095 non-null   object \n",
      " 11  Neighborhood   1095 non-null   object \n",
      " 12  Condition1     1095 non-null   object \n",
      " 13  Condition2     1095 non-null   object \n",
      " 14  BldgType       1095 non-null   object \n",
      " 15  HouseStyle     1095 non-null   object \n",
      " 16  OverallQual    1095 non-null   int64  \n",
      " 17  OverallCond    1095 non-null   int64  \n",
      " 18  YearBuilt      1095 non-null   int64  \n",
      " 19  YearRemodAdd   1095 non-null   int64  \n",
      " 20  RoofStyle      1095 non-null   object \n",
      " 21  RoofMatl       1095 non-null   object \n",
      " 22  Exterior1st    1095 non-null   object \n",
      " 23  Exterior2nd    1095 non-null   object \n",
      " 24  MasVnrType     1091 non-null   object \n",
      " 25  MasVnrArea     1091 non-null   float64\n",
      " 26  ExterQual      1095 non-null   object \n",
      " 27  ExterCond      1095 non-null   object \n",
      " 28  Foundation     1095 non-null   object \n",
      " 29  BsmtQual       1068 non-null   object \n",
      " 30  BsmtCond       1068 non-null   object \n",
      " 31  BsmtExposure   1068 non-null   object \n",
      " 32  BsmtFinType1   1068 non-null   object \n",
      " 33  BsmtFinSF1     1095 non-null   int64  \n",
      " 34  BsmtFinType2   1068 non-null   object \n",
      " 35  BsmtFinSF2     1095 non-null   int64  \n",
      " 36  BsmtUnfSF      1095 non-null   int64  \n",
      " 37  TotalBsmtSF    1095 non-null   int64  \n",
      " 38  Heating        1095 non-null   object \n",
      " 39  HeatingQC      1095 non-null   object \n",
      " 40  CentralAir     1095 non-null   object \n",
      " 41  Electrical     1094 non-null   object \n",
      " 42  1stFlrSF       1095 non-null   int64  \n",
      " 43  2ndFlrSF       1095 non-null   int64  \n",
      " 44  LowQualFinSF   1095 non-null   int64  \n",
      " 45  GrLivArea      1095 non-null   int64  \n",
      " 46  BsmtFullBath   1095 non-null   int64  \n",
      " 47  BsmtHalfBath   1095 non-null   int64  \n",
      " 48  FullBath       1095 non-null   int64  \n",
      " 49  HalfBath       1095 non-null   int64  \n",
      " 50  BedroomAbvGr   1095 non-null   int64  \n",
      " 51  KitchenAbvGr   1095 non-null   int64  \n",
      " 52  KitchenQual    1095 non-null   object \n",
      " 53  TotRmsAbvGrd   1095 non-null   int64  \n",
      " 54  Functional     1095 non-null   object \n",
      " 55  Fireplaces     1095 non-null   int64  \n",
      " 56  FireplaceQu    583 non-null    object \n",
      " 57  GarageType     1037 non-null   object \n",
      " 58  GarageYrBlt    1037 non-null   float64\n",
      " 59  GarageFinish   1037 non-null   object \n",
      " 60  GarageCars     1095 non-null   int64  \n",
      " 61  GarageArea     1095 non-null   int64  \n",
      " 62  GarageQual     1037 non-null   object \n",
      " 63  GarageCond     1037 non-null   object \n",
      " 64  PavedDrive     1095 non-null   object \n",
      " 65  WoodDeckSF     1095 non-null   int64  \n",
      " 66  OpenPorchSF    1095 non-null   int64  \n",
      " 67  EnclosedPorch  1095 non-null   int64  \n",
      " 68  3SsnPorch      1095 non-null   int64  \n",
      " 69  ScreenPorch    1095 non-null   int64  \n",
      " 70  PoolArea       1095 non-null   int64  \n",
      " 71  PoolQC         6 non-null      object \n",
      " 72  Fence          218 non-null    object \n",
      " 73  MiscFeature    43 non-null     object \n",
      " 74  MiscVal        1095 non-null   int64  \n",
      "dtypes: float64(3), int64(31), object(41)\n",
      "memory usage: 650.2+ KB\n"
     ]
    }
   ],
   "source": [
    "X_train.info()"
   ]
  },
  {
   "cell_type": "code",
   "execution_count": 4,
   "metadata": {
    "scrolled": true
   },
   "outputs": [
    {
     "data": {
      "text/plain": [
       "PoolQC          0.994521\n",
       "MiscFeature     0.960731\n",
       "Alley           0.936073\n",
       "Fence           0.800913\n",
       "FireplaceQu     0.467580\n",
       "LotFrontage     0.182648\n",
       "GarageQual      0.052968\n",
       "GarageType      0.052968\n",
       "GarageYrBlt     0.052968\n",
       "GarageFinish    0.052968\n",
       "GarageCond      0.052968\n",
       "BsmtCond        0.024658\n",
       "BsmtExposure    0.024658\n",
       "BsmtFinType2    0.024658\n",
       "BsmtQual        0.024658\n",
       "BsmtFinType1    0.024658\n",
       "MasVnrArea      0.003653\n",
       "MasVnrType      0.003653\n",
       "Electrical      0.000913\n",
       "YearRemodAdd    0.000000\n",
       "dtype: float64"
      ]
     },
     "execution_count": 4,
     "metadata": {},
     "output_type": "execute_result"
    }
   ],
   "source": [
    "# Let's check the percentage of our training data that's null per column\n",
    "null_perc = X_train.isna().sum() / len(X_train)\n",
    "null_perc.sort_values(ascending=False).head(20)"
   ]
  },
  {
   "cell_type": "code",
   "execution_count": 5,
   "metadata": {},
   "outputs": [
    {
     "name": "stdout",
     "output_type": "stream",
     "text": [
      "['LotFrontage', 'Alley', 'FireplaceQu', 'PoolQC', 'Fence', 'MiscFeature']\n"
     ]
    }
   ],
   "source": [
    "# Dropping where nulls are more than 10% of column\n",
    "null_cols = list(null_perc[null_perc > .1].index)\n",
    "print(null_cols)\n",
    "\n",
    "X_train = X_train.drop(columns=null_cols, axis=1)\n",
    "X_test = X_test.drop(columns=null_cols, axis=1)"
   ]
  },
  {
   "cell_type": "code",
   "execution_count": 6,
   "metadata": {
    "scrolled": true
   },
   "outputs": [
    {
     "data": {
      "text/html": [
       "<div>\n",
       "<style scoped>\n",
       "    .dataframe tbody tr th:only-of-type {\n",
       "        vertical-align: middle;\n",
       "    }\n",
       "\n",
       "    .dataframe tbody tr th {\n",
       "        vertical-align: top;\n",
       "    }\n",
       "\n",
       "    .dataframe thead th {\n",
       "        text-align: right;\n",
       "    }\n",
       "</style>\n",
       "<table border=\"1\" class=\"dataframe\">\n",
       "  <thead>\n",
       "    <tr style=\"text-align: right;\">\n",
       "      <th></th>\n",
       "      <th>MSSubClass</th>\n",
       "      <th>LotArea</th>\n",
       "      <th>OverallQual</th>\n",
       "      <th>OverallCond</th>\n",
       "      <th>YearBuilt</th>\n",
       "      <th>YearRemodAdd</th>\n",
       "      <th>MasVnrArea</th>\n",
       "      <th>BsmtFinSF1</th>\n",
       "      <th>BsmtFinSF2</th>\n",
       "      <th>BsmtUnfSF</th>\n",
       "      <th>...</th>\n",
       "      <th>GarageYrBlt</th>\n",
       "      <th>GarageCars</th>\n",
       "      <th>GarageArea</th>\n",
       "      <th>WoodDeckSF</th>\n",
       "      <th>OpenPorchSF</th>\n",
       "      <th>EnclosedPorch</th>\n",
       "      <th>3SsnPorch</th>\n",
       "      <th>ScreenPorch</th>\n",
       "      <th>PoolArea</th>\n",
       "      <th>MiscVal</th>\n",
       "    </tr>\n",
       "  </thead>\n",
       "  <tbody>\n",
       "    <tr>\n",
       "      <th>count</th>\n",
       "      <td>1095.000000</td>\n",
       "      <td>1095.000000</td>\n",
       "      <td>1095.000000</td>\n",
       "      <td>1095.00000</td>\n",
       "      <td>1095.000000</td>\n",
       "      <td>1095.000000</td>\n",
       "      <td>1091.000000</td>\n",
       "      <td>1095.000000</td>\n",
       "      <td>1095.000000</td>\n",
       "      <td>1095.000000</td>\n",
       "      <td>...</td>\n",
       "      <td>1037.000000</td>\n",
       "      <td>1095.000000</td>\n",
       "      <td>1095.000000</td>\n",
       "      <td>1095.000000</td>\n",
       "      <td>1095.000000</td>\n",
       "      <td>1095.000000</td>\n",
       "      <td>1095.000000</td>\n",
       "      <td>1095.000000</td>\n",
       "      <td>1095.000000</td>\n",
       "      <td>1095.000000</td>\n",
       "    </tr>\n",
       "    <tr>\n",
       "      <th>mean</th>\n",
       "      <td>57.118721</td>\n",
       "      <td>10747.046575</td>\n",
       "      <td>6.129680</td>\n",
       "      <td>5.56895</td>\n",
       "      <td>1971.107763</td>\n",
       "      <td>1984.854795</td>\n",
       "      <td>103.368469</td>\n",
       "      <td>448.178082</td>\n",
       "      <td>43.790868</td>\n",
       "      <td>568.794521</td>\n",
       "      <td>...</td>\n",
       "      <td>1978.694311</td>\n",
       "      <td>1.784475</td>\n",
       "      <td>477.539726</td>\n",
       "      <td>96.194521</td>\n",
       "      <td>49.633790</td>\n",
       "      <td>21.118721</td>\n",
       "      <td>3.918721</td>\n",
       "      <td>15.917808</td>\n",
       "      <td>3.152511</td>\n",
       "      <td>40.529680</td>\n",
       "    </tr>\n",
       "    <tr>\n",
       "      <th>std</th>\n",
       "      <td>42.624531</td>\n",
       "      <td>11065.878057</td>\n",
       "      <td>1.366746</td>\n",
       "      <td>1.10448</td>\n",
       "      <td>30.605697</td>\n",
       "      <td>20.732472</td>\n",
       "      <td>171.644715</td>\n",
       "      <td>457.898505</td>\n",
       "      <td>153.896464</td>\n",
       "      <td>444.865511</td>\n",
       "      <td>...</td>\n",
       "      <td>24.810675</td>\n",
       "      <td>0.733836</td>\n",
       "      <td>210.563755</td>\n",
       "      <td>130.396336</td>\n",
       "      <td>69.134174</td>\n",
       "      <td>61.315608</td>\n",
       "      <td>32.186042</td>\n",
       "      <td>56.844110</td>\n",
       "      <td>43.008391</td>\n",
       "      <td>328.354566</td>\n",
       "    </tr>\n",
       "    <tr>\n",
       "      <th>min</th>\n",
       "      <td>20.000000</td>\n",
       "      <td>1300.000000</td>\n",
       "      <td>1.000000</td>\n",
       "      <td>1.00000</td>\n",
       "      <td>1872.000000</td>\n",
       "      <td>1950.000000</td>\n",
       "      <td>0.000000</td>\n",
       "      <td>0.000000</td>\n",
       "      <td>0.000000</td>\n",
       "      <td>0.000000</td>\n",
       "      <td>...</td>\n",
       "      <td>1900.000000</td>\n",
       "      <td>0.000000</td>\n",
       "      <td>0.000000</td>\n",
       "      <td>0.000000</td>\n",
       "      <td>0.000000</td>\n",
       "      <td>0.000000</td>\n",
       "      <td>0.000000</td>\n",
       "      <td>0.000000</td>\n",
       "      <td>0.000000</td>\n",
       "      <td>0.000000</td>\n",
       "    </tr>\n",
       "    <tr>\n",
       "      <th>25%</th>\n",
       "      <td>20.000000</td>\n",
       "      <td>7589.000000</td>\n",
       "      <td>5.000000</td>\n",
       "      <td>5.00000</td>\n",
       "      <td>1953.500000</td>\n",
       "      <td>1966.000000</td>\n",
       "      <td>0.000000</td>\n",
       "      <td>0.000000</td>\n",
       "      <td>0.000000</td>\n",
       "      <td>221.500000</td>\n",
       "      <td>...</td>\n",
       "      <td>1961.000000</td>\n",
       "      <td>1.000000</td>\n",
       "      <td>349.500000</td>\n",
       "      <td>0.000000</td>\n",
       "      <td>0.000000</td>\n",
       "      <td>0.000000</td>\n",
       "      <td>0.000000</td>\n",
       "      <td>0.000000</td>\n",
       "      <td>0.000000</td>\n",
       "      <td>0.000000</td>\n",
       "    </tr>\n",
       "    <tr>\n",
       "      <th>50%</th>\n",
       "      <td>50.000000</td>\n",
       "      <td>9600.000000</td>\n",
       "      <td>6.000000</td>\n",
       "      <td>5.00000</td>\n",
       "      <td>1972.000000</td>\n",
       "      <td>1994.000000</td>\n",
       "      <td>0.000000</td>\n",
       "      <td>387.000000</td>\n",
       "      <td>0.000000</td>\n",
       "      <td>474.000000</td>\n",
       "      <td>...</td>\n",
       "      <td>1980.000000</td>\n",
       "      <td>2.000000</td>\n",
       "      <td>484.000000</td>\n",
       "      <td>0.000000</td>\n",
       "      <td>27.000000</td>\n",
       "      <td>0.000000</td>\n",
       "      <td>0.000000</td>\n",
       "      <td>0.000000</td>\n",
       "      <td>0.000000</td>\n",
       "      <td>0.000000</td>\n",
       "    </tr>\n",
       "    <tr>\n",
       "      <th>75%</th>\n",
       "      <td>70.000000</td>\n",
       "      <td>11700.000000</td>\n",
       "      <td>7.000000</td>\n",
       "      <td>6.00000</td>\n",
       "      <td>2001.000000</td>\n",
       "      <td>2004.000000</td>\n",
       "      <td>166.000000</td>\n",
       "      <td>724.000000</td>\n",
       "      <td>0.000000</td>\n",
       "      <td>810.500000</td>\n",
       "      <td>...</td>\n",
       "      <td>2002.000000</td>\n",
       "      <td>2.000000</td>\n",
       "      <td>576.000000</td>\n",
       "      <td>168.000000</td>\n",
       "      <td>74.000000</td>\n",
       "      <td>0.000000</td>\n",
       "      <td>0.000000</td>\n",
       "      <td>0.000000</td>\n",
       "      <td>0.000000</td>\n",
       "      <td>0.000000</td>\n",
       "    </tr>\n",
       "    <tr>\n",
       "      <th>max</th>\n",
       "      <td>190.000000</td>\n",
       "      <td>215245.000000</td>\n",
       "      <td>10.000000</td>\n",
       "      <td>9.00000</td>\n",
       "      <td>2010.000000</td>\n",
       "      <td>2010.000000</td>\n",
       "      <td>1378.000000</td>\n",
       "      <td>5644.000000</td>\n",
       "      <td>1127.000000</td>\n",
       "      <td>2336.000000</td>\n",
       "      <td>...</td>\n",
       "      <td>2010.000000</td>\n",
       "      <td>4.000000</td>\n",
       "      <td>1418.000000</td>\n",
       "      <td>857.000000</td>\n",
       "      <td>547.000000</td>\n",
       "      <td>552.000000</td>\n",
       "      <td>508.000000</td>\n",
       "      <td>480.000000</td>\n",
       "      <td>738.000000</td>\n",
       "      <td>8300.000000</td>\n",
       "    </tr>\n",
       "  </tbody>\n",
       "</table>\n",
       "<p>8 rows × 33 columns</p>\n",
       "</div>"
      ],
      "text/plain": [
       "        MSSubClass        LotArea  OverallQual  OverallCond    YearBuilt  \\\n",
       "count  1095.000000    1095.000000  1095.000000   1095.00000  1095.000000   \n",
       "mean     57.118721   10747.046575     6.129680      5.56895  1971.107763   \n",
       "std      42.624531   11065.878057     1.366746      1.10448    30.605697   \n",
       "min      20.000000    1300.000000     1.000000      1.00000  1872.000000   \n",
       "25%      20.000000    7589.000000     5.000000      5.00000  1953.500000   \n",
       "50%      50.000000    9600.000000     6.000000      5.00000  1972.000000   \n",
       "75%      70.000000   11700.000000     7.000000      6.00000  2001.000000   \n",
       "max     190.000000  215245.000000    10.000000      9.00000  2010.000000   \n",
       "\n",
       "       YearRemodAdd   MasVnrArea   BsmtFinSF1   BsmtFinSF2    BsmtUnfSF  ...  \\\n",
       "count   1095.000000  1091.000000  1095.000000  1095.000000  1095.000000  ...   \n",
       "mean    1984.854795   103.368469   448.178082    43.790868   568.794521  ...   \n",
       "std       20.732472   171.644715   457.898505   153.896464   444.865511  ...   \n",
       "min     1950.000000     0.000000     0.000000     0.000000     0.000000  ...   \n",
       "25%     1966.000000     0.000000     0.000000     0.000000   221.500000  ...   \n",
       "50%     1994.000000     0.000000   387.000000     0.000000   474.000000  ...   \n",
       "75%     2004.000000   166.000000   724.000000     0.000000   810.500000  ...   \n",
       "max     2010.000000  1378.000000  5644.000000  1127.000000  2336.000000  ...   \n",
       "\n",
       "       GarageYrBlt   GarageCars   GarageArea   WoodDeckSF  OpenPorchSF  \\\n",
       "count  1037.000000  1095.000000  1095.000000  1095.000000  1095.000000   \n",
       "mean   1978.694311     1.784475   477.539726    96.194521    49.633790   \n",
       "std      24.810675     0.733836   210.563755   130.396336    69.134174   \n",
       "min    1900.000000     0.000000     0.000000     0.000000     0.000000   \n",
       "25%    1961.000000     1.000000   349.500000     0.000000     0.000000   \n",
       "50%    1980.000000     2.000000   484.000000     0.000000    27.000000   \n",
       "75%    2002.000000     2.000000   576.000000   168.000000    74.000000   \n",
       "max    2010.000000     4.000000  1418.000000   857.000000   547.000000   \n",
       "\n",
       "       EnclosedPorch    3SsnPorch  ScreenPorch     PoolArea      MiscVal  \n",
       "count    1095.000000  1095.000000  1095.000000  1095.000000  1095.000000  \n",
       "mean       21.118721     3.918721    15.917808     3.152511    40.529680  \n",
       "std        61.315608    32.186042    56.844110    43.008391   328.354566  \n",
       "min         0.000000     0.000000     0.000000     0.000000     0.000000  \n",
       "25%         0.000000     0.000000     0.000000     0.000000     0.000000  \n",
       "50%         0.000000     0.000000     0.000000     0.000000     0.000000  \n",
       "75%         0.000000     0.000000     0.000000     0.000000     0.000000  \n",
       "max       552.000000   508.000000   480.000000   738.000000  8300.000000  \n",
       "\n",
       "[8 rows x 33 columns]"
      ]
     },
     "execution_count": 6,
     "metadata": {},
     "output_type": "execute_result"
    }
   ],
   "source": [
    "X_train.describe()"
   ]
  },
  {
   "cell_type": "code",
   "execution_count": 7,
   "metadata": {},
   "outputs": [
    {
     "data": {
      "text/plain": [
       "count      1095.000000\n",
       "mean     181712.286758\n",
       "std       77955.082565\n",
       "min       34900.000000\n",
       "25%      130000.000000\n",
       "50%      165000.000000\n",
       "75%      215000.000000\n",
       "max      745000.000000\n",
       "Name: SalePrice, dtype: float64"
      ]
     },
     "execution_count": 7,
     "metadata": {},
     "output_type": "execute_result"
    }
   ],
   "source": [
    "y_train.describe()"
   ]
  },
  {
   "cell_type": "code",
   "execution_count": 8,
   "metadata": {},
   "outputs": [],
   "source": [
    "# Let's just use the continuous variables\n",
    "\n",
    "# Grab only numeric features\n",
    "cont_features = [col for col in X_train.columns if X_train[col].dtype in [np.float64, np.int64]]\n",
    "\n",
    "X_train_cont = X_train[cont_features]\n",
    "X_test_cont = X_test[cont_features]\n",
    "\n",
    "# Impute missing values with 0 using SimpleImputer\n",
    "# (most columns look like they just don't have details)\n",
    "impute = SimpleImputer(strategy='constant', fill_value=0) \n",
    "X_train_imputed = impute.fit_transform(X_train_cont)\n",
    "X_test_imputed = impute.transform(X_test_cont) \n",
    "\n",
    "# Scale the train and test data\n",
    "scaler = StandardScaler()\n",
    "X_train_imputed_scaled = scaler.fit_transform(X_train_imputed)\n",
    "X_test_imputed_scaled = scaler.transform(X_test_imputed)"
   ]
  },
  {
   "cell_type": "code",
   "execution_count": 9,
   "metadata": {},
   "outputs": [],
   "source": [
    "# # Now time for the categorical columns\n",
    "\n",
    "# # Create X_cat which contains only the categorical variables\n",
    "# features_cat = [col for col in X_train.columns if X_train[col].dtype in [np.object]]\n",
    "# X_train_cat = X_train[features_cat]\n",
    "# X_test_cat = X_test[features_cat]\n",
    "\n",
    "# # Fill missing values with the string 'missing'\n",
    "# X_train_cat.fillna(value='missing', inplace=True)\n",
    "# X_test_cat.fillna(value='missing', inplace=True)"
   ]
  },
  {
   "cell_type": "code",
   "execution_count": 10,
   "metadata": {
    "scrolled": false
   },
   "outputs": [],
   "source": [
    "# # Exploring column percentages\n",
    "\n",
    "# # Let's remove any column where the most common value is more than 90% of that col\n",
    "# cols_to_remove = []\n",
    "# for col in X_train_cat.columns:\n",
    "#     col_series = X_train_cat[col].value_counts()\n",
    "#     display(col_series /len(X_train_cat)) # percentages\n",
    "\n",
    "#     if col_series[0]/len(X_train_cat) > .9:\n",
    "#         print(f\"You should remove {col}\")\n",
    "#         cols_to_remove.append(col)"
   ]
  },
  {
   "cell_type": "code",
   "execution_count": 11,
   "metadata": {},
   "outputs": [],
   "source": [
    "# # Now drop those\n",
    "# X_train_cat = X_train_cat.drop(columns=cols_to_remove, axis=1)\n",
    "# X_test_cat = X_test_cat.drop(columns=cols_to_remove, axis=1)"
   ]
  },
  {
   "cell_type": "code",
   "execution_count": 12,
   "metadata": {},
   "outputs": [],
   "source": [
    "# # OneHotEncode categorical variables\n",
    "# ohe = OneHotEncoder(handle_unknown='ignore')\n",
    "\n",
    "# X_train_ohe = ohe.fit_transform(X_train_cat)\n",
    "# X_test_ohe = ohe.transform(X_test_cat)\n",
    "\n",
    "# # Convert these columns into a DataFrame \n",
    "# ohe_col_names = ohe.get_feature_names(input_features=X_train_cat.columns)\n",
    "# cat_train_df = pd.DataFrame(X_train_ohe.todense(), columns=ohe_col_names)\n",
    "# cat_test_df = pd.DataFrame(X_test_ohe.todense(), columns=ohe_col_names)"
   ]
  },
  {
   "cell_type": "code",
   "execution_count": 13,
   "metadata": {},
   "outputs": [
    {
     "data": {
      "text/plain": [
       "LinearRegression()"
      ]
     },
     "execution_count": 13,
     "metadata": {},
     "output_type": "execute_result"
    }
   ],
   "source": [
    "# # Put it all back together\n",
    "# X_train_all = pd.concat([pd.DataFrame(X_train_imputed_scaled), cat_train_df], axis=1)\n",
    "# X_test_all = pd.concat([pd.DataFrame(X_test_imputed_scaled), cat_test_df], axis=1)\n",
    "\n",
    "# Fitting the model\n",
    "linreg = LinearRegression()\n",
    "linreg.fit(X_train_imputed_scaled, y_train)"
   ]
  },
  {
   "cell_type": "code",
   "execution_count": 14,
   "metadata": {},
   "outputs": [],
   "source": [
    "# Write a quick evaluation function\n",
    "\n",
    "def evaluate(train_actual, train_predicted, test_actual, test_predicted):\n",
    "    '''\n",
    "    Takes in both actual and predicted values, for the train and test set\n",
    "    Then prints the scores based on those values\n",
    "    \n",
    "    Inputs:\n",
    "    -------\n",
    "    train_actual - actual target values for the train set\n",
    "    train_predicted - predicted target values for the train set\n",
    "    test_actual - actual target values for the test set\n",
    "    test_predicted - predicted target values for the test set\n",
    "    '''\n",
    "    print('Train R2:', r2_score(train_actual, train_predicted))\n",
    "    print('Test R2:', r2_score(test_actual, test_predicted))\n",
    "    print(\"*****\")\n",
    "    print('Train MSE:', mean_squared_error(train_actual, train_predicted))\n",
    "    print('Test MSE:', mean_squared_error(test_actual, test_predicted))\n",
    "    print(\"*****\")\n",
    "    print('Train RMSE:', mean_squared_error(train_actual, train_predicted, squared=False))\n",
    "    print('Test RMSE:', mean_squared_error(test_actual, test_predicted, squared=False))"
   ]
  },
  {
   "cell_type": "code",
   "execution_count": 15,
   "metadata": {
    "scrolled": false
   },
   "outputs": [
    {
     "name": "stdout",
     "output_type": "stream",
     "text": [
      "Train R2: 0.8069081146348778\n",
      "Test R2: 0.8310927786436166\n",
      "*****\n",
      "Train MSE: 1172346787.1667256\n",
      "Test MSE: 1183247286.7733538\n",
      "*****\n",
      "Train RMSE: 34239.550043286574\n",
      "Test RMSE: 34398.361687344266\n"
     ]
    }
   ],
   "source": [
    "# Grab predictions\n",
    "train_preds = linreg.predict(X_train_imputed_scaled)\n",
    "test_preds = linreg.predict(X_test_imputed_scaled)\n",
    "\n",
    "evaluate(y_train, train_preds, y_test, test_preds)"
   ]
  },
  {
   "cell_type": "code",
   "execution_count": 16,
   "metadata": {},
   "outputs": [],
   "source": [
    "residuals_train = y_train - train_preds\n",
    "residuals_test = y_test - test_preds"
   ]
  },
  {
   "cell_type": "code",
   "execution_count": 17,
   "metadata": {},
   "outputs": [
    {
     "data": {
      "text/plain": [
       "Text(0.5, 0, 'Predicted Values')"
      ]
     },
     "execution_count": 17,
     "metadata": {},
     "output_type": "execute_result"
    },
    {
     "data": {
      "image/png": "[encoded data removed]",
      "text/plain": [
       "<Figure size 432x288 with 1 Axes>"
      ]
     },
     "metadata": {
      "needs_background": "light"
     },
     "output_type": "display_data"
    }
   ],
   "source": [
    "plt.scatter(train_preds, residuals_train, alpha=.75)\n",
    "plt.scatter(test_preds, residuals_test, color='g', alpha=.75)\n",
    "\n",
    "plt.axhline(y=0, color='black')\n",
    "\n",
    "plt.title('Residuals for Linear Regression Model')\n",
    "plt.ylabel('Residuals')\n",
    "plt.xlabel('Predicted Values')"
   ]
  },
  {
   "cell_type": "code",
   "execution_count": 18,
   "metadata": {},
   "outputs": [
    {
     "data": {
      "text/plain": [
       "array([-7.71758860e+03,  4.26882649e+03,  2.43947025e+04,  4.69010930e+03,\n",
       "        1.03717695e+04,  2.73934965e+03,  3.21792499e+03,  3.49536935e+16,\n",
       "        1.17476903e+16,  3.39588196e+16, -3.38835509e+16, -3.37283746e+16,\n",
       "       -3.84200262e+16, -4.26792005e+15,  4.59553772e+16,  6.02302723e+03,\n",
       "       -2.32492692e+02,  1.88664832e+03, -9.41953695e+02, -7.28333204e+03,\n",
       "       -3.30156514e+03,  8.47695446e+03,  3.21973369e+03, -6.72950034e+03,\n",
       "        1.32507252e+04,  8.70085238e+02,  3.04782702e+03, -1.12286264e+03,\n",
       "        2.20714546e+02,  1.43832989e+03,  3.71560727e+03, -1.16155325e+03,\n",
       "       -6.75489580e+02])"
      ]
     },
     "execution_count": 18,
     "metadata": {},
     "output_type": "execute_result"
    }
   ],
   "source": [
    "linreg.coef_"
   ]
  },
  {
   "cell_type": "code",
   "execution_count": 31,
   "metadata": {},
   "outputs": [
    {
     "name": "stdout",
     "output_type": "stream",
     "text": [
      "Intercept: 181728.12612814867\n"
     ]
    },
    {
     "data": {
      "text/plain": [
       "GrLivArea        4.595538e+16\n",
       "BsmtFinSF1       3.495369e+16\n",
       "BsmtUnfSF        3.395882e+16\n",
       "BsmtFinSF2       1.174769e+16\n",
       "OverallQual      2.439470e+04\n",
       "GarageCars       1.325073e+04\n",
       "YearBuilt        1.037177e+04\n",
       "TotRmsAbvGrd     8.476954e+03\n",
       "BsmtFullBath     6.023027e+03\n",
       "OverallCond      4.690109e+03\n",
       "LotArea          4.268826e+03\n",
       "ScreenPorch      3.715607e+03\n",
       "Fireplaces       3.219734e+03\n",
       "MasVnrArea       3.217925e+03\n",
       "WoodDeckSF       3.047827e+03\n",
       "YearRemodAdd     2.739350e+03\n",
       "FullBath         1.886648e+03\n",
       "3SsnPorch        1.438330e+03\n",
       "GarageArea       8.700852e+02\n",
       "EnclosedPorch    2.207145e+02\n",
       "BsmtHalfBath    -2.324927e+02\n",
       "MiscVal         -6.754896e+02\n",
       "HalfBath        -9.419537e+02\n",
       "OpenPorchSF     -1.122863e+03\n",
       "PoolArea        -1.161553e+03\n",
       "KitchenAbvGr    -3.301565e+03\n",
       "GarageYrBlt     -6.729500e+03\n",
       "BedroomAbvGr    -7.283332e+03\n",
       "MSSubClass      -7.717589e+03\n",
       "LowQualFinSF    -4.267920e+15\n",
       "1stFlrSF        -3.372837e+16\n",
       "TotalBsmtSF     -3.388355e+16\n",
       "2ndFlrSF        -3.842003e+16\n",
       "dtype: float64"
      ]
     },
     "metadata": {},
     "output_type": "display_data"
    }
   ],
   "source": [
    "# Explore coefficients\n",
    "print(f\"Intercept: {linreg.intercept_}\")\n",
    "\n",
    "coefs = pd.Series(linreg.coef_, index= X_train_cont.columns)\n",
    "display(coefs.sort_values(ascending=False))"
   ]
  },
  {
   "cell_type": "markdown",
   "metadata": {},
   "source": [
    "**Evaluate**\n",
    "\n",
    "- \n"
   ]
  },
  {
   "cell_type": "markdown",
   "metadata": {},
   "source": [
    "## Fitting Ridge and Lasso\n",
    "\n",
    "* https://scikit-learn.org/stable/modules/generated/sklearn.linear_model.Lasso.html\n",
    "* https://scikit-learn.org/stable/modules/generated/sklearn.linear_model.Ridge.html"
   ]
  },
  {
   "cell_type": "markdown",
   "metadata": {},
   "source": [
    "### LASSO"
   ]
  },
  {
   "cell_type": "code",
   "execution_count": 20,
   "metadata": {},
   "outputs": [
    {
     "name": "stdout",
     "output_type": "stream",
     "text": [
      "Train R2: 0.8068837772699294\n",
      "Test R2: 0.8310540526127361\n",
      "*****\n",
      "Train MSE: 1172494550.1426334\n",
      "Test MSE: 1183518574.588042\n",
      "*****\n",
      "Train RMSE: 34241.70775739191\n",
      "Test RMSE: 34402.304785988425\n"
     ]
    }
   ],
   "source": [
    "from sklearn.linear_model import Lasso\n",
    "\n",
    "lasso = Lasso() # Lasso is also known as the L1 norm \n",
    "lasso.fit(X_train_imputed_scaled, y_train)\n",
    "\n",
    "lasso_train_preds = lasso.predict(X_train_imputed_scaled)\n",
    "lasso_test_preds = lasso.predict(X_test_imputed_scaled)\n",
    "\n",
    "evaluate(y_train, lasso_train_preds, y_test, lasso_test_preds)"
   ]
  },
  {
   "cell_type": "code",
   "execution_count": 21,
   "metadata": {},
   "outputs": [
    {
     "name": "stdout",
     "output_type": "stream",
     "text": [
      "Train R2: 0.8068831254902733\n",
      "Test R2: 0.8310588651469658\n",
      "*****\n",
      "Train MSE: 1172498507.3870533\n",
      "Test MSE: 1183484861.2984385\n",
      "*****\n",
      "Train RMSE: 34241.76554132473\n",
      "Test RMSE: 34401.8147965836\n"
     ]
    }
   ],
   "source": [
    "lasso_v2 = Lasso(alpha=10) # adjusting HYPERPARAMETERS -- check documentation!\n",
    "lasso_v2.fit(X_train_imputed_scaled, y_train)\n",
    "\n",
    "lasso_train_preds_v2 = lasso_v2.predict(X_train_imputed_scaled)\n",
    "lasso_test_preds_v2 = lasso_v2.predict(X_test_imputed_scaled)\n",
    "\n",
    "evaluate(y_train, lasso_train_preds_v2, y_test, lasso_test_preds_v2)"
   ]
  },
  {
   "cell_type": "code",
   "execution_count": 22,
   "metadata": {},
   "outputs": [
    {
     "name": "stdout",
     "output_type": "stream",
     "text": [
      "Total number of coefficients:  33\n",
      "Coefficients close to zero:  2\n"
     ]
    }
   ],
   "source": [
    "# Check Lasso Coefficients\n",
    "\n",
    "print(\"Total number of coefficients: \", len(lasso_v2.coef_))\n",
    "print(\"Coefficients close to zero: \", sum(abs(lasso_v2.coef_) < 10**(-10)))"
   ]
  },
  {
   "cell_type": "markdown",
   "metadata": {},
   "source": [
    "### Ridge"
   ]
  },
  {
   "cell_type": "code",
   "execution_count": 24,
   "metadata": {
    "scrolled": true
   },
   "outputs": [
    {
     "name": "stdout",
     "output_type": "stream",
     "text": [
      "Train R2: 0.8068411586151042\n",
      "Test R2: 0.8310847084101078\n",
      "*****\n",
      "Train MSE: 1172753306.9669466\n",
      "Test MSE: 1183303821.2532074\n",
      "*****\n",
      "Train RMSE: 34245.48593562291\n",
      "Test RMSE: 34399.18343875633\n"
     ]
    }
   ],
   "source": [
    "from sklearn.linear_model import Ridge\n",
    "\n",
    "ridge = Ridge(alpha=10) # Ridge is also known as the L2 norm\n",
    "ridge.fit(X_train_imputed_scaled, y_train)\n",
    "\n",
    "ridge_train_preds = ridge.predict(X_train_imputed_scaled)\n",
    "ridge_test_preds = ridge.predict(X_test_imputed_scaled)\n",
    "\n",
    "evaluate(y_train, ridge_train_preds, y_test, ridge_test_preds)"
   ]
  },
  {
   "cell_type": "code",
   "execution_count": 25,
   "metadata": {},
   "outputs": [
    {
     "name": "stdout",
     "output_type": "stream",
     "text": [
      "Total number of coefficients:  33\n",
      "Coefficients close to zero:  0\n"
     ]
    }
   ],
   "source": [
    "# Check Lasso Coefficients\n",
    "\n",
    "print(\"Total number of coefficients: \", len(ridge.coef_))\n",
    "print(\"Coefficients close to zero: \", sum(abs(ridge.coef_) < 10**(-10)))"
   ]
  },
  {
   "cell_type": "markdown",
   "metadata": {},
   "source": [
    "### Let's Discuss\n",
    "\n",
    "- \n"
   ]
  },
  {
   "cell_type": "markdown",
   "metadata": {},
   "source": [
    "## Ridge & Lasso: Other benefits\n",
    "\n",
    "### Ridge:\n",
    "* We can \"shrink down\" prediction variables effects instead of deleting/zeroing them\n",
    "* When you have features with high multicollinearity, the coefficients are automatically spread across them (you won't have redundancy)\n",
    "* Since includes all features it can be computationally expensive (for many variables)\n",
    "\n",
    "### Lasso:\n",
    "* When you have a lot of variables it performs feature selection for you!\n",
    "* Multicollinearity is also dealt with\n"
   ]
  },
  {
   "cell_type": "markdown",
   "metadata": {},
   "source": [
    "### Por que no los dos??\n",
    "\n",
    "Enter ElasticNet: https://scikit-learn.org/stable/modules/generated/sklearn.linear_model.ElasticNet.html"
   ]
  },
  {
   "cell_type": "code",
   "execution_count": null,
   "metadata": {},
   "outputs": [],
   "source": []
  }
 ],
 "metadata": {
  "kernelspec": {
   "display_name": "learn-env",
   "language": "python",
   "name": "learn-env"
  },
  "language_info": {
   "codemirror_mode": {
    "name": "ipython",
    "version": 3
   },
   "file_extension": ".py",
   "mimetype": "text/x-python",
   "name": "python",
   "nbconvert_exporter": "python",
   "pygments_lexer": "ipython3",
   "version": "3.8.5"
  }
 },
 "nbformat": 4,
 "nbformat_minor": 4
}
