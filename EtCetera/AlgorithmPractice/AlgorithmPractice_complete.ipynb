{
 "cells": [
  {
   "cell_type": "markdown",
   "metadata": {},
   "source": [
    "# Sorting a Sentence\n",
    "\n",
    "Given a shuffled sentence `s` with numerical indices attached to words, return the original sentence.\n",
    "\n",
    "#### Example:\n",
    "\n",
    "`s = 'golf4 playing3 love2 I1'`\n",
    "\n",
    "> 'I love playing golf'\n",
    "\n",
    "#### Constraints\n",
    "- `s` consists of at least one word and at maximum 9 words.\n",
    "- The words in `s` are separated by a single space."
   ]
  },
  {
   "cell_type": "code",
   "execution_count": 1,
   "metadata": {},
   "outputs": [],
   "source": [
    "s = 'golf4 playing3 love2 I1'"
   ]
  },
  {
   "cell_type": "code",
   "execution_count": 2,
   "metadata": {},
   "outputs": [],
   "source": [
    "def rebuild_sentance(s):\n",
    "    '''\n",
    "    Takes in a jumbled sentance, where the numeric index is the last character,\n",
    "    and returns the unjumbled sentance\n",
    "    \n",
    "    Input:\n",
    "    s: str, jumbled string, with numbered indices attached to words\n",
    "    \n",
    "    Output:\n",
    "    sentance: str, unjumbled string, without numbers\n",
    "    '''\n",
    "    # Grabbing the index and word without number in a dictionary\n",
    "    order_dict = {int(w[-1]):w[:-1] for w in s.split()}\n",
    "    \n",
    "#     # In a longer for loop\n",
    "#     order_dict = {}\n",
    "#     for w in s.split():\n",
    "#         order = int(w[-1])\n",
    "#         word = w[:-1]\n",
    "#         order_dict[order] = word\n",
    "\n",
    "    # Grabbing the list of words in the sentance unjumbled\n",
    "    sentance_list = [order_dict[x] for x in sorted(order_dict.keys())]\n",
    "    \n",
    "#     # In a longer for loop\n",
    "#     sentance_list = []\n",
    "#     for x in sorted(order_dict.keys()):\n",
    "#         sentance_list.append(order_dict[x])\n",
    "\n",
    "    # Turning the sentance into one single string\n",
    "    sentance = \" \".join(sentance_list)\n",
    "    return sentance"
   ]
  },
  {
   "cell_type": "code",
   "execution_count": 3,
   "metadata": {},
   "outputs": [],
   "source": [
    "# Solution from Claude\n",
    "# def sort_sentence(s):\n",
    "#     '''\n",
    "#     My idea is to sort in a single loop and then `' '.join()` at the end.\n",
    "#     I will use the number attached as the index where the word belongs.\n",
    "#     '''\n",
    "#     words = ['' for _ in s.split()]\n",
    "#     for element in s.split():\n",
    "#         word, idx = element[:-1], int(element[-1]) # Extracting the word and number by slicing.\n",
    "#         # Inserting the word into the given index (since it's 1-9, I use `idx-1` for proper indexing)\n",
    "#         words[idx-1] = word\n",
    "#     return ' '.join(words)"
   ]
  },
  {
   "cell_type": "code",
   "execution_count": 4,
   "metadata": {},
   "outputs": [
    {
     "data": {
      "text/plain": [
       "'I love playing golf'"
      ]
     },
     "execution_count": 4,
     "metadata": {},
     "output_type": "execute_result"
    }
   ],
   "source": [
    "rebuild_sentance(s)"
   ]
  },
  {
   "cell_type": "markdown",
   "metadata": {},
   "source": [
    "#### Tests"
   ]
  },
  {
   "cell_type": "code",
   "execution_count": 5,
   "metadata": {},
   "outputs": [],
   "source": [
    "s_test1 = 'is4 data2 Doing1 best6 the5 science3'"
   ]
  },
  {
   "cell_type": "code",
   "execution_count": 6,
   "metadata": {},
   "outputs": [
    {
     "data": {
      "text/plain": [
       "'Doing data science is the best'"
      ]
     },
     "execution_count": 6,
     "metadata": {},
     "output_type": "execute_result"
    }
   ],
   "source": [
    "rebuild_sentance(s_test1)"
   ]
  },
  {
   "cell_type": "code",
   "execution_count": 7,
   "metadata": {},
   "outputs": [],
   "source": [
    "s_test2 = 'out9 long5 to7 is2 a3 try8 really4 This1 sentence6'"
   ]
  },
  {
   "cell_type": "code",
   "execution_count": 8,
   "metadata": {},
   "outputs": [
    {
     "data": {
      "text/plain": [
       "'This is a really long sentence to try out'"
      ]
     },
     "execution_count": 8,
     "metadata": {},
     "output_type": "execute_result"
    }
   ],
   "source": [
    "rebuild_sentance(s_test2)"
   ]
  },
  {
   "cell_type": "markdown",
   "metadata": {},
   "source": [
    "-----"
   ]
  },
  {
   "cell_type": "markdown",
   "metadata": {},
   "source": [
    "# Negative Numbers in a Matrix\n",
    "\n",
    "Given a matrix of shape (m, n) which is sorted in non-increasing order (both rows & columns), return the number of negative numbers in the matrix.\n",
    "\n",
    "#### Example:\n",
    "\n",
    "`matrix = [[1, -1], [-1, -1]]`\n",
    "\n",
    "> 3\n",
    "\n",
    "#### Constraints\n",
    "\n",
    "The matrix will be at least shape (1, 1) \n",
    "eg: [[-5]]\n",
    "\n",
    "#### Tests:\n",
    "\n",
    "`matrix_test1 = [[4, 3, 2, -1], [3, 2, 1, -1], [1, 1, -1, -2], [-1, -1, -2, -3]]`\n",
    "> 8\n",
    "\n",
    "`matrix_test2 = [[3, 2], [1, 0]]`\n",
    "> 0\n"
   ]
  },
  {
   "cell_type": "code",
   "execution_count": 9,
   "metadata": {},
   "outputs": [],
   "source": [
    "matrix = [[1, -1], [-1, -1]]"
   ]
  },
  {
   "cell_type": "code",
   "execution_count": 22,
   "metadata": {},
   "outputs": [],
   "source": [
    "def count_negatives(matrix):\n",
    "    '''\n",
    "    Counts the number of negative numbers in an (m,n) size matrix\n",
    "    \n",
    "    Input:\n",
    "    matrix: list of lists of ints\n",
    "    \n",
    "    Output:\n",
    "    num_negative: int, the number of negative values\n",
    "    '''\n",
    "    num_negative = 0\n",
    "    for layer in matrix:\n",
    "        for x in layer:\n",
    "            if x < 0:\n",
    "                num_negative += 1\n",
    "\n",
    "    return num_negative"
   ]
  },
  {
   "cell_type": "code",
   "execution_count": null,
   "metadata": {},
   "outputs": [],
   "source": [
    "# Solution from Claude\n",
    "\n",
    "# def negative_numbers(matrix):\n",
    "#     ''' \n",
    "#     While not strictly necessary, we can optimize the search based on the fact\n",
    "#     that the matrix is ordered high->low.\n",
    "#     '''\n",
    "#     num_negative = 0\n",
    "#     for row in matrix[::-1]:\n",
    "#         for n in row[::-1]:\n",
    "#             if n < 0:\n",
    "#                 num_negative += 1\n",
    "#             else:\n",
    "#                 # Stop searching that row after we find any non-negative number.\n",
    "#                 break\n",
    "#     return num_negative"
   ]
  },
  {
   "cell_type": "code",
   "execution_count": 24,
   "metadata": {},
   "outputs": [
    {
     "data": {
      "text/plain": [
       "3"
      ]
     },
     "execution_count": 24,
     "metadata": {},
     "output_type": "execute_result"
    }
   ],
   "source": [
    "count_negatives(matrix)"
   ]
  },
  {
   "cell_type": "markdown",
   "metadata": {},
   "source": [
    "#### Tests"
   ]
  },
  {
   "cell_type": "code",
   "execution_count": 25,
   "metadata": {},
   "outputs": [],
   "source": [
    "matrix_test1 = [[4, 3, 2, -1], [3, 2, 1, -1], [1, 1, -1, -2], [-1, -1, -2, -3]]"
   ]
  },
  {
   "cell_type": "code",
   "execution_count": 26,
   "metadata": {},
   "outputs": [
    {
     "data": {
      "text/plain": [
       "8"
      ]
     },
     "execution_count": 26,
     "metadata": {},
     "output_type": "execute_result"
    }
   ],
   "source": [
    "count_negatives(matrix_test1)"
   ]
  },
  {
   "cell_type": "code",
   "execution_count": 27,
   "metadata": {},
   "outputs": [],
   "source": [
    "matrix_test2 = [[3, 2], [1, 0]]"
   ]
  },
  {
   "cell_type": "code",
   "execution_count": 28,
   "metadata": {},
   "outputs": [
    {
     "data": {
      "text/plain": [
       "0"
      ]
     },
     "execution_count": 28,
     "metadata": {},
     "output_type": "execute_result"
    }
   ],
   "source": [
    "count_negatives(matrix_test2)"
   ]
  },
  {
   "cell_type": "markdown",
   "metadata": {},
   "source": [
    "-----"
   ]
  },
  {
   "cell_type": "markdown",
   "metadata": {},
   "source": [
    "# In-Flight Movies\n",
    "\n",
    "Given a list of movie lengths (in minutes: int) and a flight time (int), return a boolean if there are two movies that can be played back-to-back to equal the length of the flight.\n",
    "\n",
    "#### Example :\n",
    "\n",
    "`movies = [120, 80, 50, 90]`\n",
    "\n",
    "`flight = 200`\n",
    "\n",
    "> True (120 + 80 = 200)\n",
    "\n",
    "#### Constraints\n",
    "\n",
    "- Each movie in the list can be counted only once (you cannot watch the same movie twice)\n",
    "- The length of the list of movies >= 2\n",
    "- The length of the flight > 0"
   ]
  },
  {
   "cell_type": "code",
   "execution_count": 46,
   "metadata": {},
   "outputs": [],
   "source": [
    "movies = [120, 80, 50, 90]\n",
    "flight = 200"
   ]
  },
  {
   "cell_type": "code",
   "execution_count": 54,
   "metadata": {},
   "outputs": [],
   "source": [
    "def find_inflight_movie_pair(flight_time, movies_lengths):\n",
    "    '''\n",
    "    Finds whether there are a pair of movies that perfectly match the flight time\n",
    "    \n",
    "    Inputs:\n",
    "    flight_time: int, length of the flight\n",
    "    movie_lenghts: list of ints, representing the movie options' lengths\n",
    "    \n",
    "    Output:\n",
    "    boolean - whether two movies would perfectly take up the flight time\n",
    "    '''\n",
    "    for x in movies_lengths:\n",
    "        # First, find the time you'd have leftover after watching the movie\n",
    "        leftover_time = flight_time - x\n",
    "\n",
    "        # Find the remaining movie times\n",
    "        leftover_movies = movies_lengths.copy()\n",
    "        leftover_movies.remove(x)\n",
    "\n",
    "        # Figure out if the leftover time matches a remaining movie time\n",
    "        if leftover_time in leftover_movies:\n",
    "            # Once you've found one pair, we can stop\n",
    "            return True\n",
    "    return False"
   ]
  },
  {
   "cell_type": "code",
   "execution_count": 55,
   "metadata": {},
   "outputs": [
    {
     "data": {
      "text/plain": [
       "True"
      ]
     },
     "execution_count": 55,
     "metadata": {},
     "output_type": "execute_result"
    }
   ],
   "source": [
    "find_inflight_movie_pair(flight, movies)"
   ]
  },
  {
   "cell_type": "code",
   "execution_count": null,
   "metadata": {},
   "outputs": [],
   "source": [
    "# Solution from Claude\n",
    "\n",
    "# def in_flight_movies(movie_times, flight_length):\n",
    "#     '''\n",
    "#     My trick here to optimize is using a set and searching *what we've seen so far*\n",
    "#     rather than *what we haven't seen yet.* This reduces the O() complexity.\n",
    "#     '''\n",
    "#     times_we_searched = {}\n",
    "#     for time in movie_times:\n",
    "#         diff = flight_length - time\n",
    "#         if diff in times_we_searched:\n",
    "#             return True\n",
    "#     return False"
   ]
  },
  {
   "cell_type": "markdown",
   "metadata": {},
   "source": [
    "#### Tests"
   ]
  },
  {
   "cell_type": "code",
   "execution_count": 57,
   "metadata": {},
   "outputs": [],
   "source": [
    "movies_test1 = [80, 40, 40, 100, 130]\n",
    "\n",
    "flight_test1 = 160"
   ]
  },
  {
   "cell_type": "code",
   "execution_count": 58,
   "metadata": {},
   "outputs": [
    {
     "data": {
      "text/plain": [
       "False"
      ]
     },
     "execution_count": 58,
     "metadata": {},
     "output_type": "execute_result"
    }
   ],
   "source": [
    "find_inflight_movie_pair(flight_test1, movies_test1)"
   ]
  },
  {
   "cell_type": "code",
   "execution_count": 59,
   "metadata": {},
   "outputs": [],
   "source": [
    "movies_test2 = [80, 90, 100, 35, 145, 80]\n",
    "\n",
    "flight_test2 = 160"
   ]
  },
  {
   "cell_type": "code",
   "execution_count": 60,
   "metadata": {},
   "outputs": [
    {
     "data": {
      "text/plain": [
       "True"
      ]
     },
     "execution_count": 60,
     "metadata": {},
     "output_type": "execute_result"
    }
   ],
   "source": [
    "find_inflight_movie_pair(flight_test2, movies_test2)"
   ]
  },
  {
   "cell_type": "code",
   "execution_count": 61,
   "metadata": {},
   "outputs": [],
   "source": [
    "movies_test3 = [40, 50]\n",
    "\n",
    "flight_test3 = 50"
   ]
  },
  {
   "cell_type": "code",
   "execution_count": 62,
   "metadata": {},
   "outputs": [
    {
     "data": {
      "text/plain": [
       "False"
      ]
     },
     "execution_count": 62,
     "metadata": {},
     "output_type": "execute_result"
    }
   ],
   "source": [
    "find_inflight_movie_pair(flight_test3, movies_test3)"
   ]
  },
  {
   "cell_type": "markdown",
   "metadata": {},
   "source": [
    "-----"
   ]
  },
  {
   "cell_type": "markdown",
   "metadata": {},
   "source": [
    "# Incrementing a String\n",
    "Given a string, return a new string with an increased increment by one.\n",
    "\n",
    "#### Example:\n",
    "\n",
    "`s = 'string0099'`\n",
    "\n",
    "> 'string0100'\n",
    "\n",
    "\n",
    "#### Constraints:\n",
    "\n",
    "- Some strings end with a number. In this case, the number should be increased by one.\n",
    "- Some strings do not end with a number. In this case, the number `1` should be added to the end of the string."
   ]
  },
  {
   "cell_type": "code",
   "execution_count": 64,
   "metadata": {},
   "outputs": [],
   "source": [
    "s = 'string0099'"
   ]
  },
  {
   "cell_type": "code",
   "execution_count": 117,
   "metadata": {},
   "outputs": [],
   "source": [
    "# First, find the index number where it switches from str to int\n",
    "def increment_string(string):\n",
    "    idx = -1\n",
    "    for c in string[::-1]: # reversing string for ease of use\n",
    "        if c.isnumeric() == False:\n",
    "            # Once it hits a letter, reverts to previous and breaks loop\n",
    "            idx += 1\n",
    "            break\n",
    "        idx -= 1\n",
    "\n",
    "    word = string[:idx]\n",
    "    num = string[idx:]\n",
    "\n",
    "    if not word or not num:\n",
    "        return string + '1'\n",
    "\n",
    "    new_num = str(int(num) + 1)\n",
    "    # might need to add leading zeros\n",
    "    # first check if the new number is smaller than the original\n",
    "    if len(num) > len(new_num):\n",
    "        # if we're missing zeros, add them back on to the string\n",
    "        new_num = '0' * (len(num) - len(new_num)) + new_num\n",
    "\n",
    "    return \"\".join([word, new_num])"
   ]
  },
  {
   "cell_type": "code",
   "execution_count": null,
   "metadata": {},
   "outputs": [],
   "source": [
    "# Solution from Claude\n",
    "\n",
    "# def increment_string(string):\n",
    "#     # Split the string into two parts: word, trailing numbers.\n",
    "#     idx = -1\n",
    "#     for c in string[::-1]:\n",
    "#         if not c.isnumeric():\n",
    "#             idx += 1\n",
    "#             break\n",
    "#         idx -= 1\n",
    "#     word, nums = string[:idx], string[idx:]\n",
    "#     # Satisfies empty strings and no-trailing-numbers strings.\n",
    "#     if not idx or not nums:\n",
    "#         return string + '1'\n",
    "#     # Add number, transform to string, add leading zeros.\n",
    "#     new_num = int(nums) + 1\n",
    "#     return word + ('0' * (len(nums) - len(str(new_num)), 0) + str(new_num)"
   ]
  },
  {
   "cell_type": "code",
   "execution_count": 118,
   "metadata": {},
   "outputs": [
    {
     "data": {
      "text/plain": [
       "'string0100'"
      ]
     },
     "execution_count": 118,
     "metadata": {},
     "output_type": "execute_result"
    }
   ],
   "source": [
    "increment_string(s)"
   ]
  },
  {
   "cell_type": "markdown",
   "metadata": {},
   "source": [
    "#### Tests"
   ]
  },
  {
   "cell_type": "code",
   "execution_count": 120,
   "metadata": {},
   "outputs": [],
   "source": [
    "s_test1 = 'string'"
   ]
  },
  {
   "cell_type": "code",
   "execution_count": 121,
   "metadata": {},
   "outputs": [
    {
     "data": {
      "text/plain": [
       "'string1'"
      ]
     },
     "execution_count": 121,
     "metadata": {},
     "output_type": "execute_result"
    }
   ],
   "source": [
    "increment_string(s_test1)"
   ]
  },
  {
   "cell_type": "code",
   "execution_count": 122,
   "metadata": {},
   "outputs": [],
   "source": [
    "s_test2 = 'string001'"
   ]
  },
  {
   "cell_type": "code",
   "execution_count": 123,
   "metadata": {},
   "outputs": [
    {
     "data": {
      "text/plain": [
       "'string002'"
      ]
     },
     "execution_count": 123,
     "metadata": {},
     "output_type": "execute_result"
    }
   ],
   "source": [
    "increment_string(s_test2)"
   ]
  },
  {
   "cell_type": "code",
   "execution_count": 124,
   "metadata": {},
   "outputs": [],
   "source": [
    "s_test3 = 'string1'"
   ]
  },
  {
   "cell_type": "code",
   "execution_count": 125,
   "metadata": {},
   "outputs": [
    {
     "data": {
      "text/plain": [
       "'string2'"
      ]
     },
     "execution_count": 125,
     "metadata": {},
     "output_type": "execute_result"
    }
   ],
   "source": [
    "increment_string(s_test3)"
   ]
  },
  {
   "cell_type": "code",
   "execution_count": 126,
   "metadata": {},
   "outputs": [],
   "source": [
    "s_test4 = 'string00'"
   ]
  },
  {
   "cell_type": "code",
   "execution_count": 127,
   "metadata": {},
   "outputs": [
    {
     "data": {
      "text/plain": [
       "'string01'"
      ]
     },
     "execution_count": 127,
     "metadata": {},
     "output_type": "execute_result"
    }
   ],
   "source": [
    "increment_string(s_test4)"
   ]
  },
  {
   "cell_type": "code",
   "execution_count": 128,
   "metadata": {},
   "outputs": [],
   "source": [
    "s_test5 = 'string99'"
   ]
  },
  {
   "cell_type": "code",
   "execution_count": 129,
   "metadata": {},
   "outputs": [
    {
     "data": {
      "text/plain": [
       "'string100'"
      ]
     },
     "execution_count": 129,
     "metadata": {},
     "output_type": "execute_result"
    }
   ],
   "source": [
    "increment_string(s_test5)"
   ]
  },
  {
   "cell_type": "code",
   "execution_count": 130,
   "metadata": {},
   "outputs": [],
   "source": [
    "s_test6 = 'string099'"
   ]
  },
  {
   "cell_type": "code",
   "execution_count": 131,
   "metadata": {},
   "outputs": [
    {
     "data": {
      "text/plain": [
       "'string100'"
      ]
     },
     "execution_count": 131,
     "metadata": {},
     "output_type": "execute_result"
    }
   ],
   "source": [
    "increment_string(s_test6)"
   ]
  },
  {
   "cell_type": "code",
   "execution_count": 132,
   "metadata": {},
   "outputs": [],
   "source": [
    "s_test7 = ''"
   ]
  },
  {
   "cell_type": "code",
   "execution_count": 133,
   "metadata": {},
   "outputs": [
    {
     "data": {
      "text/plain": [
       "'1'"
      ]
     },
     "execution_count": 133,
     "metadata": {},
     "output_type": "execute_result"
    }
   ],
   "source": [
    "increment_string(s_test7)"
   ]
  }
 ],
 "metadata": {
  "kernelspec": {
   "display_name": "learn-env",
   "language": "python",
   "name": "learn-env"
  },
  "language_info": {
   "codemirror_mode": {
    "name": "ipython",
    "version": 3
   },
   "file_extension": ".py",
   "mimetype": "text/x-python",
   "name": "python",
   "nbconvert_exporter": "python",
   "pygments_lexer": "ipython3",
   "version": "3.8.5"
  }
 },
 "nbformat": 4,
 "nbformat_minor": 4
}
